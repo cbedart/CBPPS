{
  "cells": [
    {
      "cell_type": "markdown",
      "metadata": {
        "id": "view-in-github",
        "colab_type": "text"
      },
      "source": [
        "<a href=\"https://colab.research.google.com/github/cbedart/CBPPS/blob/2024/EN_CBPPS_part3_comparisons.ipynb\" target=\"_parent\"><img src=\"https://colab.research.google.com/assets/colab-badge.svg\" alt=\"Open In Colab\"/></a>"
      ]
    },
    {
      "cell_type": "markdown",
      "metadata": {
        "id": "PCeLAHmIVfQ0"
      },
      "source": [
        "**<h1><center>Part 3 - Comparisons and tests</center></h1>**"
      ]
    },
    {
      "cell_type": "markdown",
      "metadata": {
        "id": "BjmgDHeiZsTx"
      },
      "source": [
        "---"
      ]
    },
    {
      "cell_type": "markdown",
      "metadata": {
        "id": "dN-E532UH3Uw"
      },
      "source": [
        "#**➤ Comparisons**\n",
        "\n",
        "- Comparisons allow you to check the relationship between two values\n",
        "- Fundamental for knowing if two values ​​are equal, if one is bigger/smaller, or if they differ.\n",
        "- Comparison operators always return a Boolean value: `True` or `False`.\n",
        "- Allows you to build a set of conditions to play a key role in decision-making.\n",
        "- Applicable with both numeric elements (int/float) as well as strings and booleans\n",
        "- For strings, larger/smaller takes alphabetical order as a point of comparison.\n",
        "\n",
        "<br />\n",
        "\n",
        "/!\\ Do not confuse the assignment operator `=` with the comparison operator `==`\n",
        "\n",
        "<br />\n",
        "\n",
        "| Operator | Meaning | Example |\n",
        "|----------|----------------------------|--------------------|\n",
        "| `==` | Equal to | `5 == 5` ➔ `True` |\n",
        "| `!=` | Different from | `5 != 3` ➔ `True` |\n",
        "| `>` | Greater than | `8 > 3` ➔ `True` |\n",
        "| `<` | Smaller than | `4 < 7` ➔ `True` |\n",
        "| `>=` | Greater than or equal to | `6 >= 6` ➔ `True` |\n",
        "| `<=` | Less than or equal to | `2 <= 5` ➔ `True` |"
      ]
    },
    {
      "cell_type": "code",
      "execution_count": null,
      "metadata": {
        "id": "ZpVRt7B0K0go"
      },
      "outputs": [],
      "source": [
        "x = 12\n",
        "y = 16.3\n",
        "\n",
        "print(\"x == y ➔\", x == y)\n",
        "print(\"x != y ➔\", x != y)\n",
        "print(\"x > y  ➔\", x > y)\n",
        "print(\"x < y  ➔\", x < y)\n",
        "print(\"x >= y ➔\", x >= y)\n",
        "print(\"x <= y ➔\", x <= y)"
      ]
    },
    {
      "cell_type": "code",
      "execution_count": null,
      "metadata": {
        "id": "bfjaEoeJA00V"
      },
      "outputs": [],
      "source": [
        "food = \"hazelnut\"\n",
        "\n",
        "print(food == \"nuts\")\n",
        "print(food == \"hazelnutt\")\n",
        "print(food == \"hazelnut\")"
      ]
    },
    {
      "cell_type": "code",
      "execution_count": null,
      "metadata": {
        "id": "Fx84ts55KTfI"
      },
      "outputs": [],
      "source": [
        "print(food >= \"apricot\")\n",
        "print(food >= \"orange\")"
      ]
    },
    {
      "cell_type": "markdown",
      "metadata": {
        "id": "b_BeIXcGIJrc"
      },
      "source": [
        "### **Logical operators**\n",
        "\n",
        "- Logical operators allow you to combine several conditions to create more complex expressions\n",
        "- Allows you to check if all conditions are true, if at least one is true, or to reverse the result of the condition\n",
        "\n",
        "<br />\n",
        "\n",
        "| Operator | Description | Example | Result |\n",
        "|---------------|----------------------------------------------|--------------------------------------|------------------|\n",
        "| `and` | True if all conditions are true | `(5 > 3) and (3 > 1)` | `True` |\n",
        "| `or` | True if at least one condition is true | `(5 < 3) or (3 > 1)` | `True` |\n",
        "| `not` | Inverts the condition value | `not(5 > 3)` | `False` |\n",
        "| `in` | True if the element is in the sequence | `'a' in 'apple'` | `True` |\n",
        "| `not in` | True if the element is not in the sequence | `'b' not in 'apple'` | `True` |\n",
        "| `is` | True if the two objects are identical (same memory address) | `a is b` | `False` |\n",
        "| `is not` | True if the two objects are different | `a is not b` | `False` |"
      ]
    },
    {
      "cell_type": "code",
      "execution_count": null,
      "metadata": {
        "id": "LP5_VqrELjjk"
      },
      "outputs": [],
      "source": [
        "True and True"
      ]
    },
    {
      "cell_type": "code",
      "execution_count": null,
      "metadata": {
        "id": "4ebVbXZZLlCc"
      },
      "outputs": [],
      "source": [
        "True and False"
      ]
    },
    {
      "cell_type": "code",
      "execution_count": null,
      "metadata": {
        "id": "Z1B63qdYLmiy"
      },
      "outputs": [],
      "source": [
        "True or False"
      ]
    },
    {
      "cell_type": "code",
      "execution_count": null,
      "metadata": {
        "id": "T0KCibvULoZw"
      },
      "outputs": [],
      "source": [
        "not True"
      ]
    },
    {
      "cell_type": "code",
      "execution_count": null,
      "metadata": {
        "id": "q-KnQMBILwQ0"
      },
      "outputs": [],
      "source": [
        "not True or False"
      ]
    },
    {
      "cell_type": "code",
      "execution_count": null,
      "metadata": {
        "id": "hqAmaUaCLpjX"
      },
      "outputs": [],
      "source": [
        "not (not True or False)"
      ]
    },
    {
      "cell_type": "code",
      "execution_count": null,
      "metadata": {
        "id": "F4jxLITDTfxL"
      },
      "outputs": [],
      "source": [
        "x is x"
      ]
    },
    {
      "cell_type": "code",
      "execution_count": null,
      "metadata": {
        "id": "OTB_bd2uL504"
      },
      "outputs": [],
      "source": [
        "list1 = [\"hazelnuts\", \"apples\", \"oranges\", \"pears\"]\n",
        "\n",
        "print(\"apples\" in list1)\n",
        "print(\"apricots\" in list1)\n",
        "print(\"apricots\" not in list1 and \"apples\" in list1)"
      ]
    },
    {
      "cell_type": "markdown",
      "metadata": {
        "id": "mZgBX5X7PZXm"
      },
      "source": [
        "<br />\n",
        "\n",
        "---   "
      ]
    },
    {
      "cell_type": "markdown",
      "metadata": {
        "id": "ly9dTRY_JD3f"
      },
      "source": [
        "# **➤ Tests**\n",
        "\n",
        "- Essential element to add complexity to a program\n",
        "- Allows you to execute different actions depending on the values ​​encountered and the comparisons used\n",
        "- Use of `if`, `else`, and/or `elif` instructions to respond to all situations\n",
        "    - `if` = Checks a condition. If it is `True`, the next block executes\n",
        "    - `elif` = Abbreviation of \"else if\". Allows you to check an additional condition if the initial `if` condition is `False`.\n",
        "    - `else` = Only triggers if all previous conditions are `False`, making it the \"default\" option."
      ]
    },
    {
      "cell_type": "code",
      "execution_count": null,
      "metadata": {
        "id": "z4yGC0WmP9Hl"
      },
      "outputs": [],
      "source": [
        "x = 20\n",
        "\n",
        "if x > 20:\n",
        "    print(f\"{x} is strictly greater than 20\")\n",
        "elif x < 20:\n",
        "    print(f\"{x} is strictly less than 20\")\n",
        "else:\n",
        "    print(f\"{x} is equal to 20\")"
      ]
    },
    {
      "cell_type": "markdown",
      "metadata": {
        "id": "5tU5tDFNLHDr"
      },
      "source": [
        "### **/!\\ Python indentation is essential for this type of instructions /!\\**\n",
        "\n",
        "- Indentation is not used to give style and readability to the code, but is essential for the structure of the code and its proper functioning\n",
        "- Some languages ​​(R or bash for example) use braces `{}` or keywords. Python uses this indentation to indicate hierarchical levels between statements.\n",
        "- Each block related to a conditional statement, loop or function must be indented for Python to understand the logic.\n",
        "\n",
        "<br />\n",
        "\n",
        "**Indentation rules:**\n",
        "- Use of spaces = In general, use of 4 spaces per level.\n",
        "- Consistent = Essential to maintain the same consistency in the indentation\n",
        "- Most often code editors (Google Colab, VSCode, PyCharm, etc.) support automatic indentation with 2 or 4 spaces by default.\n",
        "- The major risk is obtaining `IntentationError` syntax errors or unexpected behavior of the code because it is interpreted differently"
      ]
    },
    {
      "cell_type": "code",
      "execution_count": null,
      "metadata": {
        "id": "HdgjpmXYRP93"
      },
      "outputs": [],
      "source": [
        "if x == 20:\n",
        "print(\"20 !\")"
      ]
    },
    {
      "cell_type": "code",
      "execution_count": null,
      "metadata": {
        "id": "ZZFwhncARpQp"
      },
      "outputs": [],
      "source": [
        "if x == 20:\n",
        "    print(\"20 !\")\n",
        "else:\n",
        "  print(\"Not 20\")"
      ]
    },
    {
      "cell_type": "code",
      "execution_count": null,
      "metadata": {
        "id": "Xb-AQlrHReaM"
      },
      "outputs": [],
      "source": [
        "if x == 20:\n",
        "\tprint(\"The value is...\")\n",
        "    print(\"20!\")"
      ]
    },
    {
      "cell_type": "markdown",
      "metadata": {
        "id": "Y2Zc4-5BSLRQ"
      },
      "source": [
        "### **Multiple case tests, and chained tests**\n",
        "\n",
        "- It is possible to test whether the condition is true or false in a single statement.\n",
        "- It is also possible to chain several instructions in a row, while paying attention to the identification of each instruction block."
      ]
    },
    {
      "cell_type": "code",
      "execution_count": null,
      "metadata": {
        "id": "SRwsTi8spsuc"
      },
      "outputs": [],
      "source": [
        "x = 12\n",
        "y = 16.3\n",
        "\n",
        "if x > 20 and y > 20:\n",
        "    print(f\"{x} and {y} both are greater than 20\")\n",
        "elif (x > 20) or (y > 20):\n",
        "    print(f\"{x} or {y} is greater than 20\")\n",
        "else:\n",
        "    print(f\"{x} and {y} are less than 20\")"
      ]
    },
    {
      "cell_type": "code",
      "execution_count": null,
      "metadata": {
        "id": "6GcAPOvbpRLE"
      },
      "outputs": [],
      "source": [
        "x = 12\n",
        "\n",
        "if x > 20:\n",
        "    print(f\"{x} is strictly greater than 20\")\n",
        "    if x > 200:\n",
        "        print(f\"{x} is really big\")\n",
        "\n",
        "elif x < 20:\n",
        "    print(f\"{x} is strictly less than 20\")\n",
        "    if x < 0:\n",
        "        print(f\"{x} is negative\")\n",
        "else:\n",
        "    print(f\"{x} is equal to 20\")"
      ]
    },
    {
      "cell_type": "markdown",
      "metadata": {
        "id": "PpRkCoMzqFeM"
      },
      "source": [
        "### **Ternary conditional operator**\n",
        "\n",
        "- Stylish way (even if the name is incomprehensible) to say that we are doing a comparative test on a single line\n",
        "- Simplifies the syntax and can be very practical in certain conditions\n",
        "- /!\\ We cannot use `elif`, but we can chain comparisons\n",
        "- Will be very useful in the case of loops, mixed among other things with lists"
      ]
    },
    {
      "cell_type": "code",
      "execution_count": null,
      "metadata": {
        "id": "F0nGod1mqYPe"
      },
      "outputs": [],
      "source": [
        "# Instead of:\n",
        "\n",
        "x = 12\n",
        "if x > 20:\n",
        "    answer = \"Superior\"\n",
        "else:\n",
        "    answer = \"Less than or equal\"\n",
        "print(answer)"
      ]
    },
    {
      "cell_type": "code",
      "execution_count": null,
      "metadata": {
        "id": "ogYtztgcqpNv"
      },
      "outputs": [],
      "source": [
        "# We can do:\n",
        "\n",
        "x = 12\n",
        "answer = \"Greater\" if x > 20 else \"Less than or equal\"\n",
        "print(answer)"
      ]
    },
    {
      "cell_type": "code",
      "execution_count": null,
      "metadata": {
        "id": "ltKuu_FMrTL3"
      },
      "outputs": [],
      "source": [
        "# Can be even more complex:\n",
        "x = 12\n",
        "answer = \"Higher\" if x > 20 else \"Lower\" if x < 20 else \"Equal\"\n",
        "print(answer)"
      ]
    },
    {
      "cell_type": "markdown",
      "metadata": {
        "id": "4TGZGN1sPYCb"
      },
      "source": [
        "<br />\n",
        "\n",
        "---   "
      ]
    },
    {
      "cell_type": "markdown",
      "metadata": {
        "id": "unKC7kePPS3n"
      },
      "source": [
        "# **➤ Exercises**"
      ]
    },
    {
      "cell_type": "markdown",
      "metadata": {
        "id": "XX5t2I2oLOzh"
      },
      "source": [
        "**<u>Exercise 1:</u>**\n",
        "1. Create a code that provides information on the temperature based on the weather:\n",
        "    - Less than 0°C = It’s freezing cold!\n",
        "    - Between 1°C and 15°C = It’s cold!\n",
        "    - Between 16°C and 30°C = It’s hot!\n",
        "    - Between 31°C and 41°C = It’s very hot!\n",
        "    - Above 45°C = It is extremely hot!\n",
        "\n",
        "2. Do the same thing...but in one line"
      ]
    },
    {
      "cell_type": "code",
      "execution_count": null,
      "metadata": {
        "id": "2GOdHhUiL8rL"
      },
      "outputs": [],
      "source": [
        "# Exercise 1 - Part 1:\n",
        "\n"
      ]
    },
    {
      "cell_type": "code",
      "execution_count": null,
      "metadata": {
        "id": "rfWYnuJXrxiZ"
      },
      "outputs": [],
      "source": [
        "# Exercise 1 -Part 2:\n",
        "\n"
      ]
    },
    {
      "cell_type": "markdown",
      "metadata": {
        "id": "PGdm3ATCgytm"
      },
      "source": [
        "**<u>Exercise 2:</u>**You have a listing of medications with different dosages `listing_medicaments`.\n",
        "\n",
        "1. Using two variables, `medication_name` and `medication_dosage`, create a small script that allows you to check if you have this medication in the requested dosage.\n",
        "2. In the case where a dosage does not exist, but it is possible to potentially divide or double the dose, add to your script the ability to say \"*The dosage does not exist, but you can take. ..*\". Test your script with 250mg of Paracetamol.\n",
        "3. Modify your script again to add this type of information even if the processing exists, to offer alternatives in the event of a break, for example \"*You can also take...*\""
      ]
    },
    {
      "cell_type": "code",
      "execution_count": null,
      "metadata": {
        "id": "0pAXw7SnjVc-"
      },
      "outputs": [],
      "source": [
        "listing_medicaments = [\"Paracetamol - 100mg\", \"Paracetamol - 200mg\", \"Paracetamol - 500mg\", \"Paracetamol - 1000mg\",\n",
        "    \"Ibuprofen - 100mg\", \"Ibuprofen - 200mg\", \"Ibuprofen - 400mg\",\n",
        "    \"Amoxicillin - 500mg\", \"Amoxicillin - 1000mg\",\n",
        "    \"Aspirin - 250mg\", \"Aspirin - 500mg\", \"Aspirin - 1000mg\",\n",
        "]"
      ]
    },
    {
      "cell_type": "code",
      "execution_count": null,
      "metadata": {
        "id": "WDz_xLWhlkgA"
      },
      "outputs": [],
      "source": [
        "# Exercise 2 - Part 1:\n",
        "\n"
      ]
    },
    {
      "cell_type": "code",
      "execution_count": null,
      "metadata": {
        "id": "_uZA38dNlnGY"
      },
      "outputs": [],
      "source": [
        "# Exercise 2 - Part 2:\n",
        "\n"
      ]
    },
    {
      "cell_type": "code",
      "execution_count": null,
      "metadata": {
        "id": "Oavyx7EWmbkh"
      },
      "outputs": [],
      "source": [
        "# Exercise 2 - Part 3:\n",
        "\n"
      ]
    },
    {
      "cell_type": "markdown",
      "metadata": {
        "id": "I9zfwWDGOTug"
      },
      "source": [
        "**<u>Exercise 3:</u>**You had created a previous list called `seasons`, including 4 lists `winter`, `spring`, `summer`, and `fall`.\n",
        "1. Using comparisons, how to get the season of a month? The output should be like `January is a winter month`\n",
        "2. By giving the month number, how to get its name and season? The output should be like `Month 1 is January, in winter`\n",
        "3. By giving a string as input (for example `12/01`) instead of a classic month name, and using the variable `days_per_month`, how to obtain the number of days since the start of the year, and the number of days remaining until next year? If a month name is used instead, the script should run the code created in part 2 instead."
      ]
    },
    {
      "cell_type": "code",
      "execution_count": null,
      "metadata": {
        "id": "TjkRYHhWO6kZ"
      },
      "outputs": [],
      "source": [
        "#Exercise 3:\n",
        "winter = [\"January\", \"February\", \"March\"]\n",
        "spring = [\"April\", \"May\", \"June\"]\n",
        "summer = [\"July\", \"August\", \"September\"]\n",
        "autumn = [\"October\", \"November\", \"December\"]\n",
        "\n",
        "seasons = [winter, spring, summer, autumn]"
      ]
    },
    {
      "cell_type": "code",
      "execution_count": null,
      "metadata": {
        "id": "VEQsoC6ZQqP1"
      },
      "outputs": [],
      "source": [
        "# Exercise 3 - Part 1:\n",
        "\n",
        "\n"
      ]
    },
    {
      "cell_type": "code",
      "execution_count": null,
      "metadata": {
        "id": "KM66CMsAQr_b"
      },
      "outputs": [],
      "source": [
        "# Exercise 3 - Part 2:\n",
        "\n",
        "\n"
      ]
    },
    {
      "cell_type": "code",
      "execution_count": null,
      "metadata": {
        "id": "aSvr-pu5Qt1j"
      },
      "outputs": [],
      "source": [
        "# Exercise 3 - Part 3:\n",
        "days_per_month = [31, 28, 31, 30, 31, 30, 31, 31, 30, 31, 30, 31]\n",
        "\n",
        "\n"
      ]
    }
  ],
  "metadata": {
    "colab": {
      "provenance": [],
      "include_colab_link": true
    },
    "kernelspec": {
      "display_name": "Python 3",
      "name": "python3"
    },
    "language_info": {
      "name": "python"
    }
  },
  "nbformat": 4,
  "nbformat_minor": 0
}