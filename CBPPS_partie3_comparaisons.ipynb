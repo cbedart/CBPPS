{
  "nbformat": 4,
  "nbformat_minor": 0,
  "metadata": {
    "colab": {
      "provenance": [],
      "authorship_tag": "ABX9TyPHwWlIk4xIfiZTh/pb+Vjo",
      "include_colab_link": true
    },
    "kernelspec": {
      "name": "python3",
      "display_name": "Python 3"
    },
    "language_info": {
      "name": "python"
    }
  },
  "cells": [
    {
      "cell_type": "markdown",
      "metadata": {
        "id": "view-in-github",
        "colab_type": "text"
      },
      "source": [
        "<a href=\"https://colab.research.google.com/github/cbedart/CBPPS/blob/2024/CBPPS_partie3_comparaisons.ipynb\" target=\"_parent\"><img src=\"https://colab.research.google.com/assets/colab-badge.svg\" alt=\"Open In Colab\"/></a>"
      ]
    },
    {
      "cell_type": "markdown",
      "source": [
        "**<h1><center>Partie 3 - Comparaisons et tests</center></h1>**"
      ],
      "metadata": {
        "id": "PCeLAHmIVfQ0"
      }
    },
    {
      "cell_type": "markdown",
      "source": [
        "---"
      ],
      "metadata": {
        "id": "BjmgDHeiZsTx"
      }
    },
    {
      "cell_type": "markdown",
      "source": [
        "# **➤ Comparaisons**\n",
        "\n",
        "- Les comparaisons permettent de vérifier la relation entre deux valeurs\n",
        "- Fondamental pour savoir si deux valeurs sont égales, si l'une est plus grande/petite, ou si elles diffèrent.\n",
        "- Les opérateurs de comparaison retournent toujours une valeur de type booléen : True (vrai) ou False (faux.)\n",
        "- Permet de contruire un jeu de conditions pour jouer un rôle clé dans la prise de décision.\n",
        "- Applicable aussi bien avec les éléments numériques (int/float) que les strings et booléens\n",
        "- Pour les strings, plus grand/petit prend comme point de comparaison l'ordre alphabétique.\n",
        "<br />\n",
        "\n",
        "/!\\ Ne pas confondre l'opérateur d'affectation `=` avec l'opérateur de comparaison `==`\n",
        "\n",
        "<br />\n",
        "\n",
        "| Opérateur | Signification            | Exemple           |\n",
        "|-----------|---------------------------|--------------------|\n",
        "| `==`      | Égal à                    | `5 == 5` ➔ `True` |\n",
        "| `!=`      | Différent de              | `5 != 3` ➔ `True` |\n",
        "| `>`       | Plus grand que            | `8 > 3` ➔ `True`  |\n",
        "| `<`       | Plus petit que            | `4 < 7` ➔ `True`  |\n",
        "| `>=`      | Plus grand ou égal à      | `6 >= 6` ➔ `True` |\n",
        "| `<=`      | Plus petit ou égal à      | `2 <= 5` ➔ `True` |\n",
        "\n",
        "\n"
      ],
      "metadata": {
        "id": "dN-E532UH3Uw"
      }
    },
    {
      "cell_type": "code",
      "source": [
        "x = 12\n",
        "y = 16.3\n",
        "\n",
        "print(\"x == y ➔\", x == y)\n",
        "print(\"x != y ➔\", x != y)\n",
        "print(\"x > y  ➔\", x > y)\n",
        "print(\"x < y  ➔\", x < y)\n",
        "print(\"x >= y ➔\", x >= y)\n",
        "print(\"x <= y ➔\", x <= y)"
      ],
      "metadata": {
        "id": "ZpVRt7B0K0go"
      },
      "execution_count": null,
      "outputs": []
    },
    {
      "cell_type": "code",
      "execution_count": null,
      "metadata": {
        "id": "bfjaEoeJA00V"
      },
      "outputs": [],
      "source": [
        "aliment = \"noisette\"\n",
        "\n",
        "print(aliment == \"noix\")\n",
        "print(aliment == \"noiset\")\n",
        "print(aliment == \"noisette\")"
      ]
    },
    {
      "cell_type": "code",
      "source": [
        "print(aliment >= \"abricot\")\n",
        "print(aliment >= \"pomme\")"
      ],
      "metadata": {
        "id": "Fx84ts55KTfI"
      },
      "execution_count": null,
      "outputs": []
    },
    {
      "cell_type": "markdown",
      "source": [
        "### **Opérateurs logiques**\n",
        "\n",
        "- Les opérateurs logiques permettent de combiner plusieurs conditions pour créer des expressions plus complexes\n",
        "- Permet de vérifier si toutes les conditions sont vraies, si au moins l'une est vraie, ou d'inverser le résultat de la condition\n",
        "\n",
        "<br />\n",
        "\n",
        "| Opérateur | Description                                 | Exemple                               | Résultat         |\n",
        "|-----------|---------------------------------------------|---------------------------------------|------------------|\n",
        "| `and`     | Vrai si toutes les conditions sont vraies   | `(5 > 3) and (3 > 1)`                | `True`          |\n",
        "| `or`      | Vrai si au moins une condition est vraie    | `(5 < 3) or (3 > 1)`                 | `True`          |\n",
        "| `not`     | Inverse la valeur de la condition           | `not(5 > 3)`                         | `False`         |\n",
        "| `in`       | Vrai si l'élément est dans la séquence         | `'a' in 'apple'`         | `True`           |\n",
        "| `not in`   | Vrai si l'élément n'est pas dans la séquence   | `'b' not in 'apple'`     | `True`           |\n",
        "| `is`       | Vrai si les deux objets sont identiques (même adresse mémoire)        | `a is b`                 | `False` |\n",
        "| `is not`   | Vrai si les deux objets sont différents        | `a is not b`             | `False` |"
      ],
      "metadata": {
        "id": "b_BeIXcGIJrc"
      }
    },
    {
      "cell_type": "code",
      "source": [
        "True and True"
      ],
      "metadata": {
        "id": "LP5_VqrELjjk"
      },
      "execution_count": null,
      "outputs": []
    },
    {
      "cell_type": "code",
      "source": [
        "True and False"
      ],
      "metadata": {
        "id": "4ebVbXZZLlCc"
      },
      "execution_count": null,
      "outputs": []
    },
    {
      "cell_type": "code",
      "source": [
        "True or False"
      ],
      "metadata": {
        "id": "Z1B63qdYLmiy"
      },
      "execution_count": null,
      "outputs": []
    },
    {
      "cell_type": "code",
      "source": [
        "not True"
      ],
      "metadata": {
        "id": "T0KCibvULoZw"
      },
      "execution_count": null,
      "outputs": []
    },
    {
      "cell_type": "code",
      "source": [
        "not True or False"
      ],
      "metadata": {
        "id": "q-KnQMBILwQ0"
      },
      "execution_count": null,
      "outputs": []
    },
    {
      "cell_type": "code",
      "source": [
        "not (not True or False)"
      ],
      "metadata": {
        "id": "hqAmaUaCLpjX"
      },
      "execution_count": null,
      "outputs": []
    },
    {
      "cell_type": "code",
      "source": [
        "x is x"
      ],
      "metadata": {
        "id": "F4jxLITDTfxL"
      },
      "execution_count": null,
      "outputs": []
    },
    {
      "cell_type": "code",
      "source": [
        "liste1 = [\"noisettes\", \"pommes\", \"oranges\", \"poires\"]\n",
        "\n",
        "print(\"pommes\" in liste1)\n",
        "print(\"abricots\" in liste1)\n",
        "print(\"abricots\" not in liste1 and \"pommes\" in liste1)"
      ],
      "metadata": {
        "id": "OTB_bd2uL504"
      },
      "execution_count": null,
      "outputs": []
    },
    {
      "cell_type": "markdown",
      "source": [
        "<br />\n",
        "\n",
        "---   "
      ],
      "metadata": {
        "id": "mZgBX5X7PZXm"
      }
    },
    {
      "cell_type": "markdown",
      "source": [
        "# **➤ Tests**\n",
        "\n",
        "- Element essentiel pour donner de la complexité à un programme\n",
        "- Permet d'exécuter différentes actions en fonction des valeurs rencontrées et des comparaisons utilisées\n",
        "- Utilisation des instructions `if`, `else`, et/ou `elif`, pour répondre à toutes les situations\n",
        "    - `if` = Vérifie une condition. Si elle est `True`, le bloc suivant s'exécute\n",
        "    - `elif` = Abbréviation de \"else if\". Permet de vérifier une condition supplémentaire si la condition `if` initiale est `False`.\n",
        "    - `else` = Se déclenche uniquement si toutes les conditions précédentes sont `False`, ce qui en fait l'option \"par défaut\".\n",
        "\n",
        "\n",
        "\n",
        "\n"
      ],
      "metadata": {
        "id": "ly9dTRY_JD3f"
      }
    },
    {
      "cell_type": "code",
      "source": [
        "x = 20\n",
        "\n",
        "if x > 20:\n",
        "    print(f\"{x} est strictement supérieur à 20\")\n",
        "elif x < 20:\n",
        "    print(f\"{x} est strictement inférieur à 20\")\n",
        "else:\n",
        "    print(f\"{x} est égal à 20\")"
      ],
      "metadata": {
        "id": "z4yGC0WmP9Hl"
      },
      "execution_count": null,
      "outputs": []
    },
    {
      "cell_type": "markdown",
      "source": [
        "### **/!\\ L'identation en python est primordiale pour ce type d'instructions /!\\**\n",
        "\n",
        "- L'identation ne sert pas à donner du style et de la lisibilité au code, mais est indispensable pour la structure du code et son bon fonctionnement\n",
        "- Certains langages (R ou bash par exemple) utilisent des accolades `{}` ou des mots clés. Python utilise cette indentation pour indiquer niveaux hiérarchiques entre les instructions.\n",
        "- Chaque bloc lié à une instruction conditionnelle, une boucle ou une fonction doit être indentépour que Python comprenne la logique.\n",
        "\n",
        "<br />\n",
        "\n",
        "**Règles d'indentation:**\n",
        "- Utilisation d'espaces = En général, utilisation de 4 espaces par niveau.\n",
        "- Consistante = Primordial de maintenir la même consistance dans l'indentation\n",
        "- Le plus souvent les éditeurs de code (Google Colab, VSCode, PyCharm, etc.) prennent en charge l'indentation automatique avec 2 ou 4 espaces par défaut.\n",
        "- Le risque majeur est l'obtention d'erreurs de syntaxe `IntentationError` ou comportement inattendu du code car interprété différemment"
      ],
      "metadata": {
        "id": "5tU5tDFNLHDr"
      }
    },
    {
      "cell_type": "code",
      "source": [
        "if x == 20:\n",
        "print(\"20 !\")"
      ],
      "metadata": {
        "id": "HdgjpmXYRP93"
      },
      "execution_count": null,
      "outputs": []
    },
    {
      "cell_type": "code",
      "source": [
        "if x == 20:\n",
        "    print(\"20 !\")\n",
        "else:\n",
        "  print(\"Pas 20\")"
      ],
      "metadata": {
        "id": "ZZFwhncARpQp"
      },
      "execution_count": null,
      "outputs": []
    },
    {
      "cell_type": "code",
      "source": [
        "if x == 20:\n",
        "\tprint(\"La valeur est...\")\n",
        "    print(\"20 !\")"
      ],
      "metadata": {
        "id": "Xb-AQlrHReaM"
      },
      "execution_count": null,
      "outputs": []
    },
    {
      "cell_type": "markdown",
      "source": [
        "### **Tests à plusieurs cas, et tests enchainés**\n",
        "\n",
        "- Il est possible de tester si la condition est vraie ou fausse dans une seule instruction.\n",
        "- Il est également possible d'enchainer plusieurs instructions à la suite, tout en faisant attention à l'identation de chaque bloc d'instruction."
      ],
      "metadata": {
        "id": "Y2Zc4-5BSLRQ"
      }
    },
    {
      "cell_type": "code",
      "source": [
        "x = 12\n",
        "y = 16.3\n",
        "\n",
        "if x > 20 and y > 20:\n",
        "    print(f\"{x} et {y} spnt tous les deux supérieurs à 20\")\n",
        "elif (x > 20) or (y > 20):\n",
        "    print(f\"{x} ou {y} est supérieur à 20\")\n",
        "else:\n",
        "    print(f\"{x} et {y} sont inférieurs à 20\")"
      ],
      "metadata": {
        "id": "SRwsTi8spsuc"
      },
      "execution_count": null,
      "outputs": []
    },
    {
      "cell_type": "code",
      "source": [
        "x = 12\n",
        "\n",
        "if x > 20:\n",
        "    print(f\"{x} est strictement supérieur à 20\")\n",
        "    if x > 200:\n",
        "        print(f\"{x} est vraiment très grand\")\n",
        "\n",
        "elif x < 20:\n",
        "    print(f\"{x} est strictement inférieur à 20\")\n",
        "    if x < 0:\n",
        "        print(f\"{x} est négatif\")\n",
        "else:\n",
        "    print(f\"{x} est égal à 20\")"
      ],
      "metadata": {
        "id": "6GcAPOvbpRLE"
      },
      "execution_count": null,
      "outputs": []
    },
    {
      "cell_type": "markdown",
      "source": [
        "### **Opérateur conditionnel ternaire**\n",
        "\n",
        "- Manière stylée (même si le nom est incompréhensible) pour dire que l'on fait un test comparatif sur une seule ligne\n",
        "- Simplifie la syntaxe et peut être bien pratique dans certaines conditions\n",
        "- /!\\ On ne peut pas utiliser `elif`, mais on peut enchainer les comparaisons\n",
        "- Sera très utile dans le cas des boucles, mixé entre autres avec les listes"
      ],
      "metadata": {
        "id": "PpRkCoMzqFeM"
      }
    },
    {
      "cell_type": "code",
      "source": [
        "# Au lieu de:\n",
        "\n",
        "x = 12\n",
        "if x > 20:\n",
        "    reponse = \"Supérieur\"\n",
        "else:\n",
        "    reponse = \"Inférieur ou égal\"\n",
        "print(reponse)"
      ],
      "metadata": {
        "id": "F0nGod1mqYPe"
      },
      "execution_count": null,
      "outputs": []
    },
    {
      "cell_type": "code",
      "source": [
        "# On peut faire:\n",
        "\n",
        "x = 12\n",
        "reponse = \"Supérieur\" if x > 20 else \"Inférieur ou égal\"\n",
        "print(reponse)"
      ],
      "metadata": {
        "id": "ogYtztgcqpNv"
      },
      "execution_count": null,
      "outputs": []
    },
    {
      "cell_type": "code",
      "source": [
        "# Peut être encore plus complexe:\n",
        "x = 12\n",
        "reponse = \"Supérieur\" if x > 20 else \"Inférieur\" if x < 20 else \"Égal\"\n",
        "print(reponse)"
      ],
      "metadata": {
        "id": "ltKuu_FMrTL3"
      },
      "execution_count": null,
      "outputs": []
    },
    {
      "cell_type": "markdown",
      "source": [
        "<br />\n",
        "\n",
        "---   "
      ],
      "metadata": {
        "id": "4TGZGN1sPYCb"
      }
    },
    {
      "cell_type": "markdown",
      "source": [
        "# **➤ Exercices**"
      ],
      "metadata": {
        "id": "unKC7kePPS3n"
      }
    },
    {
      "cell_type": "markdown",
      "source": [
        "**<u>Exercice 1 :</u>**\n",
        "1. Créez un code qui permet de donner une information sur la température en fonction de la météo:\n",
        "    - Moins de 0°C = Il fait un froid glacial !\n",
        "    - Entre 1°C et 15°C = Il fait froid !\n",
        "    - Entre 16°C et 30°C = Il fait chaud !\n",
        "    - Entre 31°C et 41°C = Il fait très chaud !\n",
        "    - Au delà de 45°C = Il fait extrêmement chaud !\n",
        "\n",
        "2. Faites la même chose... mais en une seule ligne\n"
      ],
      "metadata": {
        "id": "XX5t2I2oLOzh"
      }
    },
    {
      "cell_type": "code",
      "source": [
        "# Exercice 1 - Partie 1:\n",
        "\n"
      ],
      "metadata": {
        "id": "2GOdHhUiL8rL"
      },
      "execution_count": null,
      "outputs": []
    },
    {
      "cell_type": "code",
      "source": [
        "# Exercice 1 - Partie 2:\n",
        "\n",
        "\"Il fait un froid glacial !\" if x < 0 else \"Il fait froid\" if (x >= 1) and (x <= 15) else \"Il fait chaud\""
      ],
      "metadata": {
        "id": "rfWYnuJXrxiZ"
      },
      "execution_count": null,
      "outputs": []
    },
    {
      "cell_type": "markdown",
      "source": [
        "**<u>Exercice 2 :</u>** Vous avez un listing de médicaments avec des dosages différents `listing_medicaments`.\n",
        "\n",
        "1. A l'aide de deux variables, `medicament_nom` et `medicament_dosage`, créez un petit script qui vous permet de vérifier si vous possédez bien ce médicament dans le dosage demandé.\n",
        "2. Dans le cas où un dosage n'existe pas, mais où il est possible de potentiellement diviser ou multiplier la dose par deux, ajoutez à votre script la possibilité de dire \"*Le dosage n'existe pas, mais vous pouvez prendre...*\". Testez votre script avec 250mg de Paracétamol.\n",
        "3. Modifiez encore votre script pour rajouter ce type d'information même si le traitement existe, pour proposer des alternatives en cas de rupture, par exemple \"*Vous pouvez également prendre...*\""
      ],
      "metadata": {
        "id": "PGdm3ATCgytm"
      }
    },
    {
      "cell_type": "code",
      "source": [
        "listing_medicaments = [\"Paracétamol - 100mg\", \"Paracétamol - 200mg\", \"Paracétamol - 500mg\", \"Paracétamol - 1000mg\",\n",
        "    \"Ibuprofène - 100mg\", \"Ibuprofène - 200mg\", \"Ibuprofène - 400mg\",\n",
        "    \"Amoxicilline - 500mg\", \"Amoxicilline - 1g\",\n",
        "    \"Aspirine - 250mg\", \"Aspirine - 500mg\", \"Aspirine - 1000mg\",\n",
        "]"
      ],
      "metadata": {
        "id": "0pAXw7SnjVc-"
      },
      "execution_count": null,
      "outputs": []
    },
    {
      "cell_type": "code",
      "source": [
        "# Exercice 2 - Partie 1:\n",
        "\n"
      ],
      "metadata": {
        "id": "WDz_xLWhlkgA"
      },
      "execution_count": null,
      "outputs": []
    },
    {
      "cell_type": "code",
      "source": [
        "# Exercice 2 - Partie 2:\n",
        "\n"
      ],
      "metadata": {
        "id": "_uZA38dNlnGY"
      },
      "execution_count": null,
      "outputs": []
    },
    {
      "cell_type": "code",
      "source": [
        "# Exercice 2 - Partie 3:\n",
        "\n"
      ],
      "metadata": {
        "id": "Oavyx7EWmbkh"
      },
      "execution_count": null,
      "outputs": []
    },
    {
      "cell_type": "markdown",
      "source": [
        "**<u>Exercice 3 :</u>** Vous aviez créé une liste précédente appelée `saisons`, comprenant 4 listes `hiver`, `printemps`, `été`, et `automne`.\n",
        "1. En utilisant des comparaisons, comment obtenir la saison d'un mois ? L'output doit être du style `Janvier est un mois de l'hiver`\n",
        "2. En donnant le numéro de mois, comment obtenir son nom et sa saison? L'output doit être du style `Le mois 1 est le mois de Janvier, en hiver`\n",
        "3. En donnant un string en entrée (par exemple `12/01`) au lieu d'un nom de mois classique, et en utilisant la variable `jours_par_mois`, comment obtenir le nombre de jours depuis le début de l'année, et le nombre de jours restant avant l'année prochaine ? Si un nom de mois est utilisé à la place, le script doit exécuter le code créé lors de la partie 2 à la place."
      ],
      "metadata": {
        "id": "I9zfwWDGOTug"
      }
    },
    {
      "cell_type": "code",
      "source": [
        "# Exercice 3:\n",
        "hiver = [\"Janvier\", \"Février\", \"Mars\"]\n",
        "printemps = [\"Avril\", \"Mai\", \"Juin\"]\n",
        "été = [\"Juillet\", \"Août\", \"Septembre\"]\n",
        "automne = [\"Octobre\", \"Novembre\", \"Décembre\"]\n",
        "\n",
        "saisons = [hiver, printemps, été, automne]"
      ],
      "metadata": {
        "id": "TjkRYHhWO6kZ"
      },
      "execution_count": null,
      "outputs": []
    },
    {
      "cell_type": "code",
      "source": [
        "# Exercice 3 - Partie 1:\n",
        "\n",
        "\n"
      ],
      "metadata": {
        "id": "VEQsoC6ZQqP1"
      },
      "execution_count": null,
      "outputs": []
    },
    {
      "cell_type": "code",
      "source": [
        "# Exercice 3 - Partie 2:\n",
        "\n",
        "\n"
      ],
      "metadata": {
        "id": "KM66CMsAQr_b"
      },
      "execution_count": null,
      "outputs": []
    },
    {
      "cell_type": "code",
      "source": [
        "# Exercice 3 - Partie 3:\n",
        "jours_par_mois = [31, 28, 31, 30, 31, 30, 31, 31, 30, 31, 30, 31]\n",
        "\n",
        "\n"
      ],
      "metadata": {
        "id": "aSvr-pu5Qt1j"
      },
      "execution_count": null,
      "outputs": []
    }
  ]
}