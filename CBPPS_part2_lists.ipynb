{
  "cells": [
    {
      "cell_type": "markdown",
      "metadata": {
        "id": "view-in-github",
        "colab_type": "text"
      },
      "source": [
        "<a href=\"https://colab.research.google.com/github/cbedart/CBPPS/blob/2024/CBPPS_part2_lists.ipynb\" target=\"_parent\"><img src=\"https://colab.research.google.com/assets/colab-badge.svg\" alt=\"Open In Colab\"/></a>"
      ]
    },
    {
      "cell_type": "markdown",
      "metadata": {
        "id": "KMHXmIyeZ1ST"
      },
      "source": [
        "**<h1><center>Part 2 - Lists and their manipulation</center></h1>**"
      ]
    },
    {
      "cell_type": "markdown",
      "metadata": {
        "id": "0bY53CbsZxrV"
      },
      "source": [
        "---"
      ]
    },
    {
      "cell_type": "markdown",
      "metadata": {
        "id": "DMgrj8nukQdU"
      },
      "source": [
        "# **➤ Lists**\n",
        "\n",
        "- Data structure containing a collection of objects\n",
        "- Can contain variables, but not only\n",
        "- Sequential object = Contains a sequence of other objects\n",
        "\n",
        "<br />\n",
        "\n",
        "The lists are:\n",
        "- Encoded using brackets `[` and `]`\n",
        "- The series of values ​​is separated by commas `,`"
      ]
    },
    {
      "cell_type": "code",
      "execution_count": null,
      "metadata": {
        "id": "0qcGCkqMmI9W"
      },
      "outputs": [],
      "source": [
        "list1 = [\"hazelnuts\", \"apples\", \"oranges\", \"pears\"]\n",
        "list2 = [12, 54, 29]\n",
        "list3 = [\"ruler\", 14.368, \"disk\", 12]\n",
        "\n",
        "print(list3)"
      ]
    },
    {
      "cell_type": "markdown",
      "metadata": {
        "id": "f6Myw0J14SeO"
      },
      "source": [
        "<br />\n",
        "\n",
        "---   "
      ]
    },
    {
      "cell_type": "markdown",
      "metadata": {
        "id": "OtLtrXAamxU6"
      },
      "source": [
        "### **Order of values**\n",
        "\n",
        "-It is possible to access the different elements by their position = Their index\n",
        "-**/!\\ In python, the first element is always number 0 and the last is number n-1**\n",
        "-It is possible to use negative indices which will be counted from the end, starting from -1\n",
        "\n",
        "`liste1 = [\"hazelnuts\", \"apples\", \"oranges\", \"pears\"]`\n",
        "<br />\n",
        "`Index +: ..... 0 ........ 1 ........ 2 ....... 3`\n",
        "<br />\n",
        "`Index -: .... -4 ....... -3 ....... -2 ...... -1`\n",
        "\n",
        "- If the index is wrong = Error like `IndexError: list index out of range`"
      ]
    },
    {
      "cell_type": "code",
      "execution_count": null,
      "metadata": {
        "id": "hWv17FMmoNi0"
      },
      "outputs": [],
      "source": [
        "print(list1[0])"
      ]
    },
    {
      "cell_type": "code",
      "execution_count": null,
      "metadata": {
        "id": "dz4mLbwIuHdI"
      },
      "outputs": [],
      "source": [
        "print(list1[1])"
      ]
    },
    {
      "cell_type": "code",
      "execution_count": null,
      "metadata": {
        "id": "ccLrvUGjkMv7"
      },
      "outputs": [],
      "source": [
        "print(list1[2])"
      ]
    },
    {
      "cell_type": "code",
      "execution_count": null,
      "metadata": {
        "id": "FUKXJBcVuI5d"
      },
      "outputs": [],
      "source": [
        "print(list1[3])"
      ]
    },
    {
      "cell_type": "code",
      "execution_count": null,
      "metadata": {
        "id": "TPTumMF1uJNY"
      },
      "outputs": [],
      "source": [
        "print(list1[4])"
      ]
    },
    {
      "cell_type": "code",
      "execution_count": null,
      "metadata": {
        "id": "_kkuozv24JMZ"
      },
      "outputs": [],
      "source": [
        "print(list1[-2])"
      ]
    },
    {
      "cell_type": "markdown",
      "metadata": {
        "id": "87qQMP_j4Rfm"
      },
      "source": [
        "<br />\n",
        "\n",
        "---   "
      ]
    },
    {
      "cell_type": "markdown",
      "metadata": {
        "id": "GyQCcoBU4mBM"
      },
      "source": [
        "### **Slices**\n",
        "\n",
        "- Also possible to select part of the list using a sequence of indices in the form `[m:n+1]`\n",
        "- Retrieving all elements starting from index **`m INCLUDED`**\n",
        "- Up to the index **`n+1 EXCLUTED`**\n",
        "- If `m` is not specified, all elements from the beginning will be selected\n",
        "- If `n+1` is not specified, all elements until the end will be selected\n",
        "- You can also specify a `step` in addition to `m` and `n+1` with a 3rd element, of the type `[m:n+1:step]`"
      ]
    },
    {
      "cell_type": "code",
      "execution_count": null,
      "metadata": {
        "id": "o0HqztaY4Y4J"
      },
      "outputs": [],
      "source": [
        "print(list1[0:2])"
      ]
    },
    {
      "cell_type": "code",
      "execution_count": null,
      "metadata": {
        "id": "Wx8Va2Y55G2Z"
      },
      "outputs": [],
      "source": [
        "print(list1[1:])"
      ]
    },
    {
      "cell_type": "code",
      "execution_count": null,
      "metadata": {
        "id": "KHS_vj_Q5I8a"
      },
      "outputs": [],
      "source": [
        "print(list1[:3])"
      ]
    },
    {
      "cell_type": "code",
      "execution_count": null,
      "metadata": {
        "id": "tURMYP-05PVk"
      },
      "outputs": [],
      "source": [
        "print(list1[0:2:2])\n",
        "print(list1[::2])"
      ]
    },
    {
      "cell_type": "markdown",
      "metadata": {
        "id": "N0tkdD734XDS"
      },
      "source": [
        "<br />\n",
        "\n",
        "---   "
      ]
    },
    {
      "cell_type": "markdown",
      "metadata": {
        "id": "4I_WvHzGu0fQ"
      },
      "source": [
        "### **List operations**\n",
        "\n",
        "- Works much the same as strings\n",
        "- Concatenations using `+` : Allows you to merge two lists\n",
        "- Duplications using `*` : Allows you to generate long lists of repeated elements"
      ]
    },
    {
      "cell_type": "code",
      "execution_count": null,
      "metadata": {
        "id": "_ir0yym42Gy0"
      },
      "outputs": [],
      "source": [
        "list1 = [\"hazelnuts\", \"apples\", \"oranges\", \"pears\"]\n",
        "list2 = [\"sugar\", \"milk\", \"flour\"]\n",
        "\n",
        "print(list1 + list2)"
      ]
    },
    {
      "cell_type": "code",
      "execution_count": null,
      "metadata": {
        "id": "1PdHV__k2Ncp"
      },
      "outputs": [],
      "source": [
        "print(list2 *2)"
      ]
    },
    {
      "cell_type": "markdown",
      "metadata": {
        "id": "3Q2bPD_h2inK"
      },
      "source": [
        "- Possibility of adding elements to a list with the `.append()` method associated with lists\n",
        "- This method directly modifies the list, no need to use the `=` symbol\n",
        "- `liste.append(12)` is equivalent to `liste = list + [12]`"
      ]
    },
    {
      "cell_type": "code",
      "execution_count": null,
      "metadata": {
        "id": "GDeL3kAV2pDm"
      },
      "outputs": [],
      "source": [
        "list1.append(\"strawberries\")\n",
        "print(list1)"
      ]
    },
    {
      "cell_type": "markdown",
      "metadata": {
        "id": "AIXCHhs-aQSA"
      },
      "source": [
        "<br />\n",
        "\n",
        "---   "
      ]
    },
    {
      "cell_type": "markdown",
      "metadata": {
        "id": "U41_elUx2XAO"
      },
      "source": [
        "### **Important use of lists:**\n",
        "- Creating an empty list\n",
        "- Adding elements gradually with either `+` or `.append()`"
      ]
    },
    {
      "cell_type": "code",
      "execution_count": null,
      "metadata": {
        "id": "RiJcOf_G3Nf8"
      },
      "outputs": [],
      "source": [
        "list4 = []\n",
        "print(list4)"
      ]
    },
    {
      "cell_type": "code",
      "execution_count": null,
      "metadata": {
        "id": "-KBZjPmF3Rlj"
      },
      "outputs": [],
      "source": [
        "list4 = list4 + [\"Concatenation\"]\n",
        "print(list4)"
      ]
    },
    {
      "cell_type": "code",
      "execution_count": null,
      "metadata": {
        "id": "A9E912IW3YbI"
      },
      "outputs": [],
      "source": [
        "list4.append(12)\n",
        "print(list4)"
      ]
    },
    {
      "cell_type": "markdown",
      "metadata": {
        "id": "n528K84haPdZ"
      },
      "source": [
        "<br />\n",
        "\n",
        "---   "
      ]
    },
    {
      "cell_type": "markdown",
      "metadata": {
        "id": "cgKZOztsmGPG"
      },
      "source": [
        "### **Change an element of a list:**\n",
        "- Simply replace the element that wants to be modified with a new element"
      ]
    },
    {
      "cell_type": "code",
      "execution_count": null,
      "metadata": {
        "id": "UMOlxsfxmNW_"
      },
      "outputs": [],
      "source": [
        "print(list4)\n",
        "\n",
        "list4[1] = 14\n",
        "\n",
        "print(list4)"
      ]
    },
    {
      "cell_type": "markdown",
      "metadata": {
        "id": "nX9smqB0Vfzo"
      },
      "source": [
        "### **Using methods to precisely modify elements in a list:**\n",
        "- `liste.append()` allows you to add an element at the end of the modified list (and only one element!)\n",
        "- `liste.extend()` allows you to add the elements of a list at the end of the modified list.\n",
        "- `liste.insert()` allows you to insert an element at a specific position by giving it an index.\n",
        "- `liste.pop()` allows you to remove an element at a specific position by giving it an index.\n",
        "- `liste.remove()` allows you to remove an element based on its value.\n",
        "- `liste.sort()` allows you to sort the elements of the list according to their value. Default = ascending. To have the descending order, you must use the reverse argument: `liste.sort(reverse=True)`\n",
        "- `liste.reverse()` allows you to completely reverse the order of the list."
      ]
    },
    {
      "cell_type": "code",
      "execution_count": null,
      "metadata": {
        "id": "HTcan4pwVuQx"
      },
      "outputs": [],
      "source": [
        "list4 = [1,2,3,4]\n",
        "list4.append([5,6])\n",
        "print(list4)"
      ]
    },
    {
      "cell_type": "code",
      "execution_count": null,
      "metadata": {
        "id": "PzPXCnsQWoaL"
      },
      "outputs": [],
      "source": [
        "list4 = [1,2,3,4]\n",
        "list4.extend([5,6])\n",
        "print(list4)"
      ]
    },
    {
      "cell_type": "code",
      "execution_count": null,
      "metadata": {
        "id": "-hywZQWeW7x2"
      },
      "outputs": [],
      "source": [
        "list4 = [1,2,3,4]\n",
        "list4.insert(3, \"three little cats\")\n",
        "print(list4)"
      ]
    },
    {
      "cell_type": "code",
      "execution_count": null,
      "metadata": {
        "id": "xIm4CLwcXSn2"
      },
      "outputs": [],
      "source": [
        "list4 = [1,2,3,4]\n",
        "list4.pop(2)\n",
        "print(list4)"
      ]
    },
    {
      "cell_type": "code",
      "execution_count": null,
      "metadata": {
        "id": "hO4kuyaDXcQu"
      },
      "outputs": [],
      "source": [
        "list4 = [1,2,3,4]\n",
        "list4.remove(2)\n",
        "print(list4)"
      ]
    },
    {
      "cell_type": "code",
      "execution_count": null,
      "metadata": {
        "id": "motELz4xgW-N"
      },
      "outputs": [],
      "source": [
        "list4 = [1,5,2,4,3]\n",
        "\n",
        "list4.sort()\n",
        "print(list4)\n",
        "\n",
        "list4.sort(reverse=True)\n",
        "print(list4)"
      ]
    },
    {
      "cell_type": "code",
      "execution_count": null,
      "metadata": {
        "id": "0MjxkfHkgeYU"
      },
      "outputs": [],
      "source": [
        "list4 = [1,2,3,4]\n",
        "list4.reverse()\n",
        "print(list4)"
      ]
    },
    {
      "cell_type": "markdown",
      "metadata": {
        "id": "brzvVIPbl2pk"
      },
      "source": [
        "<br />\n",
        "\n",
        "---   "
      ]
    },
    {
      "cell_type": "markdown",
      "metadata": {
        "id": "wHHP8AV_lx3M"
      },
      "source": [
        "### **Interesting case = a string is a non-modifiable list of characters**\n",
        "\n",
        "Everything above, whether using indices, slices, and operations, works on strings\n",
        "\n",
        "/!\\ It is not possible to modify letters by replacing the value obtained by its index, a **string is a non-modifiable list**"
      ]
    },
    {
      "cell_type": "code",
      "execution_count": null,
      "metadata": {
        "id": "BhNKOCplm2Aw"
      },
      "outputs": [],
      "source": [
        "string1 = \"hazelnut\"\n",
        "\n",
        "print(string1[0])\n",
        "print(string1[:3])\n",
        "print(string1[-2])\n",
        "print(string1 + string1)\n",
        "print(string1 *3)"
      ]
    },
    {
      "cell_type": "markdown",
      "metadata": {
        "id": "sl597ASKWLIJ"
      },
      "source": [
        "In the same way as above, as a string can be considered as a list of characters, the `liste.extend()` method will add each character to the list separately:"
      ]
    },
    {
      "cell_type": "code",
      "execution_count": null,
      "metadata": {
        "id": "itI9bRtZWYoD"
      },
      "outputs": [],
      "source": [
        "liste = []\n",
        "liste.extend(string1)\n",
        "print(liste)"
      ]
    },
    {
      "cell_type": "markdown",
      "metadata": {
        "id": "8Bx-Xk3AlUFd"
      },
      "source": [
        "<br />\n",
        "\n",
        "---   "
      ]
    },
    {
      "cell_type": "markdown",
      "metadata": {
        "id": "iCVZwUqmprmM"
      },
      "source": [
        "### **Second interesting case = a tuple is an unmodifiable list**\n",
        "\n",
        "- In the same way as for strings, tuples are lists that cannot be modified. They are even immutable: nothing can be added, removed, modified.\n",
        "- The only way to modify a tuple is to create a completely new tuple using list operations.\n",
        "- Instead of using square brackets `[ and ]`, parentheses are used `( and )`"
      ]
    },
    {
      "cell_type": "code",
      "execution_count": null,
      "metadata": {
        "id": "WdoqBxkRqQDL"
      },
      "outputs": [],
      "source": [
        "tuple1 = (\"sugar\", \"milk\", \"flour\")\n",
        "print(tuple1[0])"
      ]
    },
    {
      "cell_type": "code",
      "execution_count": null,
      "metadata": {
        "id": "46tRdI6SqjEY"
      },
      "outputs": [],
      "source": [
        "tuple1.append(\"yeast\")"
      ]
    },
    {
      "cell_type": "code",
      "execution_count": null,
      "metadata": {
        "id": "THjBGdIPqoLy"
      },
      "outputs": [],
      "source": [
        "tuple1 = tuple1 + (\"yeast\",)\n",
        "print(tuple1)"
      ]
    },
    {
      "cell_type": "markdown",
      "metadata": {
        "id": "5uBcR7DEprFL"
      },
      "source": [
        "<br />\n",
        "\n",
        "---   "
      ]
    },
    {
      "cell_type": "markdown",
      "metadata": {
        "id": "yDrAQRP3lVW_"
      },
      "source": [
        "### **Some functions, methods, and useful information for lists**"
      ]
    },
    {
      "cell_type": "markdown",
      "metadata": {
        "id": "qRznayNQlpOq"
      },
      "source": [
        "- **`len():`**\n",
        "    - Allows you to know the length of a list = The number of elements it contains"
      ]
    },
    {
      "cell_type": "code",
      "execution_count": null,
      "metadata": {
        "id": "kHf1kG3nnb6l"
      },
      "outputs": [],
      "source": [
        "list1 = [\"hazelnuts\", \"apples\", \"oranges\", \"pears\"]\n",
        "print(f\"List1 contains {len(list1)} elements.\")"
      ]
    },
    {
      "cell_type": "markdown",
      "metadata": {
        "id": "-OSrl2VRnlpI"
      },
      "source": [
        "\\-------------------------------------------------------------------------------\n",
        "\n",
        "- **`range()`**\n",
        "    - The `range()` function allows you to generate a sequence of integers in an interval. If only one integer X is used, the function will make a list from 0 (inclusive) to X (excluding). Example, `range(5)` gives the list `[0,1,2,3,4]`\n",
        "    - Several parameters can be given, to specify the start, end, and step. Example, `range(2,5)` gives the list `[2,3,4]`, and `range(0,5,2)` gives the list `[2,3,4]`\n",
        "    - However, the `range()` function generates elements of type `range`: Python knows how to use them (and is very useful in some cases later), but it is not easy to understand them as human\n",
        "- **`list()` and `tuple()`:**\n",
        "    - The `list()` and `tuple()` functions, just like the `int() /str() /float()` functions, allow you to convert something into the list and tuple types respectively\n",
        "    - Allows, among other things, to convert lists into tuples and vice versa, or a string into a list/tuple"
      ]
    },
    {
      "cell_type": "code",
      "execution_count": null,
      "metadata": {
        "id": "idmuSbnGo8KO"
      },
      "outputs": [],
      "source": [
        "range(5)"
      ]
    },
    {
      "cell_type": "code",
      "execution_count": null,
      "metadata": {
        "id": "E8L3hdh1pIWn"
      },
      "outputs": [],
      "source": [
        "list(range(5))"
      ]
    },
    {
      "cell_type": "code",
      "execution_count": null,
      "metadata": {
        "id": "TJDi9uQApX95"
      },
      "outputs": [],
      "source": [
        "list(range(2,5))"
      ]
    },
    {
      "cell_type": "code",
      "execution_count": null,
      "metadata": {
        "id": "25GmEQqPrKEu"
      },
      "outputs": [],
      "source": [
        "list(range(0,5,2))"
      ]
    },
    {
      "cell_type": "markdown",
      "metadata": {
        "id": "Hzy5H-IIlfNS"
      },
      "source": [
        "\\-------------------------------------------------------------------------------\n",
        "\n",
        "- **`min()`, `max()` and `sum()`**:\n",
        "    - Return the minimum, maximum and sum of a list respectively"
      ]
    },
    {
      "cell_type": "code",
      "execution_count": null,
      "metadata": {
        "id": "4TTe-PwTrm_0"
      },
      "outputs": [],
      "source": [
        "numeric_list = list(range(12))\n",
        "print(f\"Minimum = {min(numeric_list)}\")\n",
        "print(f\"Maximum = {max(numeric_list)}\")\n",
        "print(f\"Sum = {sum(numeric_list)}\")"
      ]
    },
    {
      "cell_type": "markdown",
      "metadata": {
        "id": "aZfWCBK3mp1z"
      },
      "source": [
        "\\-------------------------------------------------------------------------------\n",
        "\n",
        "- **`.count()` method**:\n",
        "    - Allows you to count the number of times element X is found in the list."
      ]
    },
    {
      "cell_type": "code",
      "execution_count": null,
      "metadata": {
        "id": "P1X_ODDVmwdh"
      },
      "outputs": [],
      "source": [
        "list_count = [1,1,1,0,0,1,0,1,1,0,1,1,1,1,0,0,0,1]\n",
        "print(f\"The number of times 1 is present is {list_count.count(1)} times.\")"
      ]
    },
    {
      "cell_type": "markdown",
      "metadata": {
        "id": "DhTG5g_Got30"
      },
      "source": [
        "\\-------------------------------------------------------------------------------\n",
        "\n",
        "- **`.index()` method**:\n",
        "    - Allows you to obtain the index of a value using its name."
      ]
    },
    {
      "cell_type": "code",
      "execution_count": null,
      "metadata": {
        "id": "mIu0rFt-oziT"
      },
      "outputs": [],
      "source": [
        "list1 = [\"hazelnuts\", \"apples\", \"oranges\", \"pears\"]\n",
        "\n",
        "print(list1.index(\"apples\"))"
      ]
    },
    {
      "cell_type": "markdown",
      "metadata": {
        "id": "I3w1Y8cKSXvC"
      },
      "source": [
        "\\-------------------------------------------------------------------------------\n",
        "\n",
        "- **`.split()` and `.join()` methods**:\n",
        "    - These two methods allow you to convert from a string to a list, and vice versa, very easily.\n",
        "    - /!\\ These are both **string-based methods**, so in the form `\"X\".split(\"X\")` or `\"Y\".join(Y)`. A variable containing a string can be used, for example `string1.split(\"/\")` or `\"_\".join(liste1)`.\n",
        "    - The `.split()` method can be used on a string to be able to subdivide it into a list based on the character you have chosen. The element will become a list of strings.\n",
        "    - The `.join()` method can be used on a string containing the character you have chosen to subdivide, and takes a list as an argument. The element will become a string."
      ]
    },
    {
      "cell_type": "code",
      "execution_count": null,
      "metadata": {
        "id": "zr1XzAU1SyTa"
      },
      "outputs": [],
      "source": [
        "string1 = \"05/12/2025\"\n",
        "list1 = [\"hazelnuts\", \"apples\", \"oranges\", \"pears\"]\n",
        "\n",
        "print(string1.split(\"/\"))"
      ]
    },
    {
      "cell_type": "code",
      "execution_count": null,
      "metadata": {
        "id": "P8wunMgFTFqB"
      },
      "outputs": [],
      "source": [
        "print(\"_\".join(list1))"
      ]
    },
    {
      "cell_type": "markdown",
      "metadata": {
        "id": "t7GI5bOWsCcA"
      },
      "source": [
        "\\-------------------------------------------------------------------------------\n",
        "\n",
        "- A list allows you to gather values, **regardless of their type**:\n",
        "    - we can therefore make a list of lists,\n",
        "    - a list of tuples,\n",
        "    - combine the most common types with lists,\n",
        "    - or other types of values ​​which will be seen later\n",
        "- We can access the elements of the lists in the list by successively using the indices\n",
        "- Not very practical for storing information, but it is the starting point for more complex ways which will be seen gradually!"
      ]
    },
    {
      "cell_type": "code",
      "execution_count": null,
      "metadata": {
        "id": "wB59j_lsslzm"
      },
      "outputs": [],
      "source": [
        "list4 = [list1, list2, list3]\n",
        "print(list4)"
      ]
    },
    {
      "cell_type": "code",
      "execution_count": null,
      "metadata": {
        "id": "BLeDIiVptAWD"
      },
      "outputs": [],
      "source": [
        "print(list4[0][1])"
      ]
    },
    {
      "cell_type": "markdown",
      "metadata": {
        "id": "jSjfDJfTnxbi"
      },
      "source": [
        "\\-------------------------------------------------------------------------------\n",
        "\n",
        "- It is possible to make multiple assignments with lists or tuples\n",
        "    - Allows you to create several variables from the values ​​of a list\n",
        "    - In the form `a,b,c = [1,2,3]` or even without a conventional list `a,b,c = 1,2,3`\n",
        "    - Requires the same number of elements to the right and left of the `=`\n",
        "    - Can allow the values ​​of two variables to be swapped with `a,b = b,a`"
      ]
    },
    {
      "cell_type": "code",
      "execution_count": null,
      "metadata": {
        "id": "NAFzu0X8n8ir"
      },
      "outputs": [],
      "source": [
        "list1 = [\"hazelnuts\", \"apples\", \"oranges\", \"pears\"]\n",
        "food1, food2, food3, food4 = list1\n",
        "\n",
        "print(food1)"
      ]
    },
    {
      "cell_type": "markdown",
      "metadata": {
        "id": "0gJDqeSFsuog"
      },
      "source": [
        "\\-------------------------------------------------------------------------------\n",
        "\n",
        "- In the same way as for `\\ ` used generally, when a list remains open and a line ends with a comma `,`\n",
        "- Python will put the entire definition of a list into one line.\n",
        "- Can be very practical for long lists, or to improve the readability of the code."
      ]
    },
    {
      "cell_type": "code",
      "execution_count": null,
      "metadata": {
        "id": "kCdjB6eWtEHN"
      },
      "outputs": [],
      "source": [
        "list1 = [\"hazelnuts\",\n",
        "          \"apples\",\n",
        "          \"oranges\",\n",
        "          \"pears\",\n",
        "          ]\n",
        "\n",
        "print(list1)"
      ]
    },
    {
      "cell_type": "markdown",
      "metadata": {
        "id": "vA0UcDO5tIGB"
      },
      "source": [
        "<br />\n",
        "\n",
        "---   "
      ]
    },
    {
      "cell_type": "markdown",
      "metadata": {
        "id": "-5RhZ5litFh0"
      },
      "source": [
        "# **➤ Exercises**\n"
      ]
    },
    {
      "cell_type": "markdown",
      "metadata": {
        "id": "hKuHj7qltYMB"
      },
      "source": [
        "**<u>Exercise 1:</u>** Try to predict the outcome of each of the following lines:\n",
        "\n",
        "\n",
        "1. `print(liste_exo1[2])`\n",
        "2. `print(liste_exo1[1:4])`\n",
        "3. `print(liste_exo1[3:])`\n",
        "4. `print(liste_exo1[:3])`\n",
        "5. `print(liste_exo1[-2:])`\n",
        "6. `print(liste_exo1[varA_exo1])`\n",
        "7. `print(liste_exo1[varB_exo1])`\n",
        "8. `print(liste_exo1[\"varA_exo1])`"
      ]
    },
    {
      "cell_type": "code",
      "execution_count": null,
      "metadata": {
        "id": "wocHpbaUtiHC"
      },
      "outputs": [],
      "source": [
        "# Exercise 1:\n",
        "liste_exo1 = list(range(50, 55))\n",
        "varA_exo1 = 0\n",
        "varB_exo1 = 10\n",
        "\n",
        "# 1. =\n",
        "# 2. =\n",
        "# 3. =\n",
        "# 4. =\n",
        "# 5. =\n",
        "# 6. =\n",
        "# 7. =\n",
        "# 8. ="
      ]
    },
    {
      "cell_type": "markdown",
      "metadata": {
        "id": "SFwBVqaev_CS"
      },
      "source": [
        "**<u>Exercise 2:</u>** You have measured 5 different concentrations, and created the `concentrations` list:\n",
        "1. With an f-string, obtain the minimum and maximum concentrations.\n",
        "2. Calculate and display the average in a second f-string.\n",
        "3. You were wrong, and the 3rd concentration is not 4.6 g/L but 2.6 g/L. Edit the `concentrations` list using a method, and reuse the previous code to display the minimum, maximum, and average concentration."
      ]
    },
    {
      "cell_type": "code",
      "execution_count": null,
      "metadata": {
        "id": "u0E7VYlnv-vb"
      },
      "outputs": [],
      "source": [
        "# Exercise 2:\n",
        "concentrations = [3.4, 2.8, 4.6, 3.9, 5.1]     # in g/L"
      ]
    },
    {
      "cell_type": "code",
      "execution_count": null,
      "metadata": {
        "id": "GcMgJqgTbGF_"
      },
      "outputs": [],
      "source": [
        "# Exercise 2 - Part 1:\n",
        "\n"
      ]
    },
    {
      "cell_type": "code",
      "execution_count": null,
      "metadata": {
        "id": "szi7nBJAbHtX"
      },
      "outputs": [],
      "source": [
        "# Exercise 2 - Part 2:\n",
        "\n"
      ]
    },
    {
      "cell_type": "code",
      "execution_count": null,
      "metadata": {
        "id": "h7gSN1qfbIHM"
      },
      "outputs": [],
      "source": [
        "# Exercise 2 - Part 3:\n",
        "\n"
      ]
    },
    {
      "cell_type": "markdown",
      "metadata": {
        "id": "ncQNor8o4XA0"
      },
      "source": [
        "**<u>Exercise 3:</u>**\n",
        "1. Create a `week` list with the 7 days of the week.\n",
        "2. Recover the 5 working days on the one hand, then the weekend days on the other hand.\n",
        "3. Do the same thing, but with different indices.\n",
        "4. Reverse the days of the week in two different ways."
      ]
    },
    {
      "cell_type": "code",
      "execution_count": null,
      "metadata": {
        "id": "kQR9Dl4t5Xu_"
      },
      "outputs": [],
      "source": [
        "# Exercise 3 - Part 1:\n",
        "\n"
      ]
    },
    {
      "cell_type": "code",
      "execution_count": null,
      "metadata": {
        "id": "IBpxJu73a-9W"
      },
      "outputs": [],
      "source": [
        "# Exercise 3 - Part 2:\n",
        "\n"
      ]
    },
    {
      "cell_type": "code",
      "execution_count": null,
      "metadata": {
        "id": "4FLdqxoKa_S_"
      },
      "outputs": [],
      "source": [
        "# Exercise 3 - Part 3:\n",
        "\n"
      ]
    },
    {
      "cell_type": "code",
      "execution_count": null,
      "metadata": {
        "id": "AGdGm9tna_k3"
      },
      "outputs": [],
      "source": [
        "# Exercise 3 - Part 4:\n",
        "\n"
      ]
    },
    {
      "cell_type": "markdown",
      "metadata": {
        "id": "EENjX-eZ5qdU"
      },
      "source": [
        "**<u>Exercise 4:</u>**\n",
        "1. Create 4 lists `winter`, `spring`, `summer`, and `fall` with the months corresponding to the seasons.\n",
        "2. Create a `seasons` list which contains the 4 lists.\n",
        "3. What will be the item displayed by:\n",
        "    -`seasons[2]`\n",
        "    -`seasons[1][0]`\n",
        "    -`seasons[1:2]`\n",
        "    -`seasons[:][2]`\n",
        "4. Change the first month of winter to \"Galette\", then display the `seasons` variable as well as the `winter` variable: is there something strange?"
      ]
    },
    {
      "cell_type": "code",
      "execution_count": null,
      "metadata": {
        "id": "p5XrYEguaU8R"
      },
      "outputs": [],
      "source": [
        "# Exercise 4 - Part 1:\n",
        "\n"
      ]
    },
    {
      "cell_type": "code",
      "execution_count": null,
      "metadata": {
        "id": "32JjfZJdazRn"
      },
      "outputs": [],
      "source": [
        "# Exercise 4 - Part 2:\n",
        "\n"
      ]
    },
    {
      "cell_type": "code",
      "execution_count": null,
      "metadata": {
        "id": "GPGr41CZazv1"
      },
      "outputs": [],
      "source": [
        "# Exercise 4 - Part 3:\n",
        "\n",
        "# seasons[2]    returns =\n",
        "# seasons[1][0] returns =\n",
        "# seasons[1:2]  returns =\n",
        "# seasons[:][2] returns ="
      ]
    },
    {
      "cell_type": "code",
      "execution_count": null,
      "metadata": {
        "id": "q-xfpcRfa0HX"
      },
      "outputs": [],
      "source": [
        "# Exercise 4 - Part 4:\n",
        "\n"
      ]
    },
    {
      "cell_type": "markdown",
      "metadata": {
        "id": "Vc-H8ebO6vyb"
      },
      "source": [
        "**<u>Exercise 5:</u>**Reply with a single line each time:\n",
        "1. How many even numbers are there between 2 and 10000 inclusive?\n",
        "2. Display the multiplication table of 9\n",
        "3. Create a list of lists of lists to display `[[[1, 2, 3], [1, 2, 3]], [[1, 2, 3], [1, 2, 3]] ]`"
      ]
    },
    {
      "cell_type": "code",
      "execution_count": null,
      "metadata": {
        "id": "B4eQmKZkaZ8F"
      },
      "outputs": [],
      "source": [
        "# Exercise 5 - Part 1:\n",
        "\n"
      ]
    },
    {
      "cell_type": "code",
      "execution_count": null,
      "metadata": {
        "id": "zP4tamQ2avng"
      },
      "outputs": [],
      "source": [
        "# Exercise 5 - Part 2:\n",
        "\n"
      ]
    },
    {
      "cell_type": "code",
      "execution_count": null,
      "metadata": {
        "id": "61xyOELgawAB"
      },
      "outputs": [],
      "source": [
        "# Exercise 5 - Part 3:\n",
        "\n"
      ]
    }
  ],
  "metadata": {
    "colab": {
      "provenance": [],
      "include_colab_link": true
    },
    "kernelspec": {
      "display_name": "Python 3",
      "name": "python3"
    },
    "language_info": {
      "name": "python"
    }
  },
  "nbformat": 4,
  "nbformat_minor": 0
}