{
  "nbformat": 4,
  "nbformat_minor": 0,
  "metadata": {
    "colab": {
      "provenance": [],
      "authorship_tag": "ABX9TyMp3OYmR6hxub3ISbcYQi3Q",
      "include_colab_link": true
    },
    "kernelspec": {
      "name": "python3",
      "display_name": "Python 3"
    },
    "language_info": {
      "name": "python"
    }
  },
  "cells": [
    {
      "cell_type": "markdown",
      "metadata": {
        "id": "view-in-github",
        "colab_type": "text"
      },
      "source": [
        "<a href=\"https://colab.research.google.com/github/cbedart/CBPPS/blob/2024/CBPPS_part5_dictionaries_modules.ipynb\" target=\"_parent\"><img src=\"https://colab.research.google.com/assets/colab-badge.svg\" alt=\"Open In Colab\"/></a>"
      ]
    },
    {
      "cell_type": "markdown",
      "source": [
        "**<h1><center>Part 4 - Dictionaries and modules</center></h1>**"
      ],
      "metadata": {
        "id": "2UbbMu31uZAq"
      }
    },
    {
      "cell_type": "markdown",
      "source": [
        "---"
      ],
      "metadata": {
        "id": "Iv6FgdiYufFm"
      }
    },
    {
      "cell_type": "markdown",
      "source": [
        "# **➤ Dictionaries**"
      ],
      "metadata": {
        "id": "1ZjwJe5utL9L"
      }
    },
    {
      "cell_type": "markdown",
      "source": [
        "### **General overview of dictionaries**\n",
        "\n",
        "- Dictionary = Unordered, mutable, and indexed\n",
        "- **Very similar to lists**, but it uses `{` and `}` (the colon indicates the relationship)\n",
        "- Collection of key-value pairs, in the form `\"key\" : \"value\"`\n",
        "- `Keys` = Unique and immutable (strings, numbers)\n",
        "- `Values` = Can be any type of data\n"
      ],
      "metadata": {
        "id": "nrSL9XkavVlX"
      }
    },
    {
      "cell_type": "code",
      "source": [
        "apple_dict = {\"name\":\"apple\", \"color\":\"red\", \"taste\":\"sweet\", \"count\":5}\n",
        "\n",
        "print(apple_dict)"
      ],
      "metadata": {
        "id": "TNxNFEdZ0L9C"
      },
      "execution_count": null,
      "outputs": []
    },
    {
      "cell_type": "markdown",
      "source": [
        "- You can retrieve the value associated with a given key using a syntax similar to the one used for lists, as `dict[\"key\"]`. If the key does not exist, you will have a `KeyError`.\n",
        "- You can also use the method `.get(\"key\")` to avoid this `KeyError`, the output will be `None`. You can customise this output if it is not found by adding a second argument to get, as `.get(\"key\", \"Not found !\")`\n",
        "- But unlike lists, it is very easy to add an element using the same syntax, as `dict[\"new_key\"] = \"new value\"`"
      ],
      "metadata": {
        "id": "Cvs9btKWq6JC"
      }
    },
    {
      "cell_type": "code",
      "source": [
        "apple_dict[\"name\"]"
      ],
      "metadata": {
        "id": "PgIhcVHGrOYq"
      },
      "execution_count": null,
      "outputs": []
    },
    {
      "cell_type": "code",
      "source": [
        "apple_dict[\"shape\"]"
      ],
      "metadata": {
        "id": "AmedRIn5xNRl"
      },
      "execution_count": null,
      "outputs": []
    },
    {
      "cell_type": "code",
      "source": [
        "print(apple_dict.get(\"shape\"))"
      ],
      "metadata": {
        "id": "FESHGUVdxl7U"
      },
      "execution_count": null,
      "outputs": []
    },
    {
      "cell_type": "code",
      "source": [
        "print(apple_dict.get(\"shape\", \"Not found !\"))"
      ],
      "metadata": {
        "id": "_zRQSabqxpLC"
      },
      "execution_count": null,
      "outputs": []
    },
    {
      "cell_type": "code",
      "source": [
        "apple_dict[\"type\"] = \"fruit\"\n",
        "\n",
        "print(apple_dict)\n",
        "print(apple_dict[\"type\"])"
      ],
      "metadata": {
        "id": "xLFkD3IarS3h"
      },
      "execution_count": null,
      "outputs": []
    },
    {
      "cell_type": "markdown",
      "source": [
        "<br />\n",
        "\n",
        "- You can check if a key exist using the `in` operator, that gives a `True` or `False` boolean"
      ],
      "metadata": {
        "id": "TMb5XBuN1Ayr"
      }
    },
    {
      "cell_type": "code",
      "source": [
        "if \"type\" in apple_dict:\n",
        "    print(apple_dict[\"type\"])\n",
        "else:\n",
        "    print(\"Not found !\")"
      ],
      "metadata": {
        "id": "b5lvEduq1Beg"
      },
      "execution_count": null,
      "outputs": []
    },
    {
      "cell_type": "markdown",
      "source": [
        "<br />\n",
        "\n",
        "- Very useful if you need to count different items, by grouping all the variables in the same place"
      ],
      "metadata": {
        "id": "OXtFiGCAwPr0"
      }
    },
    {
      "cell_type": "code",
      "source": [
        "count_dicts = {\"Actives\":0, \"Inactives\":0, \"Missing\":0}\n",
        "\n",
        "count_dicts[\"Actives\"] += 3\n",
        "count_dicts[\"Inactives\"] += 8\n",
        "count_dicts[\"Missing\"] += 8\n",
        "\n",
        "print(count_dicts)"
      ],
      "metadata": {
        "id": "TF7k_lcVwUu_"
      },
      "execution_count": null,
      "outputs": []
    },
    {
      "cell_type": "markdown",
      "source": [
        "<br />\n",
        "\n",
        "- And you can get the length of a dictionary by using the `len()` function, as lists"
      ],
      "metadata": {
        "id": "dn4ZOOPtyHOO"
      }
    },
    {
      "cell_type": "code",
      "source": [
        "len(count_dicts)"
      ],
      "metadata": {
        "id": "vnZvCtl3yO9a"
      },
      "execution_count": null,
      "outputs": []
    },
    {
      "cell_type": "markdown",
      "source": [
        "<br />\n",
        "\n",
        "---   "
      ],
      "metadata": {
        "id": "4cA-flM9w-mU"
      }
    },
    {
      "cell_type": "markdown",
      "source": [
        "### **List of dictionaries, dictionary of lists, and dictionary of dictionaries**\n",
        "\n",
        "Since a list and a dictionary can contain all types of data, we can combine them to create very organised ways of storing data\n"
      ],
      "metadata": {
        "id": "zpWDx132tXWe"
      }
    },
    {
      "cell_type": "markdown",
      "source": [
        "- If we have a specific dictionary format but several elements, we can create a list of dictionaries, with a different element for each dictionary.\n",
        "- We can access the element in the list with square brackets and the index number, then the value in the dictionary using square brackets and a key, as `list[index][\"key\"]`\n",
        "- You can add a new element to the list using the concatenation methods for lists, for example `+` or `.append()`."
      ],
      "metadata": {
        "id": "hlN_HwuWt_9E"
      }
    },
    {
      "cell_type": "code",
      "source": [
        "fruits_list = [{\"name\":\"apple\", \"color\":\"red\", \"taste\":\"sweet\", \"count\":5},\n",
        "               {\"name\":\"orange\", \"color\":\"orange\", \"taste\":\"sour\", \"count\":10},\n",
        "               {\"name\":\"banana\", \"color\":\"yellow\", \"taste\":\"sweet\", \"count\":3}]\n",
        "\n",
        "print(fruits_list)"
      ],
      "metadata": {
        "id": "ggzG7RxkuAcI"
      },
      "execution_count": null,
      "outputs": []
    },
    {
      "cell_type": "code",
      "source": [
        "# If we want to get the name of the second fruit (so index 1):\n",
        "fruits_list[1][\"name\"]"
      ],
      "metadata": {
        "id": "l3KF76psuLNu"
      },
      "execution_count": null,
      "outputs": []
    },
    {
      "cell_type": "code",
      "source": [
        "fruits_list.append({\"name\":\"pear\", \"color\":\"green\", \"taste\":\"sweet\", \"count\":7})\n",
        "print(fruits_list)"
      ],
      "metadata": {
        "id": "tRjrVxikvVya"
      },
      "execution_count": null,
      "outputs": []
    },
    {
      "cell_type": "markdown",
      "source": [
        "<br /><br />\n",
        "\n",
        "- If we have a specific dictionary format but several elements, we can also do the opposite = Create a dictionary of lists, with multiple lists for each key.\n",
        "- We can access the element in the dictionary with square brackets and a key, then the value in the dictionary using an index number, as `dict[\"key\"][index]`\n",
        "- New elements can be added to the dictionary by retrieving one of the lists in the dictionary and using the list concatenation methods, such as `+` or `.append()`."
      ],
      "metadata": {
        "id": "TRRWVOOCujx0"
      }
    },
    {
      "cell_type": "code",
      "source": [
        "fruits_dict = {\n",
        "    \"name\":[\"apple\", \"orange\", \"banana\"],\n",
        "    \"color\":[\"red\", \"orange\", \"yellow\"],\n",
        "    \"taste\":[\"sweet\", \"sour\", \"sweet\"],\n",
        "    \"count\":[5, 10, 3]\n",
        "}"
      ],
      "metadata": {
        "id": "IbQZgIQlujcQ"
      },
      "execution_count": null,
      "outputs": []
    },
    {
      "cell_type": "code",
      "source": [
        "# If we want to get the name of the second fruit (so index 1):\n",
        "fruits_dict[\"name\"][1]"
      ],
      "metadata": {
        "id": "6ms9LrX8u_Mo"
      },
      "execution_count": null,
      "outputs": []
    },
    {
      "cell_type": "code",
      "source": [
        "fruits_dict[\"name\"] = fruits_dict[\"name\"] + [\"pear\"]\n",
        "fruits_dict[\"color\"] = fruits_dict[\"color\"] + [\"green\"]\n",
        "fruits_dict[\"taste\"].append(\"sweet\")\n",
        "fruits_dict[\"count\"].append(7)\n",
        "print(fruits_dict)"
      ],
      "metadata": {
        "id": "2tAvt__xvaCm"
      },
      "execution_count": null,
      "outputs": []
    },
    {
      "cell_type": "markdown",
      "source": [
        "<br /><br />\n",
        "\n",
        "- And you can create nested dictionaries, that will work in the same way\n",
        "- The closest you can get to a spreadsheet using only base Python elements, with:\n",
        "  - The first dictionary as the rows\n",
        "  - The second dictionaries as the columns"
      ],
      "metadata": {
        "id": "OoKFjM50QVMV"
      }
    },
    {
      "cell_type": "code",
      "source": [
        "fruits_dict_nested = {\"apple\":{\"color\":\"red\", \"taste\":\"sweet\", \"count\":5},\n",
        "                      \"orange\":{\"color\":\"orange\", \"taste\":\"sour\", \"count\":10},\n",
        "                      \"banana\":{\"color\":\"yellow\", \"taste\":\"sweet\", \"count\":3}}\n",
        "\n",
        "fruits_dict_nested[\"apple\"][\"count\"]"
      ],
      "metadata": {
        "id": "BZwzNiaEQaA0"
      },
      "execution_count": null,
      "outputs": []
    },
    {
      "cell_type": "markdown",
      "source": [
        "<br />\n",
        "\n",
        "---   "
      ],
      "metadata": {
        "id": "Ru8-qhxRw9r0"
      }
    },
    {
      "cell_type": "markdown",
      "source": [
        "### **Manipulating dictionaries using methods**\n",
        "\n",
        "A whole set of methods can be used to manipulate dictionaries with precision."
      ],
      "metadata": {
        "id": "i4qQDJBAw3wT"
      }
    },
    {
      "cell_type": "markdown",
      "source": [
        "#### **`.keys()` and `.values()` methods**\n",
        "\n",
        "- As expected, the `.keys()` and `.values()` methods return the keys and values of a dictionary\n",
        "- These elements are of type `dict_keys` and `dict_values` = they are special objects. They are **not indexable** (you can't find an element by index, as `dict.keys()[0]` will return an error) ...\n",
        "  - ... BUT you can iterate on them in a loop (as the `range()` function)\n",
        "  - ... BUT you can transform them into a list using the `list()` function to use them (as the `range()` function, again)\n"
      ],
      "metadata": {
        "id": "2mqxMtfVyaTL"
      }
    },
    {
      "cell_type": "code",
      "source": [
        "apple_dict = {\"name\":\"apple\", \"color\":\"red\", \"taste\":\"sweet\", \"count\":5}\n",
        "\n",
        "print(apple_dict.keys())\n",
        "print()\n",
        "print(apple_dict.values())"
      ],
      "metadata": {
        "id": "8_tITyWGyaFI"
      },
      "execution_count": null,
      "outputs": []
    },
    {
      "cell_type": "code",
      "source": [
        "for key in apple_dict.keys():\n",
        "    print(key)"
      ],
      "metadata": {
        "id": "Az1RJizYzpfX"
      },
      "execution_count": null,
      "outputs": []
    },
    {
      "cell_type": "code",
      "source": [
        "apple_dict.keys()[0]"
      ],
      "metadata": {
        "id": "kc5N7S0AzS3t"
      },
      "execution_count": null,
      "outputs": []
    },
    {
      "cell_type": "code",
      "source": [
        "list(apple_dict.keys())[0]"
      ],
      "metadata": {
        "id": "u-A4Q1tDzUdE"
      },
      "execution_count": null,
      "outputs": []
    },
    {
      "cell_type": "markdown",
      "source": [
        "<br />\n",
        "\n",
        "---   "
      ],
      "metadata": {
        "id": "uZTHshdBYjbp"
      }
    },
    {
      "cell_type": "markdown",
      "source": [
        "#### **`.items()` methods**\n",
        "\n",
        "- The .items() method returns a new dict_items object\n",
        "- Again, not indexable but iterable\n",
        "- Like enumerate(), this method give two variables `(key, value)`, in the form of a list of tuples, which will be modified at the same time"
      ],
      "metadata": {
        "id": "B9EEJD9ww3VM"
      }
    },
    {
      "cell_type": "code",
      "source": [
        "apple_dict = {\"name\":\"apple\", \"color\":\"red\", \"taste\":\"sweet\", \"count\":5}\n",
        "\n",
        "print(apple_dict.items())"
      ],
      "metadata": {
        "id": "nuQ3ImXF0E6a"
      },
      "execution_count": null,
      "outputs": []
    },
    {
      "cell_type": "code",
      "source": [
        "for key, value in apple_dict.items():\n",
        "    print(key, value)"
      ],
      "metadata": {
        "id": "VkFHvCvr0fJy"
      },
      "execution_count": null,
      "outputs": []
    },
    {
      "cell_type": "markdown",
      "source": [
        "<br />\n",
        "\n",
        "---   "
      ],
      "metadata": {
        "id": "cTPFMqpEz0l3"
      }
    },
    {
      "cell_type": "markdown",
      "source": [
        "#### **`.pop()` method**\n",
        "\n",
        "- You can remove a value using its key in the `.pop()` method:"
      ],
      "metadata": {
        "id": "E47LwbS61Yo0"
      }
    },
    {
      "cell_type": "code",
      "source": [
        "apple_dict = {\"name\":\"apple\", \"color\":\"red\", \"taste\":\"sweet\", \"count\":5}\n",
        "\n",
        "print(apple_dict)\n",
        "\n",
        "apple_dict.pop(\"count\")\n",
        "\n",
        "print(apple_dict)"
      ],
      "metadata": {
        "id": "Gpylfkgb1fvb"
      },
      "execution_count": null,
      "outputs": []
    },
    {
      "cell_type": "markdown",
      "source": [
        "<br />\n",
        "\n",
        "---   "
      ],
      "metadata": {
        "id": "IjLYxrnOz1fE"
      }
    },
    {
      "cell_type": "markdown",
      "source": [
        "#**➤ Modules?**\n",
        "\n",
        "- A module in Python is a file containing Python code that defines functions, classes, and variables\n",
        "- Can be reused in other Python programs\n",
        "- Modules allow developers to organize code logically and efficiently, enabling code reuse and simplifying debugging\n",
        "- By using modules, you can access built-in Python functionality or extend the language with custom modules.\n",
        "- Modules can be:\n",
        "  - **Built-in modules**: Pre-installed with Python (os, sys, math, etc.).\n",
        "  - **Third-party modules**: Available for installation via package managers like pip.\n",
        "  - **User-defined modules**: Created by writing your own Python scripts.\n",
        "- To import and use a module:\n",
        "  - `import module_name` statement to load the full module and its components\n",
        "  - `from module_name import component` to only load specific a component of the module\n",
        "- A component can be a function, a group of functions, classes, new global variables, etc.\n",
        "\n",
        "<br />\n",
        "\n",
        "**Good practices:**\n",
        "- Import modules at the very beginning of your python .py script, or in the first code block of a jupyter notebook\n",
        "- Import one module per line\n",
        "- Import only the modules you really need, and sometimes only load the components you really need to avoid wasting computing power and polluting the namespace.\n",
        "- Group imports logically\n",
        "- Use aliases for modules with long names or commonly used ones to improve code readability"
      ],
      "metadata": {
        "id": "ODXbYaKh0uXB"
      }
    },
    {
      "cell_type": "code",
      "source": [
        "import math\n",
        "\n",
        "print(math.sqrt(16))\n",
        "print(math.sin(12))"
      ],
      "metadata": {
        "id": "egOkMoRU5yj_"
      },
      "execution_count": null,
      "outputs": []
    },
    {
      "cell_type": "code",
      "source": [
        "from math import sqrt\n",
        "\n",
        "print(sqrt(16))"
      ],
      "metadata": {
        "id": "9r9Lrdcx6Iti"
      },
      "execution_count": null,
      "outputs": []
    },
    {
      "cell_type": "markdown",
      "source": [
        "- You can also define an alias, a short name, for your module using `as`"
      ],
      "metadata": {
        "id": "qXfGyTkm6Zm_"
      }
    },
    {
      "cell_type": "code",
      "source": [
        "import math as mt\n",
        "\n",
        "print(mt.sqrt(16))"
      ],
      "metadata": {
        "id": "JUwk7moo6gbT"
      },
      "execution_count": null,
      "outputs": []
    },
    {
      "cell_type": "markdown",
      "source": [
        "- Almost all built-in and third-party modules include help that you can access at any time using the `help()` function with the name of the module\n",
        "- This lists all the components that can be used from this module"
      ],
      "metadata": {
        "id": "qXqH5gae6mz_"
      }
    },
    {
      "cell_type": "code",
      "source": [
        "help(math)"
      ],
      "metadata": {
        "id": "yDH05Kdf6wRg"
      },
      "execution_count": null,
      "outputs": []
    },
    {
      "cell_type": "markdown",
      "source": [
        "- You can also see all the functions or variables associated with a module object using the `dir()` function."
      ],
      "metadata": {
        "id": "DcnoQuv-6___"
      }
    },
    {
      "cell_type": "code",
      "source": [
        "dir(math)"
      ],
      "metadata": {
        "id": "dHynFdIT7Okp"
      },
      "execution_count": null,
      "outputs": []
    },
    {
      "cell_type": "markdown",
      "source": [
        "### **Some common modules**\n",
        "\n",
        "There are a number of modules that you are likely to use if you program in Python. Here is a non-exhaustive list:"
      ],
      "metadata": {
        "id": "7oaSVzDE7ZbM"
      }
    },
    {
      "cell_type": "markdown",
      "source": [
        "**➤ `math` module** = Basic mathematical functions and constants (sin, cos, exp, pi, e, ...)\n",
        "\n",
        "**➤ `statistics` module** = Basic statistical functions for numeric data analysis, really similar as the math module"
      ],
      "metadata": {
        "id": "10bO_NuQ7g42"
      }
    },
    {
      "cell_type": "code",
      "source": [
        "import math\n",
        "\n",
        "print(math.cos(12)) # Cosinus\n",
        "print(math.sin(12)) # Sinus\n",
        "print(math.exp(12)) # Exponential\n",
        "print(math.sqrt(12)) # Square-root\n",
        "print(math.pi) # Pi value\n"
      ],
      "metadata": {
        "id": "y9mDJep57sJ8"
      },
      "execution_count": null,
      "outputs": []
    },
    {
      "cell_type": "code",
      "source": [
        "import statistics\n",
        "\n",
        "print(statistics.mean([1,2,3,4,5])) # The mean of the list\n",
        "print(statistics.median([1,2,3,4,5])) # The median of the list\n",
        "print(statistics.mode([1,2,3,4,5,5])) # The most common value\n",
        "print(statistics.stdev([1,2,3,4,5])) # The standard deviation of the list"
      ],
      "metadata": {
        "id": "Xgwdg-G3LT_t"
      },
      "execution_count": null,
      "outputs": []
    },
    {
      "cell_type": "markdown",
      "source": [
        "**➤ `os` module** = Operating System interface, essential for tasks like file and directory management, environment variable handling, and process control"
      ],
      "metadata": {
        "id": "aZ0GKzhx77JC"
      }
    },
    {
      "cell_type": "code",
      "source": [
        "import os\n",
        "\n",
        "# Access an environment variable from Linux, Windows, etc.\n",
        "print(os.getenv('PATH'))\n",
        "\n",
        "\n",
        "# Create or remove a directory\n",
        "os.mkdir('new_dir')\n",
        "os.rmdir('new_dir')\n",
        "\n",
        "# Check the current working directory:\n",
        "print(os.getcwd())\n",
        "\n",
        "# Change the current working directory\n",
        "# A really good use of the os module is to setup your working directory at the very\n",
        "# start of your script, so every single file you will create will be located in\n",
        "# this specific directory\n",
        "os.chdir(\"/content\")\n",
        "\n"
      ],
      "metadata": {
        "id": "8Kird_fS8Hah"
      },
      "execution_count": null,
      "outputs": []
    },
    {
      "cell_type": "markdown",
      "source": [
        "**➤ `sys` module** = System-specific parameters and functions, that gives access to system-level information and allows interaction with the Python runtime environment"
      ],
      "metadata": {
        "id": "IPQQeyR_9CJI"
      }
    },
    {
      "cell_type": "code",
      "source": [
        "import sys\n",
        "\n",
        "# Command-line argument\n",
        "print(sys.argv)\n",
        "\n",
        "# Exit the script using sys.exit(), but in Colab that will shutdown your working environment so never use it\n",
        "\n",
        "# Check python version\n",
        "print(sys.version)"
      ],
      "metadata": {
        "id": "jW2BDEyi9JIg"
      },
      "execution_count": null,
      "outputs": []
    },
    {
      "cell_type": "markdown",
      "source": [
        "**➤ `random` module** = Random number generation, used for generating random numbers and performing random selections"
      ],
      "metadata": {
        "id": "QDnfxj1f9joX"
      }
    },
    {
      "cell_type": "code",
      "source": [
        "import random\n",
        "\n",
        "# Random float between 0 and 1\n",
        "print(random.random())\n",
        "\n",
        "# Random integer between 0 and 10\n",
        "print(random.randint(0, 10))\n",
        "\n",
        "# Random item from a list\n",
        "test_list = [1,2,3,4]\n",
        "print(random.choice(test_list))\n",
        "\n",
        "# Shuffle a list in place\n",
        "random.shuffle(test_list)\n",
        "print(test_list)"
      ],
      "metadata": {
        "id": "ahgAnBEZ9ppy"
      },
      "execution_count": null,
      "outputs": []
    },
    {
      "cell_type": "markdown",
      "source": [
        "**➤ `datetime` module** = Date and time manipulation, essential for working with dates and times in Python"
      ],
      "metadata": {
        "id": "HdoQNnCW-NMA"
      }
    },
    {
      "cell_type": "code",
      "source": [
        "import datetime\n",
        "\n",
        "# Get the current date and time\n",
        "today = datetime.datetime.now()\n",
        "print(today)\n",
        "\n",
        "# Get a time in X days\n",
        "future_date = today + datetime.timedelta(days=7)\n",
        "print(future_date)\n",
        "\n",
        "# String format a datetime object using strftime (as \"string-f time\") and format codes\n",
        "print(today.strftime(\"%A the %d of %B, and the time is %I:%M %p, or %H:%M.\"))\n",
        "print(today.strftime(\"We are the week number %W, the day number %j of the year %Y\"))"
      ],
      "metadata": {
        "id": "2QEgHce8-VE7"
      },
      "execution_count": null,
      "outputs": []
    },
    {
      "cell_type": "markdown",
      "source": [
        "**➤ `pathlib` module** = File and directory management\n",
        "\n",
        "**➤ `urllib` module** = Retrieve data from the Internet using Python\n",
        "\n",
        "**➤ `Tkinter` module** = Python interface with Tk to create graphical objects\n",
        "\n",
        "**➤ `re` module** = Management of regular expressions\n",
        "\n",
        "**➤ `json` module** = To work using JSON data, commonly used in APIs and web applications\n",
        "\n",
        "**➤ `collections` module** = Advanced data structures\n",
        "\n",
        "**➤ `itertools` module** = Tools for creating iterators to perform efficient looping\n"
      ],
      "metadata": {
        "id": "p1Qx8TMk_6dI"
      }
    },
    {
      "cell_type": "markdown",
      "source": [
        "<br />\n",
        "\n",
        "---   "
      ],
      "metadata": {
        "id": "no-YP2a-YcfC"
      }
    },
    {
      "cell_type": "markdown",
      "source": [
        "#**➤ Exercises :**\n"
      ],
      "metadata": {
        "id": "BAPvtv5c-hxb"
      }
    },
    {
      "cell_type": "markdown",
      "source": [
        "**<u>Exercise 1:</u>**\n",
        "1. Create a dictionary to store information about a drug, with \"name\", \"dose_mg\", \"side_effects\", and \"type\" keys. You need to use a list as the value for \"side_effects\".\n",
        "2. Add a new key \"price\" with a value.\n",
        "3. Update the \"side_effects\" key to add 2 additional side effects.\n",
        "4. Remove the \"price\" key."
      ],
      "metadata": {
        "id": "s5VK0BtXYowE"
      }
    },
    {
      "cell_type": "code",
      "source": [
        "# Exercise 1 - #1\n",
        "\n"
      ],
      "metadata": {
        "id": "Fskf_81aYsWs"
      },
      "execution_count": null,
      "outputs": []
    },
    {
      "cell_type": "code",
      "source": [
        "# Exercise 1 - #2\n",
        "\n"
      ],
      "metadata": {
        "id": "1WPsu0I8Gn1l"
      },
      "execution_count": null,
      "outputs": []
    },
    {
      "cell_type": "code",
      "source": [
        "# Exercise 1 - #3\n",
        "\n"
      ],
      "metadata": {
        "id": "cYZXjUHMZOE0"
      },
      "execution_count": null,
      "outputs": []
    },
    {
      "cell_type": "code",
      "source": [
        "# Exercise 1 - #4\n",
        "\n"
      ],
      "metadata": {
        "id": "4dCgZ0aIZQ0F"
      },
      "execution_count": null,
      "outputs": []
    },
    {
      "cell_type": "markdown",
      "source": [
        "**<u>Exercise 2:</u>** As a reminder, you can also create dictionaries in dictionaries to act as spreadsheets. You have a dictionary of hospitals `hospitals_dict` that include the amount of beds in each, total and available.\n",
        "1. Print, using an f-string, the number of available beds in the \"Roger Salengro\" hospital.\n",
        "2. Add the information for the \"Jeanne De Flandre\" hospital, with 12 total beds and 4 available.\n",
        "3. Update the available beds in \"Claude Huriez\" from 2 to 7.\n",
        "4. Calculate how many total and available beds there are in all the hospitals (hint = loop)."
      ],
      "metadata": {
        "id": "Xb3adsyZGv4T"
      }
    },
    {
      "cell_type": "code",
      "source": [
        "# Exercise 2 - #1\n",
        "hospitals_dict = {\n",
        "    \"Claude Huriez\": {\"total_beds\": 10, \"available_beds\": 2},\n",
        "    \"Roger Salengro\": {\"total_beds\": 8, \"available_beds\": 5},\n",
        "    \"Oscar Lambret\": {\"total_beds\": 17, \"available_beds\": 9}\n",
        "}\n",
        "\n"
      ],
      "metadata": {
        "id": "1QjrRdAFHBe1"
      },
      "execution_count": null,
      "outputs": []
    },
    {
      "cell_type": "code",
      "source": [
        "# Exercise 2 - #2\n",
        "\n"
      ],
      "metadata": {
        "id": "Lp5NjfOkIPDe"
      },
      "execution_count": null,
      "outputs": []
    },
    {
      "cell_type": "code",
      "source": [
        "# Exercise 2 - #3\n",
        "\n"
      ],
      "metadata": {
        "id": "k97f__FzIPyq"
      },
      "execution_count": null,
      "outputs": []
    },
    {
      "cell_type": "code",
      "source": [
        "# Exercise 2 - #4\n",
        "\n"
      ],
      "metadata": {
        "id": "JD5SDhnIIQml"
      },
      "execution_count": null,
      "outputs": []
    },
    {
      "cell_type": "markdown",
      "source": [
        "**<u>Exercise 3 - The belote hand counter:</u>** In a game of belote with the sans-atout variant, each card is worth a certain number of points, whatever its suit (clubs, diamonds, hearts, spades). A dictionary can be used to find the correspondence between each card and its number of points:\n",
        "`dict_belote_points = {\"7\": 0, \"8\": 0, \"9\": 0, \"10\":10, \"V\": 2, \"D\": 3, \"R\": 4, \"A\": 11}`\n",
        "\n",
        "Belote is played with a deck of 32 cards, which can be represented by a list:\n",
        "\n",
        "`card_game = [\"7\", \"8\", \"9\", \"10\", \"V\", \"D\", \"R\", \"A\"] * 4`\n",
        "\n",
        "<br />\n",
        "\n",
        "Create a python function that will draw X random cards without replacement (using the `random.sample()` function using an argument to say how many random elements you will get), and count the total amount of points in the hand. You want an output as, by drawing 8 cards:\n",
        "\n",
        "\n",
        "```\n",
        "Your hand is [\"7\", \"A\", \"9\", \"A\", \"R\", \"10\", \"V\", \"D\"].\n",
        "The total number of points in the hand is 41.\n",
        "```\n",
        "\n"
      ],
      "metadata": {
        "id": "-bgUudXWEhUw"
      }
    },
    {
      "cell_type": "code",
      "source": [
        "dict_belote_points = {\"7\": 0, \"8\": 0, \"9\": 0, \"10\":10, \"V\": 2, \"D\": 3, \"R\": 4, \"A\": 11}\n",
        "card_game = [\"7\", \"8\", \"9\", \"10\", \"V\", \"D\", \"R\", \"A\"] * 4\n",
        "\n",
        "####################################\n",
        "\n",
        "\n",
        "\n",
        "\n",
        "\n"
      ],
      "metadata": {
        "id": "uVkQzrZHEs6C"
      },
      "execution_count": null,
      "outputs": []
    },
    {
      "cell_type": "markdown",
      "source": [
        "**<u>Exercise 4 - Use case in data analysis:</u>** You are going to study some data from IMDb, a website that lists movies and series and lets users rate them.\n",
        "\n",
        "- By launching the first block below, you will download the file `IMDb_dataset.tsv` under the path `/content/imdb/IMDb_dataset.tsv` (you can click on this link after running the block to see the file in a new window on the right).\n",
        "- This is a `tab-separated value` text file, where all the fields in a line are separated by a tab `\\t`.\n",
        "- All movies are considered to be longer than 60 minutes, and all series shorter than 60 minutes.\n",
        "\n",
        "<br />\n",
        "\n",
        "From the data in this file:\n",
        "\n",
        "1. Read the file, and transform it into a more suitable format, using what you've seen so far, so you can use it easily.\n",
        "2. What is the average score for all the movies, and for all the series? You can use the `statistics.mean()` function.\n",
        "3. Using the \"certificate\" data, and using a dictionary, what is the most common recommended audience categories for all these productions? (hint = `if key in dict: += 1` `else: add the key`)\n",
        "4. How many productions were created in 1998? In 2002? In 2015? (hint = `a=\"(2008–2013)\"` ; `a[1:5] → \"2008\"`)\n",
        "5. Calculate a new variable dividing the number of votes by the rating awarded. Which production is the most successful, with the highest score in relation to the number of votes? And the least one?\n",
        "6. Search your data for information on \"Arcane\", the best series ever created, by displaying its score and the number of voters using `print()` and an f-string. Generalize your code with a function to give the information for any row in the dataset if it exists, otherwise say that the name is not in the list."
      ],
      "metadata": {
        "id": "jgQLPvyhIamx"
      }
    },
    {
      "cell_type": "code",
      "source": [
        "##### RUN BEFORE YOUR EXERCISE #####\n",
        "!wget https://github.com/cbedart/CBPPS/raw/refs/heads/2024/IMDb_dataset.tsv > /dev/null 2>&1\n",
        "!mkdir imdb ; mv IMDb_dataset.tsv imdb/IMDb_dataset.tsv\n",
        "####################################"
      ],
      "metadata": {
        "id": "4NB2UyQLIZwe"
      },
      "execution_count": null,
      "outputs": []
    },
    {
      "cell_type": "code",
      "source": [
        "# Exercise 4 - #1\n",
        "# Read the file, and transform it into a more suitable format, using what you've seen so far, so you can use it easily.\n",
        "\n",
        "\n",
        "\n"
      ],
      "metadata": {
        "id": "qqw7PrONNL5D"
      },
      "execution_count": null,
      "outputs": []
    },
    {
      "cell_type": "code",
      "source": [
        "# Exercise 4 - #2\n",
        "# What is the average score for all the movies, and for all the series? You can use the statistics.mean() function.\n",
        "\n",
        "\n",
        "\n"
      ],
      "metadata": {
        "id": "TD7QkDfGOSC-"
      },
      "execution_count": null,
      "outputs": []
    },
    {
      "cell_type": "code",
      "source": [
        "# Exercise 4 - #3\n",
        "# Using the \"certificate\" data, and using a dictionary, what is the most common recommended audience categories for all these\n",
        "# productions. (hint = if key in dict: += 1 else: add the key)\n",
        "\n",
        "\n",
        "\n"
      ],
      "metadata": {
        "id": "0BAY9gV2OSiO"
      },
      "execution_count": null,
      "outputs": []
    },
    {
      "cell_type": "code",
      "source": [
        "# Exercise 4 - #4\n",
        "# Read the file, and transform it into a more suitable format, using what you've seen so far, so you can use it easily.\n",
        "\n",
        "\n",
        "\n"
      ],
      "metadata": {
        "id": "KJNF7J6fOSt0"
      },
      "execution_count": null,
      "outputs": []
    },
    {
      "cell_type": "code",
      "source": [
        "# Exercise 4 - #5\n",
        "# Calculate a new variable dividing the number of votes by the rating awarded. Which production is the most successful, with\n",
        "# the highest score in relation to the number of voters? And the least one?\n",
        "\n",
        "\n",
        "\n"
      ],
      "metadata": {
        "id": "5RPP_cDcOS-E"
      },
      "execution_count": null,
      "outputs": []
    },
    {
      "cell_type": "code",
      "source": [
        "# Exercise 4 - #6\n",
        "# Search your data for information on \"Arcane\", the best series ever created, by displaying its score and the number of voters\n",
        "# using print() and an f-string. Generalise your code to give the information for any row in the dataset if it exists, otherwise\n",
        "# say that the name is not in the list.\n",
        "\n",
        "\n",
        "\n"
      ],
      "metadata": {
        "id": "8SAIZC-iOTUk"
      },
      "execution_count": null,
      "outputs": []
    }
  ]
}