{
  "cells": [
    {
      "cell_type": "markdown",
      "metadata": {
        "id": "view-in-github",
        "colab_type": "text"
      },
      "source": [
        "<a href=\"https://colab.research.google.com/github/cbedart/CBPPS/blob/2024/EN_CBPPS_part1_variables.ipynb\" target=\"_parent\"><img src=\"https://colab.research.google.com/assets/colab-badge.svg\" alt=\"Open In Colab\"/></a>"
      ]
    },
    {
      "cell_type": "markdown",
      "metadata": {
        "id": "LPuIjLp6W3L8"
      },
      "source": [
        "**<h1><center>Part 1 -Introduction, first steps, and variables</center></h1>**"
      ]
    },
    {
      "cell_type": "markdown",
      "metadata": {
        "id": "3a6MchTJZm1Y"
      },
      "source": [
        "---"
      ]
    },
    {
      "cell_type": "markdown",
      "metadata": {
        "id": "wrw0Yi_s1EbK"
      },
      "source": [
        "#**➤ General introduction:**"
      ]
    },
    {
      "cell_type": "markdown",
      "metadata": {
        "id": "fxlHZiY2PZK1"
      },
      "source": [
        "### **What is \"Python\"?**\n",
        "\n",
        "- Programming language created in 1989, and made public in 1991\n",
        "- Latest version = Version 3.13 in October 2024\n",
        "- Python version 2 sometimes still used, but obsolete and does not have the same conventions = Avoid +++\n",
        "- Interesting features, making it a key programming language in many fields:\n",
        "- Multiplatform = Works equally well on Windows, Linux, Mac OSX, Android, iOS, small chips like Raspberry Pi, supercomputers, etc.\n",
        "    - Free and relatively easy to use\n",
        "    - High level language = Requires little knowledge of how a computer works to be used\n",
        "    - Interpreted language = No need to compile the script to be executed, unlike C and C++\n",
        "- Object oriented = Possible to design entities that mimic those of the real world with a certain number of operating rules and interactions.\n",
        "    - By far the most used language in the world\n",
        "    - Widely used in data analysis, for the production of quality figures for publication, in bioinformatics, in chemoinformatics, etc."
      ]
    },
    {
      "cell_type": "markdown",
      "metadata": {
        "id": "j7kQOqp6Qz67"
      },
      "source": [
        "### **Google Colab ?**\n",
        "\n",
        "- Free online interactive development environment, provided by Google\n",
        "- Based on Jupyter Notebook:\n",
        "    - Allows you to write and run Python code directly from a web browser\n",
        "    - Display of results below the different code blocks\n",
        "    - Also allows you to have blocks of text formattable in Markdown and HTML, which allows you to add comments, or to produce complex documents (like these courses!)\n",
        "- Major advantage = Free access to powerful computing resources, both CPU (used during these sessions) and GPU/TPU\n",
        "- To execute a block of code, simply press the small play button to the left of the block when it is hovered over it\n",
        "- You can add a new block of code or text by hovering your mouse between the blocks (image below) or using the `+Code` or `+Text` buttons at the top\n",
        "\n",
        "<center><img width=600 border=2 src=\"data:image/png;base64,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\"></center>\n",
        "\n",
        "- Some offline code editors also allow you to run these notebooks, such as Visual Studio Code (recommended) or PyCharm. However, they require your own hardware resources, therefore depending on your computer.\n",
        "- You can also, in certain configurations, have a Jypyter Notebook server running on a more powerful computer or a supercomputer, and access it from your web browser to benefit from its hardware resources without using those of your computer."
      ]
    },
    {
      "cell_type": "markdown",
      "metadata": {
        "id": "naLO592mXBHk"
      },
      "source": [
        "### **Resources that enabled this course**\n",
        "\n",
        "The course is based on excellent resources available on the internet or in bookstores (sometimes also available on ScholarVox via the ENT):\n",
        "- https://www.pythoncheatsheet.org/\n",
        "- https://quickref.me/python.html (super synthetic but requires an adblocker +++)\n",
        "- Data Sciences Institute at the University of Toronto - https://github.com/UofT-DSI/python/tree/main\n",
        "- Learn to program with Python - Gérard Swinnen\n",
        "- Automate the Boring Stuff with Python, 2nd Edition: Practical Programming for Total Beginners - Al Sweigart\n",
        "- Python Crash Course, 3rd Edition: A Hands-On, Project-Based Introduction to Programming - Eric Matthes\n",
        "- Python programming for life sciences, 1st edition - Patrick Fuchs, Pierre Poulain\n",
        "- https://openclassrooms.com/fr/courses/7168871-apprenez-les-bases-du-python-language"
      ]
    },
    {
      "cell_type": "markdown",
      "metadata": {
        "id": "pqJ1FtLzTyNr"
      },
      "source": [
        "### **First steps with an example**\n",
        "\n",
        "- The `print()` function allows you to display output"
      ]
    },
    {
      "cell_type": "code",
      "execution_count": null,
      "metadata": {
        "id": "I9UenU0LToSJ"
      },
      "outputs": [],
      "source": [
        "print(\"First line in python!\")"
      ]
    },
    {
      "cell_type": "markdown",
      "metadata": {
        "id": "1ue2NDg5T-iZ"
      },
      "source": [
        "- Using a `#` allows you to create a comment = The entire line will be ignored"
      ]
    },
    {
      "cell_type": "code",
      "execution_count": null,
      "metadata": {
        "id": "w_H40egOUGko"
      },
      "outputs": [],
      "source": [
        "# First comment!\n",
        "print(\"Successful\")"
      ]
    },
    {
      "cell_type": "markdown",
      "metadata": {
        "id": "owWM57nYUNW0"
      },
      "source": [
        "- Python works for certain functions/commands with **instruction blocks**, requiring **indentations** (most often 4 spaces, or a tab).\n",
        "- The identification must be consistent for everything to work perfectly. **The convention is therefore to use 4 species for indentation** in all scripts coded in python.\n",
        "- This concept will be seen later with loops, comparisons, tests, etc.\n",
        "\n",
        "\n",
        "\n",
        "```\n",
        "elements = [1,2,3,4]\n",
        "empty output\n",
        "for each element in elements:\n",
        "    show item\n",
        "    gradually complete an outing\n",
        "show output\n",
        "```"
      ]
    },
    {
      "cell_type": "markdown",
      "metadata": {
        "id": "a6vs96tpsFWV"
      },
      "source": [
        "- You can sometimes encounter a `\\` at the end of a line: this cuts the line of code to encode it on several lines, but which will be interpreted as a single large line."
      ]
    },
    {
      "cell_type": "code",
      "execution_count": null,
      "metadata": {
        "id": "XJZ7cpxysUm-"
      },
      "outputs": [],
      "source": [
        "print(\"It's once again successful, however this comment is really \\\n",
        "but really way too long. So long that I can't seem to \\\n",
        "read it correctly. Fortunately, Python is at least a little intelligent \\\n",
        "and will put this whole paragraph together in one line!\")"
      ]
    },
    {
      "cell_type": "markdown",
      "metadata": {
        "id": "j4wtlrG3zcMn"
      },
      "source": [
        "<br />\n",
        "\n",
        "---   "
      ]
    },
    {
      "cell_type": "markdown",
      "metadata": {
        "id": "39A7FM0l1baR"
      },
      "source": [
        "# **➤ Variables?**\n",
        "\n",
        "- Fundamental element for storing information\n",
        "- Declaration of a variable = Initialization\n",
        "- Has a name\n",
        "- Works like a box, accessible and manipulated as required\n",
        "\n",
        "<br />\n",
        "\n",
        "Variables allow you to:\n",
        "- **Storing values**: Numerical data, a character string, or much more complex formats which will be approached progressively\n",
        "- **Reuse data**: Once the value is stored, it can be reused as many times as desired without rewriting the value\n",
        "- **Simplify the code**: Makes the code more readable and easy to modify. The variable can be modified directly upstream without having to modify the entire code.\n",
        "- **Make the program dynamic**: Makes a program adaptable depending on the user/conditions, and takes these changes into account during code execution."
      ]
    },
    {
      "cell_type": "markdown",
      "metadata": {
        "id": "27FBt1oB6X9g"
      },
      "source": [
        "<h2><b> How to define a variable? </b></h2>\n",
        "\n",
        "- Give it a name\n",
        "- Use the = symbol for assignment\n",
        "- Assign a value to it\n",
        "\n",
        "Examples:"
      ]
    },
    {
      "cell_type": "code",
      "execution_count": null,
      "metadata": {
        "id": "Z6-pk3J76XzI"
      },
      "outputs": [],
      "source": [
        "name = \"Melatonin\"\n",
        "dose = 5\n",
        "concentration = 1.5"
      ]
    },
    {
      "cell_type": "markdown",
      "metadata": {
        "id": "M_DoZkM4K63r"
      },
      "source": [
        "<br />\n",
        "\n",
        "---   "
      ]
    },
    {
      "cell_type": "markdown",
      "metadata": {
        "id": "fn8RVidfGipL"
      },
      "source": [
        "#**➤ Naming rules:**\n",
        "\n",
        "Variable names in Python can only consist of:\n",
        "- Lowercase letters (a -z)\n",
        "- Capital letters (A -Z)\n",
        "- Numbers (0 -9)\n",
        "- Underdash _ (also called \"8 dash\", or underscore)\n",
        "\n",
        "<br />\n",
        "\n",
        "Other rules:\n",
        "- Variable names are case sensitive: two names with different capital letters are different variables, for example \"name_value\" and \"name_Value\" are different.\n",
        "- Impossible to start a variable name with a number\n",
        "- Not recommended to start with an underscore (reserved for internal variables), nor a capital letter (reserved for classes)\n",
        "- Avoid using a word already used for certain functions (print, type, for, if, ...)\n",
        "\n",
        "<br />\n",
        "\n",
        "Best practices:\n",
        "- **Explicit names**: Use names that describe the contents of the variable\n",
        "- **Respect conventions**: Use only lowercase letters with underscores to separate words\n",
        "- **Avoid reserved words**: To avoid losing access to the most useful functions\n",
        "\n",
        "<br />\n",
        "\n",
        "Examples:"
      ]
    },
    {
      "cell_type": "code",
      "execution_count": null,
      "metadata": {
        "id": "4qyevjnXGhVE"
      },
      "outputs": [],
      "source": [
        "drug_name = \"Melatonin\"\n",
        "drug_Name = \"Paracetamol\"\n",
        "patient_weight = 70\n",
        "dose_mg = 5\n",
        "\n",
        "print(drug_name)\n",
        "print(drug_Name)"
      ]
    },
    {
      "cell_type": "markdown",
      "metadata": {
        "id": "vIH7h_mWK_As"
      },
      "source": [
        "<br />\n",
        "\n",
        "---   \n"
      ]
    },
    {
      "cell_type": "markdown",
      "metadata": {
        "id": "Gz5UacZAKH9w"
      },
      "source": [
        "#**➤ Variable types:**\n",
        "\n",
        "There are 4 main types of variables commonly used in Python:\n",
        "\n",
        "- Integers (int)\n",
        "- Decimal numbers (float)   \n",
        "- Character strings (str)\n",
        "- Booleans (bool)"
      ]
    },
    {
      "cell_type": "markdown",
      "metadata": {
        "id": "HO2os1smKwk0"
      },
      "source": [
        "### **Integers (int)**\n",
        "\n",
        "- Used to store **integer numbers**\n",
        "- Suitable for quantitative or discrete values\n",
        "- Type = `int`"
      ]
    },
    {
      "cell_type": "code",
      "execution_count": null,
      "metadata": {
        "id": "LICqvpbQLWC1"
      },
      "outputs": [],
      "source": [
        "patient_weight = 70\n",
        "dose_mg = 5"
      ]
    },
    {
      "cell_type": "markdown",
      "metadata": {
        "id": "mOMB3oCTLart"
      },
      "source": [
        "### **Decimal, floating point number = Floats (float)**\n",
        "\n",
        "- Used to store **decimal numbers**\n",
        "- Suitable for calculations requiring precision\n",
        "- **Separator = POINT** (not comma)\n",
        "- Type = `float`"
      ]
    },
    {
      "cell_type": "code",
      "execution_count": null,
      "metadata": {
        "id": "3YpzJpmZL3Hl"
      },
      "outputs": [],
      "source": [
        "concentration = 1.5\n",
        "weight = 82.6"
      ]
    },
    {
      "cell_type": "markdown",
      "metadata": {
        "id": "tSZFjUEJLbk1"
      },
      "source": [
        "### **Strings (str)**\n",
        "\n",
        "- Used to store text or sequences of characters\n",
        "- Suitable for handling names, codes, categories, descriptive information, etc.\n",
        "- All characters are accepted\n",
        "- Defined by quotes `\"\"` or apostrophes `''` (the same type must be used at the start and end of the string)\n",
        "- Type = `str`\n",
        "- Special characters (\"escape characters\"):\n",
        "- `\\\"` or `\\'` = To allow the use of quotes and apostrophes in the text without opening/closing the variable. If \" is used to create the variable, ' can be used directly in the string, and vice versa .\n",
        "    - `\\n` = New line\n",
        "    - `\\t` = Tab\n",
        "    - `\\r` = Return to start of line (very little used, except Windows)\n",
        "    - `\\uXXXX` to use a Unicode identifier (example `\\u03B1` code for α) - https://symbl.cc/en/unicode-table/"
      ]
    },
    {
      "cell_type": "code",
      "execution_count": null,
      "metadata": {
        "id": "Sf-LQidjM1IA"
      },
      "outputs": [],
      "source": [
        "drug_name = \"Paracetamol\"\n",
        "name_princeps1 = 'Doliprane'\n",
        "\n",
        "description1 = \"This is a medicine and I can put a ' in my string.\"\n",
        "\n",
        "description2 = \"He prescribed effervescent \\\"Doliprane\\\" for her.\"\n",
        "print(description2)"
      ]
    },
    {
      "cell_type": "code",
      "execution_count": null,
      "metadata": {
        "id": "ktPf0H5gVps1"
      },
      "outputs": [],
      "source": [
        "test_stat = \"Risk \\u03B1 is set at 5%\"\n",
        "print(test_stat)"
      ]
    },
    {
      "cell_type": "code",
      "execution_count": null,
      "metadata": {
        "id": "8rpA7VOIVdY3"
      },
      "outputs": [],
      "source": [
        "#Specific case, 3 quotation marks/apostrophes can also be used. Mainly used to define variables on multiple lines\n",
        "princeps_name2 = \"\"\"Dafalgan\"\"\"\n",
        "description3 = \"\"\"The patient is out of trouble.\n",
        "He took his medicine well.\"\"\"\n",
        "\n",
        "print(description3)"
      ]
    },
    {
      "cell_type": "markdown",
      "metadata": {
        "id": "1_83zZV9LcO-"
      },
      "source": [
        "### **Booleans (bool)**\n",
        "\n",
        "- Represents logical values:\n",
        "- **`True`** = TRUE\n",
        "- **`False`** = FALSE\n",
        "- Always a capital letter at the beginning of a word\n",
        "- Adapted under conditions, logical decisions\n",
        "- Example to check if a condition is met or not\n",
        "- Type = `bool`"
      ]
    },
    {
      "cell_type": "code",
      "execution_count": null,
      "metadata": {
        "id": "5HOWPPOwKGfF"
      },
      "outputs": [],
      "source": [
        "have_fever = True\n",
        "treatment_effective = False\n",
        "valid_dose = True"
      ]
    },
    {
      "cell_type": "markdown",
      "metadata": {
        "id": "qs-fmz_MRgay"
      },
      "source": [
        "<br />\n",
        "\n",
        "---   "
      ]
    },
    {
      "cell_type": "markdown",
      "metadata": {
        "id": "Hm8oOvW8Rhb6"
      },
      "source": [
        "# **➤ Variable operations:**\n",
        "\n",
        "Each type of variable allows you to use a set of operations to carry out calculations, comparisons, transformations, etc."
      ]
    },
    {
      "cell_type": "markdown",
      "metadata": {
        "id": "8LzCjkLmR3VL"
      },
      "source": [
        "### Operations on integers and decimal numbers (numeric elements)\n",
        "\n",
        "Ints and floats allow you to perform basic mathematical operations:\n",
        "\n",
        "| Operation | Symbol | Example | Result |\n",
        "|---------------------|---------|--------------|---------------------------|\n",
        "| Addition | `+` | `5 + 3` | `8` |\n",
        "| Subtraction | `-` | `10 -4` | `6` |\n",
        "| Multiplication | `*` | `7 *2` | `14` |\n",
        "| Division | `/` | `15 /3` | `5.0` (always a float) |\n",
        "| Exponentiation | `**` | `2**3` | `8` |\n",
        "| Integer division | `//` | `7 //2` | `3` (rounded down)|\n",
        "| Modulo (rest) | `%` | `10% 3` | `1` (remainder of division)|\n",
        "\n",
        "<br /> Examples:"
      ]
    },
    {
      "cell_type": "code",
      "execution_count": null,
      "metadata": {
        "id": "adiVb87AVHfk"
      },
      "outputs": [],
      "source": [
        "daily_dose = 1.5\n",
        "treatment_days = 10\n",
        "\n",
        "total_dose = daily_dose *treatment_days\n",
        "print(total_dose)"
      ]
    },
    {
      "cell_type": "code",
      "execution_count": null,
      "metadata": {
        "id": "4_Z3SiQyVOrW"
      },
      "outputs": [],
      "source": [
        "patients = 3\n",
        "total_doses = 50\n",
        "doses_per_patient = total_doses //patients\n",
        "print(doses_per_patient)"
      ]
    },
    {
      "cell_type": "markdown",
      "metadata": {
        "id": "o-9beViZSTIG"
      },
      "source": [
        "### String operations\n",
        "\n",
        "Strings allow concatenation (= combination) and repetition operations:\n",
        "\n",
        "| Operation | Symbol | Example | Result |\n",
        "|---------------------|---------|-----------------------|--------------------------------|\n",
        "| Concatenation | `+` | `\"First name: \" + \"Robert\"`| `\"First name: Robert\"` |\n",
        "| Repetition | `*` | `\"No \" *3` | `\"No No No\"` |"
      ]
    },
    {
      "cell_type": "markdown",
      "metadata": {
        "id": "ABTJGZjNTEEr"
      },
      "source": [
        "### Logical operations and comparisons (bool)\n",
        "\n",
        "Operations on Booleans allow comparisons, logical operations, etc.\n",
        "\n",
        "| Operation | Symbol | Example | Result |\n",
        "|---------------------|---------|--------------------------|----------------------------|\n",
        "| Equality | `==` | `5 == 5` | `True` |\n",
        "| Inequality | `!=` | `5 != 4` | `True` |\n",
        "| Greater than | `>` | `10 > 5` | `True` |\n",
        "| Smaller than | `<` | `3 < 5` | `True` |\n",
        "| Greater or equal | `>=` | `5 >= 5` | `True` |\n",
        "| Smaller or equal | `<=` | `3 <= 4` | `True` |\n",
        "| AND logical | `and` | `(a > b) and (a > c)` | `True` if both are true |\n",
        "| logical OR | `or` | `(a > b) or (a > c)` | `True` if at least one is true|\n",
        "| Negation | `not` | `not(a > b)` | `False` if `a > b` is true|"
      ]
    },
    {
      "cell_type": "markdown",
      "metadata": {
        "id": "61oOiuwUTJAb"
      },
      "source": [
        "### Type conversions\n",
        "\n",
        "Conversions allow you to transform one type of variable into another. Useful when operations involve several types (as a reminder, the \"print\" function only accepts a single type of variable, unless converted to the type used).\n",
        "\n",
        "The conversion only works if, after conversion, the value can be assigned:\n",
        "- From numeric values ​​and bool to string, no problem\n",
        "- From string to numeric value, only if the string only contains text with a numeric value\n",
        "- From string to bool, only the number 0 will give `False`, everything else will give `True`\n",
        "\n",
        "\n",
        "| Function | Description | Example | Result |\n",
        "|-----------------|--------------------------------------------|---------|-------------------------|\n",
        "| `int()` | Convert to integer | `int(3.6)` | `3` |\n",
        "| `float()` | Convert to decimal | `float(\"3.6\")` | `3.6` |\n",
        "| `str()` | Convert to string | `str(5)` | `\"5\"` |\n",
        "| `bool()` | Converts to boolean (0 = False, 1+ = True) | `bool(0)`, `bool(10)` | `False`, `True` |"
      ]
    },
    {
      "cell_type": "markdown",
      "metadata": {
        "id": "gE2oiOkvyY0t"
      },
      "source": [
        "### Some useful functions\n",
        "\n",
        "- **`min()`**: Allows you to return the minimum of several integers/floats.\n",
        "- **`max()`**: Allows you to return the maximum of several integers/floats."
      ]
    },
    {
      "cell_type": "code",
      "execution_count": null,
      "metadata": {
        "id": "DBa7wje_0spu"
      },
      "outputs": [],
      "source": [
        "min(1,2,3,4)"
      ]
    },
    {
      "cell_type": "code",
      "execution_count": null,
      "metadata": {
        "id": "y3AbkFDk0uvN"
      },
      "outputs": [],
      "source": [
        "max(1.3, 2.5, 6)"
      ]
    },
    {
      "cell_type": "code",
      "execution_count": null,
      "metadata": {
        "id": "O_Ww4t190x6B"
      },
      "outputs": [],
      "source": [
        "min(5/6, 1/3, 8/7, 2)"
      ]
    },
    {
      "cell_type": "markdown",
      "metadata": {
        "id": "GbNGDIHQ0k3t"
      },
      "source": [
        "\\-------------------------------------------------------------------------------\n",
        "\n",
        "- **`print():`**\n",
        "- Can be used in addition to string concatenation to create complex output. In this case, print only accepts one type of variable. If strings are used, all other variables must be converted to string. If numeric elements are used, this will perform the mathematical operation before displaying.\n",
        "- Several variables can be given in succession, separated by commas, allowing the elements to be displayed without converting them first. A space will be used by default to separate elements.\n",
        "- Has additional arguments, such as:\n",
        "    - `end=\"X\"` which allows you to specify what the suffix will be at the end of the display.\n",
        "    - `sep=\"X\"` which allows you to specify which separator will be used when displaying several variables entered and separated by commas."
      ]
    },
    {
      "cell_type": "code",
      "execution_count": null,
      "metadata": {
        "id": "-TspENMfzvci"
      },
      "outputs": [],
      "source": [
        "patient_name = \"Robert\"\n",
        "medication = \"Paracetamol\"\n",
        "treatment_duration = 5\n",
        "\n",
        "print(patient_name + \" must take \" + medication + \" for \" + str(treatment_duration) + \" days.\")"
      ]
    },
    {
      "cell_type": "code",
      "execution_count": null,
      "metadata": {
        "id": "qkmXhhYe5ZQQ"
      },
      "outputs": [],
      "source": [
        "print(patient_name, \"must take\", medication, \"during\", treatment_duration, \"days.\")"
      ]
    },
    {
      "cell_type": "code",
      "execution_count": null,
      "metadata": {
        "id": "hmf90yKF5t9a"
      },
      "outputs": [],
      "source": [
        "print(patient_name, \"must take\", medication, \"during\", treatment_duration, \"days.\", sep = \"-\")"
      ]
    },
    {
      "cell_type": "markdown",
      "metadata": {
        "id": "b3LPGKeST9eU"
      },
      "source": [
        "\\-------------------------------------------------------------------------------\n",
        "\n",
        "- **Augmented assignment operators:**\n",
        "    - To simplify the code, Python allows the use of \"augmented assignment operators\" which allows you to shorten the modification of a variable by an operator.\n",
        "    - Instead of `a = a + 1`, it is possible to use `a += 1`\n",
        "    - Works with:\n",
        "        - Additions `+=`\n",
        "        - Subtractions `-=`\n",
        "        - Divisions `/=` and `//=`\n",
        "        - Modulo `%=`\n",
        "        - Multiplications and power `*=` and `**=`"
      ]
    },
    {
      "cell_type": "code",
      "execution_count": null,
      "metadata": {
        "id": "z8JX86zzUbyO"
      },
      "outputs": [],
      "source": [
        "treatment_duration = 5\n",
        "\n",
        "treatment_duration += 3\n",
        "print(\"Processing duration +3 days =\", treatment_duration, \"days\")\n",
        "\n",
        "treatment_duration /= 2\n",
        "print(\"Processing duration divided by two =\", treatment_duration, \"days\")"
      ]
    },
    {
      "cell_type": "markdown",
      "metadata": {
        "id": "vJcmAFiP5476"
      },
      "source": [
        "\\-------------------------------------------------------------------------------\n",
        "\n",
        "- **Writing formatted using f-strings**\n",
        "    - Allows even more customization in terms of strings\n",
        "    - Just requires an `f` before the string, example `f\"Robert\"`\n",
        "- A variable can be placed without problem and without conversion in an f-string with braces, and the name of the variable in the middle, example `f\"Robert is {age} years old.\"`\n",
        "    - Operations, functions, or other expressions can be used directly within the braces of an f-string, example `f\"Robert has {right_fingers + left_fingers} fingers.\"`\n",
        "- Modifiers can be added to format the display using the colon `:` after the variable name\n",
        "    - Example to display only the first 2 decimal places = `f\"Robert has a blood sugar level of {glycemia:.2f} g/L.\"`\n",
        "    - If braces must be used in the text, they must be doubled, example `Literal braces {{}} or {{ or }}`\n",
        "\n",
        "Other possible modifiers:\n",
        "\n",
        "| Modifier | Description | Example | Result |\n",
        "|--------------|--------------------------------------------------------------------------------------------------|----------------------------------------|---------------------------------|\n",
        "| `:.nf` | Displays a float number with `n` decimal places.                                                   | `f\"{3.14159:.2f}\"` | `3.14` |\n",
        "| `:d` | Displays an integer in decimal notation.                                                          | `f\"{42:d}\"` | `42` |\n",
        "| `:x` | Displays an integer in hexadecimal (lowercase).                                                    | `f\"{255:x}\"` | `ff` |\n",
        "| `:X` | Displays an integer in hexadecimal (uppercase).                                                    | `f\"{255:X}\"` | `FF` |\n",
        "| `:b` | Displays an integer in binary.                                                                    | `f\"{10:b}\"` | `1010` |\n",
        "| `:,` | Adds a comma as thousands separator (in decimal notation).                          | `f\"{1000000:,}\"` | `1,000,000` |\n",
        "| `:_` | Adds an underscore `_` as a thousands separator (European numerical notation).             | `f\"{1000000:_}\"` | `1_000_000` |\n",
        "| `:%` | Shows a percentage number (multiply by 100 and add `%`).                              | `f\"{0.85:%}\"` | `85.000000%` |\n",
        "| `:.n%` | Displays a percentage number with `n` decimal places.                                             | `f\"{0.85:.1%}\"` | `85.0%` |\n",
        "| `:e` | Displays a number in scientific notation (lowercase exponent).                                 | `f\"{12345:e}\"` | `1.234500e+04` |\n",
        "| `:E` | Displays a number in scientific notation (uppercase exponent).                                 | `f\"{12345:E}\"` | `1.234500E+04` |\n",
        "| `:>n` | Aligns text to the right, with a width of `n` characters.                                    | `f\"{42:>5}\"` | `42` |\n",
        "| `:<n` | Aligns text to the left, with a width of `n` characters.                                    | `f\"{42:<5}\"` | `42 ` |\n",
        "| `:^n` | Centers the text, with a width of `n` characters.                                             | `f\"{42:^5}\"` | ` 42 ` |\n",
        "| `:0n` | Padded with leading zeros, for a width of `n` characters.                             | `f\"{42:05}\"` | `00042` |"
      ]
    },
    {
      "cell_type": "code",
      "execution_count": null,
      "metadata": {
        "id": "ZdQBs6qt6xyT"
      },
      "outputs": [],
      "source": [
        "text = f\"Robert\"\n",
        "print(text)"
      ]
    },
    {
      "cell_type": "code",
      "execution_count": null,
      "metadata": {
        "id": "imTBuAgP63zZ"
      },
      "outputs": [],
      "source": [
        "age = 55\n",
        "text = f\"Robert is {age} years old.\"\n",
        "print(text)"
      ]
    },
    {
      "cell_type": "code",
      "execution_count": null,
      "metadata": {
        "id": "mnIVb6eQ768l"
      },
      "outputs": [],
      "source": [
        "glycemia = 1.04589\n",
        "text = f\"Robert has a blood sugar level of {glycemia:.2f} g/L.\"\n",
        "print(text)"
      ]
    },
    {
      "cell_type": "markdown",
      "metadata": {
        "id": "_v9E9HqyvEYe"
      },
      "source": [
        "<br />\n",
        "\n",
        "---   "
      ]
    },
    {
      "cell_type": "markdown",
      "metadata": {
        "id": "8RpoKAFhu2HB"
      },
      "source": [
        "# **➤ Exercises:**"
      ]
    },
    {
      "cell_type": "markdown",
      "metadata": {
        "id": "m2FOMZsJ_6Ob"
      },
      "source": [
        "**<u>Exercise 1:</u>** Try to predict the outcome of each of the following lines:\n",
        "1. `(1+2)**3`\n",
        "2. `(\"Pa\"+\"La\") *2`\n",
        "3. `5 /2`\n",
        "4. `5 //2`\n",
        "5. `5% 2`\n",
        "6. `str(4) *int(\"3\")`\n",
        "7. `int(\"3\") + float(\"3.2\")`\n",
        "8. `str(3) *float(\"3.2\")`\n",
        "9. `str(3/4) *2`"
      ]
    },
    {
      "cell_type": "code",
      "execution_count": null,
      "metadata": {
        "id": "EEUgTQP8AV25"
      },
      "outputs": [],
      "source": [
        "# Exercise 1:\n",
        "\n",
        "# 1. =\n",
        "# 2. =\n",
        "# 3. =\n",
        "# 4. =\n",
        "# 5. =\n",
        "# 6. =\n",
        "# 7. =\n",
        "# 8. =\n",
        "# 9. ="
      ]
    },
    {
      "cell_type": "markdown",
      "metadata": {
        "id": "GYbygKBtv_HT"
      },
      "source": [
        "**<u>Exercise 2:</u>**\n",
        "Create a script that converts concentrations from mg/L to g/L"
      ]
    },
    {
      "cell_type": "code",
      "execution_count": null,
      "metadata": {
        "id": "HE0CUFpHwBtk"
      },
      "outputs": [],
      "source": [
        "# Exercise 2:\n",
        "\n"
      ]
    },
    {
      "cell_type": "markdown",
      "metadata": {
        "id": "Xhxw4fxC_Tm2"
      },
      "source": [
        "**<u>Exercise 3:</u>** Without literally typing all the bases, generate:\n",
        "1. A string representing a polyA DNA strand (containing only A bases) of 30 bases in length\n",
        "2. A string representing a poly-A DNA strand of 20 bases, followed by a poly-GC (GCGCGC...) of 40 bases.\n",
        "3. Display the contents of the variable `perc_GC = ((4500 + 2575)/14800)*100` with 0, 1, 2, then 3 decimal places in rounded form using formatted writing and f-strings. We want the program to display the following output:\n",
        "```\n",
        "The percentage of GC is 48     %\n",
        "The percentage of GC is 47.8   %\n",
        "The percentage of GC is 47.80  %\n",
        "The percentage of GC is 47.804 %\n",
        "```"
      ]
    },
    {
      "cell_type": "code",
      "execution_count": null,
      "metadata": {
        "id": "8NA8iexF_42d"
      },
      "outputs": [],
      "source": [
        "#Exercise 3 – Part 1:\n",
        "\n"
      ]
    },
    {
      "cell_type": "code",
      "execution_count": null,
      "metadata": {
        "id": "EQGDpaOgBklv"
      },
      "outputs": [],
      "source": [
        "#Exercise 3 – Part 2:\n",
        "\n"
      ]
    },
    {
      "cell_type": "code",
      "execution_count": null,
      "metadata": {
        "id": "aWSsiGr5Bk5G"
      },
      "outputs": [],
      "source": [
        "#Exercise 3 – Part 3:\n",
        "\n"
      ]
    },
    {
      "cell_type": "markdown",
      "metadata": {
        "id": "2jrDMVSLvNDS"
      },
      "source": [
        "**<u>Exercise 4:</u>**\n",
        "\n",
        "1. Create a script to calculate the BMI of an individual who weighs 70kg and is 1m70 tall. It is necessary to provide output that generates a sentence like \"The individual weighing X and measuring X has a BMI of X\", rounded to the 1st decimal place.\n",
        "3. Then copy your script to modify only your variables, and measure the BMI of an individual who weighs 110kg and 1m98.\n",
        "\n",
        "As a reminder: $\\text{BMI} = \\frac{\\text{Weight (in kg)}}{\\left(\\text{Height (in m)}\\right)^2}$"
      ]
    },
    {
      "cell_type": "code",
      "execution_count": null,
      "metadata": {
        "id": "V-aG5C6ywBTx"
      },
      "outputs": [],
      "source": [
        "#Exercise 4 – Part 1:\n",
        "\n"
      ]
    },
    {
      "cell_type": "code",
      "execution_count": null,
      "metadata": {
        "id": "c8HnI2jRB9cF"
      },
      "outputs": [],
      "source": [
        "#Exercise 4 – Part 2:\n",
        "\n"
      ]
    },
    {
      "cell_type": "markdown",
      "metadata": {
        "id": "RZv59TwdvzDf"
      },
      "source": [
        "**<u>Exercise 5:</u>**\n",
        "Create a script to convert from degrees Fahrenheit to degrees Celcius, then from degrees Celcius to Fahrenheit.\n",
        "\n",
        "As a reminder:\n",
        "- $\\text{Celsius (°C)} = \\frac{5}{9} \\times (\\text{Fahrenheit (°F)} -32)$\n",
        "- $\\text{Fahrenheit (°F)} = \\left(\\text{Celsius (°C)} \\times \\frac{9}{5}\\right) + 32$"
      ]
    },
    {
      "cell_type": "code",
      "execution_count": null,
      "metadata": {
        "id": "yPnMgJ3GyOH6"
      },
      "outputs": [],
      "source": [
        "#Exercise 5 – Part 1:\n",
        "\n"
      ]
    },
    {
      "cell_type": "code",
      "execution_count": null,
      "metadata": {
        "id": "f2GmdkTTCAI2"
      },
      "outputs": [],
      "source": [
        "#Exercise 5 – Part 2:\n",
        "\n"
      ]
    }
  ],
  "metadata": {
    "colab": {
      "provenance": [],
      "include_colab_link": true
    },
    "kernelspec": {
      "display_name": "Python 3",
      "name": "python3"
    },
    "language_info": {
      "name": "python"
    }
  },
  "nbformat": 4,
  "nbformat_minor": 0
}