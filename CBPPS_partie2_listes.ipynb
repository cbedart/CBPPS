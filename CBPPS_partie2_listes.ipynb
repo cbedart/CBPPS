{
  "nbformat": 4,
  "nbformat_minor": 0,
  "metadata": {
    "colab": {
      "provenance": [],
      "authorship_tag": "ABX9TyNxfP8A4Q8cMmk8ZDdT3WUF",
      "include_colab_link": true
    },
    "kernelspec": {
      "name": "python3",
      "display_name": "Python 3"
    },
    "language_info": {
      "name": "python"
    }
  },
  "cells": [
    {
      "cell_type": "markdown",
      "metadata": {
        "id": "view-in-github",
        "colab_type": "text"
      },
      "source": [
        "<a href=\"https://colab.research.google.com/github/cbedart/CBPPS/blob/2024/CBPPS_partie2_listes.ipynb\" target=\"_parent\"><img src=\"https://colab.research.google.com/assets/colab-badge.svg\" alt=\"Open In Colab\"/></a>"
      ]
    },
    {
      "cell_type": "markdown",
      "source": [
        "**<h1><center>Partie 2 - Listes et leur manipulation</center></h1>**"
      ],
      "metadata": {
        "id": "KMHXmIyeZ1ST"
      }
    },
    {
      "cell_type": "markdown",
      "source": [
        "---"
      ],
      "metadata": {
        "id": "0bY53CbsZxrV"
      }
    },
    {
      "cell_type": "markdown",
      "source": [
        "# **➤ Listes**\n",
        "\n",
        "- Structure de données contenant une collection d'objets\n",
        "- Peut contenir des variables, mais pas que\n",
        "- Objet séquentiel = Contient une séquence d'autres objets\n",
        "\n",
        "<br />\n",
        "\n",
        "Les listes sont:\n",
        "- Codées en utilisant des crochets `[` et `]`\n",
        "- La série de valeurs est séparée par des virgules `,`\n"
      ],
      "metadata": {
        "id": "DMgrj8nukQdU"
      }
    },
    {
      "cell_type": "code",
      "source": [
        "liste1 = [\"noisettes\", \"pommes\", \"oranges\", \"poires\"]\n",
        "liste2 = [12, 54, 29]\n",
        "liste3 = [\"règle\", 14.368, \"disque\", 12]\n",
        "\n",
        "print(liste3)"
      ],
      "metadata": {
        "id": "0qcGCkqMmI9W"
      },
      "execution_count": null,
      "outputs": []
    },
    {
      "cell_type": "markdown",
      "source": [
        "<br />\n",
        "\n",
        "---   "
      ],
      "metadata": {
        "id": "f6Myw0J14SeO"
      }
    },
    {
      "cell_type": "markdown",
      "source": [
        "### **Ordre des valeurs**\n",
        "\n",
        "- Il est possible d'accéder aux différents éléments par leur position = Leur indice\n",
        "- **/!\\ En python, le premier élément est toujours le numéro 0 et le dernier est le numéro n-1**\n",
        "- Il est possible d'utiliser des indices négatifs qui seront comptés à partir de la fin, à partir de -1\n",
        "\n",
        "`liste1 = [\"noisettes\", \"pommes\", \"oranges\", \"poires\"]`\n",
        "<br />\n",
        "`Indice + : ... 0 ......... 1 ....... 2 ........ 3`\n",
        "<br />\n",
        "`Indice - : .. -4 ........ -3 ...... -2 ....... -1`\n",
        "- Si l'indice est erronnée = Erreur du type `IndexError: list index out of range`\n"
      ],
      "metadata": {
        "id": "OtLtrXAamxU6"
      }
    },
    {
      "cell_type": "code",
      "source": [
        "print(liste1[0])"
      ],
      "metadata": {
        "id": "hWv17FMmoNi0"
      },
      "execution_count": null,
      "outputs": []
    },
    {
      "cell_type": "code",
      "source": [
        "print(liste1[1])"
      ],
      "metadata": {
        "id": "dz4mLbwIuHdI"
      },
      "execution_count": null,
      "outputs": []
    },
    {
      "cell_type": "code",
      "execution_count": null,
      "metadata": {
        "id": "ccLrvUGjkMv7"
      },
      "outputs": [],
      "source": [
        "print(liste1[2])"
      ]
    },
    {
      "cell_type": "code",
      "source": [
        "print(liste1[3])"
      ],
      "metadata": {
        "id": "FUKXJBcVuI5d"
      },
      "execution_count": null,
      "outputs": []
    },
    {
      "cell_type": "code",
      "source": [
        "print(liste1[4])"
      ],
      "metadata": {
        "id": "TPTumMF1uJNY"
      },
      "execution_count": null,
      "outputs": []
    },
    {
      "cell_type": "code",
      "source": [
        "print(liste1[-2])"
      ],
      "metadata": {
        "id": "_kkuozv24JMZ"
      },
      "execution_count": null,
      "outputs": []
    },
    {
      "cell_type": "markdown",
      "source": [
        "<br />\n",
        "\n",
        "---   "
      ],
      "metadata": {
        "id": "87qQMP_j4Rfm"
      }
    },
    {
      "cell_type": "markdown",
      "source": [
        "### **Tranches**\n",
        "\n",
        "- Possibilité également de sélectionner une partie de la liste en utilisant une séquence d'indices sous la forme `[m:n+1]`\n",
        "- Récupération de tous les éléments à partir de l'indice **`m INCLUS`**\n",
        "- Jusque l'indice **`n+1 EXCLUS`**\n",
        "- Si `m` n'est pas renseigné, tous les éléments depuis le début seront sélectionnés\n",
        "- Si `n+1` n'est pas renseigné, tous les éléments jusque la fin seront sélectionnés\n",
        "- Vous pouvez également préciser un `pas` en plus de `m` et `n+1` avec un 3ème élément, du type `[m:n+1:pas]`"
      ],
      "metadata": {
        "id": "GyQCcoBU4mBM"
      }
    },
    {
      "cell_type": "code",
      "source": [
        "print(liste1[0:2])"
      ],
      "metadata": {
        "id": "o0HqztaY4Y4J"
      },
      "execution_count": null,
      "outputs": []
    },
    {
      "cell_type": "code",
      "source": [
        "print(liste1[1:])"
      ],
      "metadata": {
        "id": "Wx8Va2Y55G2Z"
      },
      "execution_count": null,
      "outputs": []
    },
    {
      "cell_type": "code",
      "source": [
        "print(liste1[:3])"
      ],
      "metadata": {
        "id": "KHS_vj_Q5I8a"
      },
      "execution_count": null,
      "outputs": []
    },
    {
      "cell_type": "code",
      "source": [
        "print(liste1[0:2:2])\n",
        "print(liste1[::2])"
      ],
      "metadata": {
        "id": "tURMYP-05PVk"
      },
      "execution_count": null,
      "outputs": []
    },
    {
      "cell_type": "markdown",
      "source": [
        "<br />\n",
        "\n",
        "---   "
      ],
      "metadata": {
        "id": "N0tkdD734XDS"
      }
    },
    {
      "cell_type": "markdown",
      "source": [
        "### **Opérations sur les listes**\n",
        "\n",
        "- Fonctionne à peu près de la même manière que les strings\n",
        "- Concaténations à l'aide de `+` : Permet de fusionner deux listes\n",
        "- Duplications à l'aide de `*` : Permet de générer de longues listes d'éléments répétés"
      ],
      "metadata": {
        "id": "4I_WvHzGu0fQ"
      }
    },
    {
      "cell_type": "code",
      "source": [
        "liste1 = [\"noisettes\", \"pommes\", \"oranges\", \"poires\"]\n",
        "liste2 = [\"sucre\", \"lait\", \"farine\"]\n",
        "\n",
        "print(liste1 + liste2)"
      ],
      "metadata": {
        "id": "_ir0yym42Gy0"
      },
      "execution_count": null,
      "outputs": []
    },
    {
      "cell_type": "code",
      "source": [
        "print(liste2 * 2)"
      ],
      "metadata": {
        "id": "1PdHV__k2Ncp"
      },
      "execution_count": null,
      "outputs": []
    },
    {
      "cell_type": "markdown",
      "source": [
        "- Possibilité de rajouter des éléments à une liste avec la méthode `.append()` associée aux listes\n",
        "- Cette méthode modifie directement la liste, pas besoin d'utiliser le symbole `=`\n",
        "- `liste.append(12)` équivaut à `liste = liste + [12]`"
      ],
      "metadata": {
        "id": "3Q2bPD_h2inK"
      }
    },
    {
      "cell_type": "code",
      "source": [
        "liste1.append(\"fraises\")\n",
        "print(liste1)"
      ],
      "metadata": {
        "id": "GDeL3kAV2pDm"
      },
      "execution_count": null,
      "outputs": []
    },
    {
      "cell_type": "markdown",
      "source": [
        "<br />\n",
        "\n",
        "---   "
      ],
      "metadata": {
        "id": "AIXCHhs-aQSA"
      }
    },
    {
      "cell_type": "markdown",
      "source": [
        "### **Utilisation importante des listes:**\n",
        "- Création d'une liste vide\n",
        "- Rajouts d'éléments progressivement avec soit `+`, soit `.append()`"
      ],
      "metadata": {
        "id": "U41_elUx2XAO"
      }
    },
    {
      "cell_type": "code",
      "source": [
        "liste4 = []\n",
        "print(liste4)"
      ],
      "metadata": {
        "id": "RiJcOf_G3Nf8"
      },
      "execution_count": null,
      "outputs": []
    },
    {
      "cell_type": "code",
      "source": [
        "liste4 = liste4 + [\"Concatenation\"]\n",
        "print(liste4)"
      ],
      "metadata": {
        "id": "-KBZjPmF3Rlj"
      },
      "execution_count": null,
      "outputs": []
    },
    {
      "cell_type": "code",
      "source": [
        "liste4.append(12)\n",
        "print(liste4)"
      ],
      "metadata": {
        "id": "A9E912IW3YbI"
      },
      "execution_count": null,
      "outputs": []
    },
    {
      "cell_type": "markdown",
      "source": [
        "<br />\n",
        "\n",
        "---   "
      ],
      "metadata": {
        "id": "n528K84haPdZ"
      }
    },
    {
      "cell_type": "markdown",
      "source": [
        "### **Changer un élément d'une liste:**\n",
        "- Il suffit simplement de remplacer l'élément qui veut être modifié par un nouvel élément"
      ],
      "metadata": {
        "id": "cgKZOztsmGPG"
      }
    },
    {
      "cell_type": "code",
      "source": [
        "print(liste4)\n",
        "\n",
        "liste4[1] = 14\n",
        "\n",
        "print(liste4)"
      ],
      "metadata": {
        "id": "UMOlxsfxmNW_"
      },
      "execution_count": null,
      "outputs": []
    },
    {
      "cell_type": "markdown",
      "source": [
        "### **Utiliser des méthodes pour modifier précisément les éléments d'une liste:**\n",
        "- `liste.append()` permet de rajouter un élément à la fin de la liste modifiée (et un seul élément!)\n",
        "- `liste.extend()` permet de rajouter les éléments d'une liste à la fin de la liste modifiée.\n",
        "- `liste.insert()` permet d'insérer un élément à une position spécifique en lui donnant un indice.\n",
        "- `liste.pop()` permet de retirer un élémént à une position spécifique en lui donnant un indice.\n",
        "- `liste.remove()` permet de retirer un élémént en fonction de sa valeur.\n",
        "- `liste.sort()` permet de trier les éléments de la liste en fonction de leur valeur. Par défaut = croissant. Pour avoir l'ordre décroissant, il faut utiliser l'argument reverse: `liste.sort(reverse=True)`\n",
        "- `liste.reverse()` permet d'inverser totalement l'ordre de la liste."
      ],
      "metadata": {
        "id": "nX9smqB0Vfzo"
      }
    },
    {
      "cell_type": "code",
      "source": [
        "liste4 = [1,2,3,4]\n",
        "liste4.append([5,6])\n",
        "print(liste4)"
      ],
      "metadata": {
        "id": "HTcan4pwVuQx"
      },
      "execution_count": null,
      "outputs": []
    },
    {
      "cell_type": "code",
      "source": [
        "liste4 = [1,2,3,4]\n",
        "liste4.extend([5,6])\n",
        "print(liste4)"
      ],
      "metadata": {
        "id": "PzPXCnsQWoaL"
      },
      "execution_count": null,
      "outputs": []
    },
    {
      "cell_type": "code",
      "source": [
        "liste4 = [1,2,3,4]\n",
        "liste4.insert(3, \"trois petits chats\")\n",
        "print(liste4)"
      ],
      "metadata": {
        "id": "-hywZQWeW7x2"
      },
      "execution_count": null,
      "outputs": []
    },
    {
      "cell_type": "code",
      "source": [
        "liste4 = [1,2,3,4]\n",
        "liste4.pop(2)\n",
        "print(liste4)"
      ],
      "metadata": {
        "id": "xIm4CLwcXSn2"
      },
      "execution_count": null,
      "outputs": []
    },
    {
      "cell_type": "code",
      "source": [
        "liste4 = [1,2,3,4]\n",
        "liste4.remove(2)\n",
        "print(liste4)"
      ],
      "metadata": {
        "id": "hO4kuyaDXcQu"
      },
      "execution_count": null,
      "outputs": []
    },
    {
      "cell_type": "code",
      "source": [
        "liste4 = [1,5,2,4,3]\n",
        "\n",
        "liste4.sort()\n",
        "print(liste4)\n",
        "\n",
        "liste4.sort(reverse=True)\n",
        "print(liste4)"
      ],
      "metadata": {
        "id": "motELz4xgW-N"
      },
      "execution_count": null,
      "outputs": []
    },
    {
      "cell_type": "code",
      "source": [
        "liste4 = [1,2,3,4]\n",
        "liste4.reverse()\n",
        "print(liste4)"
      ],
      "metadata": {
        "id": "0MjxkfHkgeYU"
      },
      "execution_count": null,
      "outputs": []
    },
    {
      "cell_type": "markdown",
      "source": [
        "<br />\n",
        "\n",
        "---   "
      ],
      "metadata": {
        "id": "brzvVIPbl2pk"
      }
    },
    {
      "cell_type": "markdown",
      "source": [
        "### **Cas intéressant = un string est une liste de caractères non modifiable**\n",
        "\n",
        "Tout ce qui est au dessus, que ce soit utilisation des indices, tranches, et opérations, fonctionnent sur les strings\n",
        "/!\\ Il n'est pas possible de modifier des lettres en remplaçant la valeur obtenue par son indice, un **string est une liste non modifiable**"
      ],
      "metadata": {
        "id": "wHHP8AV_lx3M"
      }
    },
    {
      "cell_type": "code",
      "source": [
        "string1 = \"noisettes\"\n",
        "\n",
        "print(string1[0])\n",
        "print(string1[:3])\n",
        "print(string1[-2])\n",
        "print(string1 + string1)\n",
        "print(string1 * 3)"
      ],
      "metadata": {
        "id": "BhNKOCplm2Aw"
      },
      "execution_count": null,
      "outputs": []
    },
    {
      "cell_type": "markdown",
      "source": [
        "De la même manière qu'au dessus, comme un string peut être considéré comme une liste de caractères, la méthode `liste.extend()` rajoutera à la liste chaque caractère séparément:"
      ],
      "metadata": {
        "id": "sl597ASKWLIJ"
      }
    },
    {
      "cell_type": "code",
      "source": [
        "liste = []\n",
        "liste.extend(string1)\n",
        "print(liste)"
      ],
      "metadata": {
        "id": "itI9bRtZWYoD"
      },
      "execution_count": null,
      "outputs": []
    },
    {
      "cell_type": "markdown",
      "source": [
        "<br />\n",
        "\n",
        "---   "
      ],
      "metadata": {
        "id": "8Bx-Xk3AlUFd"
      }
    },
    {
      "cell_type": "markdown",
      "source": [
        "### **Second cas intéressant = un tuple est une liste non modifiable**\n",
        "\n",
        "- De la même manière que pour les strings, les tuples sont des listes qui ne sont pas modifiables. Elles sont mêmes immuables: rien ne peut être ajouté, retiré, modifié.\n",
        "- Le seul moyen de modifier un tuple est de créer un tout nouveau tuple en utilisant les opérations sur les listes.\n",
        "- Au lieu d'utiliser des crochets `[ et ]`, des parenthèses sont utilisées `( et )`"
      ],
      "metadata": {
        "id": "iCVZwUqmprmM"
      }
    },
    {
      "cell_type": "code",
      "source": [
        "tuple1 = (\"sucre\", \"lait\", \"farine\")\n",
        "print(tuple1[0])"
      ],
      "metadata": {
        "id": "WdoqBxkRqQDL"
      },
      "execution_count": null,
      "outputs": []
    },
    {
      "cell_type": "code",
      "source": [
        "tuple1.append(\"levure\")"
      ],
      "metadata": {
        "id": "46tRdI6SqjEY"
      },
      "execution_count": null,
      "outputs": []
    },
    {
      "cell_type": "code",
      "source": [
        "tuple1 = tuple1 + (\"levure\",)\n",
        "print(tuple1)"
      ],
      "metadata": {
        "id": "THjBGdIPqoLy"
      },
      "execution_count": null,
      "outputs": []
    },
    {
      "cell_type": "markdown",
      "source": [
        "<br />\n",
        "\n",
        "---   "
      ],
      "metadata": {
        "id": "5uBcR7DEprFL"
      }
    },
    {
      "cell_type": "markdown",
      "source": [
        "### **Quelques fonctions, méthodes, et infos utiles pour les listes**"
      ],
      "metadata": {
        "id": "yDrAQRP3lVW_"
      }
    },
    {
      "cell_type": "markdown",
      "source": [
        "- **`len():`**\n",
        "    - Permet de connaître la longueur d'une liste = Le nombre d'éléments qu'elle contient"
      ],
      "metadata": {
        "id": "qRznayNQlpOq"
      }
    },
    {
      "cell_type": "code",
      "source": [
        "liste1 = [\"noisettes\", \"pommes\", \"oranges\", \"poires\"]\n",
        "print(f\"La liste1 contient {len(liste1)} éléments.\")"
      ],
      "metadata": {
        "id": "kHf1kG3nnb6l"
      },
      "execution_count": null,
      "outputs": []
    },
    {
      "cell_type": "markdown",
      "source": [
        "\\- - - - - - - - - - - - - - - - - - - - - - - - - - - - - - - - - - - - - - - - - - - - - - - - - - - - - - - - - - - - - - - - - - - - - - - - - - - - - - -\n",
        "\n",
        "- **`range()`**\n",
        "    - La fonction `range()` permet de générer une suite de nombre entiers dans un intervalle. Si un seul nombre entier X est utilisé, la fonction réalisera une liste de 0 (inclus) à X (exclus). Exemple, `range(5)` donne la liste `[0,1,2,3,4]`\n",
        "    - Plusieurs paramètres peuvent être donnés, pour préciser le début, la fin, et le pas. Exemple, `range(2,5)` donne la liste `[2,3,4]`, et  `range(0,5,2)` donne la liste `[2,3,4]`\n",
        "    - Toutefois, la fonction `range()` génère des éléments de type `range`: Python sait comment les utiliser (et est très utile dans certains cas plus tard), mais il n'est pas facile de les appréhender en tant qu'humain\n",
        "- **`list()` et `tuple()`:**\n",
        "    - Les fonctions `list()` et `tuple()`, tout comme les fonctions `int() / str() / float()`, permet de convertir quelque chose respectivement dans le type liste et tuple\n",
        "    - Permet entre autres de convertir des listes en tuple et inversement, ou un string en liste/tuple"
      ],
      "metadata": {
        "id": "-OSrl2VRnlpI"
      }
    },
    {
      "cell_type": "code",
      "source": [
        "range(5)"
      ],
      "metadata": {
        "id": "idmuSbnGo8KO"
      },
      "execution_count": null,
      "outputs": []
    },
    {
      "cell_type": "code",
      "source": [
        "list(range(5))"
      ],
      "metadata": {
        "id": "E8L3hdh1pIWn"
      },
      "execution_count": null,
      "outputs": []
    },
    {
      "cell_type": "code",
      "source": [
        "list(range(2,5))"
      ],
      "metadata": {
        "id": "TJDi9uQApX95"
      },
      "execution_count": null,
      "outputs": []
    },
    {
      "cell_type": "code",
      "source": [
        "list(range(0,5,2))"
      ],
      "metadata": {
        "id": "25GmEQqPrKEu"
      },
      "execution_count": null,
      "outputs": []
    },
    {
      "cell_type": "markdown",
      "source": [
        "\\- - - - - - - - - - - - - - - - - - - - - - - - - - - - - - - - - - - - - - - - - - - - - - - - - - - - - - - - - - - - - - - - - - - - - - - - - - - - - - -\n",
        "\n",
        "- **`min()`, `max()` et `sum()`**:\n",
        "    - Renvoient respectivement le minimum, le maximum et la somme d'une liste"
      ],
      "metadata": {
        "id": "Hzy5H-IIlfNS"
      }
    },
    {
      "cell_type": "code",
      "source": [
        "liste_numerique = list(range(12))\n",
        "print(f\"Minimum = {min(liste_numerique)}\")\n",
        "print(f\"Maximum = {max(liste_numerique)}\")\n",
        "print(f\"Somme = {sum(liste_numerique)}\")"
      ],
      "metadata": {
        "id": "4TTe-PwTrm_0"
      },
      "execution_count": null,
      "outputs": []
    },
    {
      "cell_type": "markdown",
      "source": [
        "\\- - - - - - - - - - - - - - - - - - - - - - - - - - - - - - - - - - - - - - - - - - - - - - - - - - - - - - - - - - - - - - - - - - - - - - - - - - - - - - -\n",
        "\n",
        "- Méthodes `.split()` et `.join()`:\n",
        "    - Ces deux méthodes permettent de faire une conversion d'un string à une liste, et inversement, très facilement.\n",
        "    - /!\\ Ce sont tous les deux des **méthodes basées sur les strings**, donc sous la forme `\"X\".split(\"X\")` ou `\"Y\".join(Y)`. Une variable contenant un string peut être tout à fait utilisée, par exemple `string1.split(\"/\")` ou `\"_\".join(liste1)`.\n",
        "    - La méthode `.split()` peut être utilisée sur un string pour pouvoir le subdiviser en liste en fonction du caractère que vous avez choisi. L'élément deviendra une liste de strings.\n",
        "    - La méthode `.join()` peut être utilisée sur un string contenant le caractère que vous avez choisi pour subdiviser, et prend en argument une liste. L'élément deviendra un string."
      ],
      "metadata": {
        "id": "I3w1Y8cKSXvC"
      }
    },
    {
      "cell_type": "code",
      "source": [
        "string1 = \"12/05/2025\"\n",
        "liste1 = [\"noisettes\", \"pommes\", \"oranges\", \"poires\"]\n",
        "\n",
        "print(string1.split(\"/\"))"
      ],
      "metadata": {
        "id": "zr1XzAU1SyTa"
      },
      "execution_count": null,
      "outputs": []
    },
    {
      "cell_type": "code",
      "source": [
        "print(\"_\".join(liste1))"
      ],
      "metadata": {
        "id": "P8wunMgFTFqB"
      },
      "execution_count": null,
      "outputs": []
    },
    {
      "cell_type": "markdown",
      "source": [
        "\\- - - - - - - - - - - - - - - - - - - - - - - - - - - - - - - - - - - - - - - - - - - - - - - - - - - - - - - - - - - - - - - - - - - - - - - - - - - - - - -\n",
        "\n",
        "- Une liste permet de rassembler des valeurs, **peu importe leur type**:\n",
        "    - on peut donc faire une liste de listes,\n",
        "    - une liste de tuples,\n",
        "    - combiner les types les plus communs avec des listes,\n",
        "    - ou d'autres types de valeurs qui seront vues plus tard\n",
        "- On peut accéder aux éléments des listes dans la liste en utilisant successivement les indices\n",
        "- Peu pratique pour stocker de l'information, mais c'est le point de départ des manières plus complexes qui seront vues progressivement !"
      ],
      "metadata": {
        "id": "t7GI5bOWsCcA"
      }
    },
    {
      "cell_type": "code",
      "source": [
        "liste5 = [liste1, liste2, liste3]\n",
        "print(liste5)"
      ],
      "metadata": {
        "id": "wB59j_lsslzm"
      },
      "execution_count": null,
      "outputs": []
    },
    {
      "cell_type": "code",
      "source": [
        "print(liste5[0][1])"
      ],
      "metadata": {
        "id": "BLeDIiVptAWD"
      },
      "execution_count": null,
      "outputs": []
    },
    {
      "cell_type": "markdown",
      "source": [
        "<br />\n",
        "\n",
        "---   "
      ],
      "metadata": {
        "id": "vA0UcDO5tIGB"
      }
    },
    {
      "cell_type": "markdown",
      "source": [
        "# **➤ Exercices**\n"
      ],
      "metadata": {
        "id": "-5RhZ5litFh0"
      }
    },
    {
      "cell_type": "markdown",
      "source": [
        "**<u>Exercice 1 :</u>** Essayez de prédire le résultat de chacune des lignes suivantes:\n",
        "\n",
        "\n",
        "1. `print(liste_exo1[2])`\n",
        "2. `print(liste_exo1[1:4])`\n",
        "3. `print(liste_exo1[3:])`\n",
        "4. `print(liste_exo1[:3])`\n",
        "5. `print(liste_exo1[-2:])`\n",
        "6. `print(liste_exo1[varA_exo1])`\n",
        "7. `print(liste_exo1[varB_exo1])`\n",
        "8. `print(liste_exo1[\"varA_exo1])`"
      ],
      "metadata": {
        "id": "hKuHj7qltYMB"
      }
    },
    {
      "cell_type": "code",
      "source": [
        "# Exercice 1:\n",
        "liste_exo1 = list(range(50, 55))\n",
        "varA_exo1 = 0\n",
        "varB_exo1 = 10\n",
        "\n",
        "# 1. =\n",
        "# 2. =\n",
        "# 3. =\n",
        "# 4. =\n",
        "# 5. =\n",
        "# 6. =\n",
        "# 7. =\n",
        "# 8. ="
      ],
      "metadata": {
        "id": "wocHpbaUtiHC"
      },
      "execution_count": null,
      "outputs": []
    },
    {
      "cell_type": "markdown",
      "source": [
        "**<u>Exercice 2 :</u>** Vous avez mesuré 5 concentrations différentes, et créé la liste `concentrations`:\n",
        "1. Avec un f-string, obtenez les concentrations minimales et maximales.\n",
        "2. Calculez et affichez la moyenne dans un second f-string.\n",
        "3. Vous vous êtes trompés, et la 3ème concentration n'est pas 4.6 g/L mais 2.6 g/L. Modifiez la liste `concentrations` à l'aide d'une méthode, et réutilisez le code précédent pour afficher la concentration minimale, maximale, et la moyenne."
      ],
      "metadata": {
        "id": "SFwBVqaev_CS"
      }
    },
    {
      "cell_type": "code",
      "source": [
        "# Exercice 2:\n",
        "concentrations = [3.4, 2.8, 4.6, 3.9, 5.1]     # en g/L"
      ],
      "metadata": {
        "id": "u0E7VYlnv-vb"
      },
      "execution_count": null,
      "outputs": []
    },
    {
      "cell_type": "code",
      "source": [
        "# Exercice 2 - Partie 1:\n",
        "\n"
      ],
      "metadata": {
        "id": "GcMgJqgTbGF_"
      },
      "execution_count": null,
      "outputs": []
    },
    {
      "cell_type": "code",
      "source": [
        "# Exercice 2 - Partie 2:\n",
        "\n"
      ],
      "metadata": {
        "id": "szi7nBJAbHtX"
      },
      "execution_count": null,
      "outputs": []
    },
    {
      "cell_type": "code",
      "source": [
        "# Exercice 2 - Partie 3:\n",
        "\n"
      ],
      "metadata": {
        "id": "h7gSN1qfbIHM"
      },
      "execution_count": null,
      "outputs": []
    },
    {
      "cell_type": "markdown",
      "source": [
        "**<u>Exercice 3 :</u>**\n",
        "1. Créez une liste `semaine` avec les 7 jours de la semaine.\n",
        "2. Récupérez d'une part les 5 jours ouvrés, puis d'autre part les jours du week-end.\n",
        "3. Faites la même chose, mais avec des indices différents.\n",
        "4. Inversez les jours de la semaine de deux façons différentes."
      ],
      "metadata": {
        "id": "ncQNor8o4XA0"
      }
    },
    {
      "cell_type": "code",
      "source": [
        "# Exercice 3 - Partie 1:\n",
        "\n"
      ],
      "metadata": {
        "id": "kQR9Dl4t5Xu_"
      },
      "execution_count": null,
      "outputs": []
    },
    {
      "cell_type": "code",
      "source": [
        "# Exercice 3 - Partie 2:\n",
        "\n"
      ],
      "metadata": {
        "id": "IBpxJu73a-9W"
      },
      "execution_count": null,
      "outputs": []
    },
    {
      "cell_type": "code",
      "source": [
        "# Exercice 3 - Partie 3:\n",
        "\n"
      ],
      "metadata": {
        "id": "4FLdqxoKa_S_"
      },
      "execution_count": null,
      "outputs": []
    },
    {
      "cell_type": "code",
      "source": [
        "# Exercice 3 - Partie 4:\n",
        "\n"
      ],
      "metadata": {
        "id": "AGdGm9tna_k3"
      },
      "execution_count": null,
      "outputs": []
    },
    {
      "cell_type": "markdown",
      "source": [
        "**<u>Exercice 4 :</u>**\n",
        "1. Créez 4 listes `hiver`, `printemps`, `été`, et `automne` avec les mois correspondants aux saisons.\n",
        "2. Créez une liste `saisons` qui contient les 4 listes.\n",
        "3. Quelle sera l'élément affiché par:\n",
        "    - `saisons[2]`\n",
        "    - `saisons[1][0]`\n",
        "    - `saisons[1:2]`\n",
        "    - `saisons[:][2]`\n",
        "4. Changez le premier mois de l'hiver par \"Galette\", puis affichez la variable `saisons` ainsi que la variable `hiver` : est-ce qu'il y a quelque chose d'étrange ?\n",
        "\n"
      ],
      "metadata": {
        "id": "EENjX-eZ5qdU"
      }
    },
    {
      "cell_type": "code",
      "source": [
        "# Exercice 4 - Partie 1:\n",
        "\n"
      ],
      "metadata": {
        "id": "p5XrYEguaU8R"
      },
      "execution_count": null,
      "outputs": []
    },
    {
      "cell_type": "code",
      "source": [
        "# Exercice 4 - Partie 2:\n",
        "\n"
      ],
      "metadata": {
        "id": "32JjfZJdazRn"
      },
      "execution_count": null,
      "outputs": []
    },
    {
      "cell_type": "code",
      "source": [
        "# Exercice 4 - Partie 3:\n",
        "\n",
        "# saisons[2]     renvoie =\n",
        "# saisons[1][0]  renvoie =\n",
        "# saisons[1:2]   renvoie =\n",
        "# saisons[:][2]  renvoie =\n"
      ],
      "metadata": {
        "id": "GPGr41CZazv1"
      },
      "execution_count": null,
      "outputs": []
    },
    {
      "cell_type": "code",
      "source": [
        "# Exercice 4 - Partie 4:\n",
        "\n"
      ],
      "metadata": {
        "id": "q-xfpcRfa0HX"
      },
      "execution_count": null,
      "outputs": []
    },
    {
      "cell_type": "markdown",
      "source": [
        "**<u>Exercice 5 :</u>** Répondre par une seule ligne à chaque fois:\n",
        "1. Combien y a-t-il de nombres pairs entre 2 et 10000 inclus ?\n",
        "2. Affichez la table de multiplication de 9\n",
        "3. Créez une liste de listes de listes permettant d'afficher `[[[1, 2, 3], [1, 2, 3]], [[1, 2, 3], [1, 2, 3]]]`"
      ],
      "metadata": {
        "id": "Vc-H8ebO6vyb"
      }
    },
    {
      "cell_type": "code",
      "source": [
        "# Exercice 5 - Partie 1:\n",
        "\n"
      ],
      "metadata": {
        "id": "B4eQmKZkaZ8F"
      },
      "execution_count": null,
      "outputs": []
    },
    {
      "cell_type": "code",
      "source": [
        "# Exercice 5 - Partie 2:\n",
        "\n"
      ],
      "metadata": {
        "id": "zP4tamQ2avng"
      },
      "execution_count": null,
      "outputs": []
    },
    {
      "cell_type": "code",
      "source": [
        "# Exercice 5 - Partie 3:\n",
        "\n"
      ],
      "metadata": {
        "id": "61xyOELgawAB"
      },
      "execution_count": null,
      "outputs": []
    }
  ]
}