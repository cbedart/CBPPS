{
  "cells": [
    {
      "cell_type": "markdown",
      "metadata": {
        "id": "view-in-github",
        "colab_type": "text"
      },
      "source": [
        "<a href=\"https://colab.research.google.com/github/cbedart/CBPPS/blob/2024/CBPPS_part3_comparisons.ipynb\" target=\"_parent\"><img src=\"https://colab.research.google.com/assets/colab-badge.svg\" alt=\"Open In Colab\"/></a>"
      ]
    },
    {
      "cell_type": "markdown",
      "metadata": {
        "id": "PCeLAHmIVfQ0"
      },
      "source": [
        "**<h1><center>Part 3 - Comparisons, tests, and functions</center></h1>**"
      ]
    },
    {
      "cell_type": "markdown",
      "metadata": {
        "id": "BjmgDHeiZsTx"
      },
      "source": [
        "---"
      ]
    },
    {
      "cell_type": "markdown",
      "metadata": {
        "id": "dN-E532UH3Uw"
      },
      "source": [
        "#**➤ Comparisons**\n",
        "\n",
        "- Comparisons allow you to check the relationship between two values\n",
        "- Essential for knowing if two values ​are equal, if one is greater/less than the other, or if they are different.\n",
        "- Comparison operators always return a Boolean value: `True` or `False`.\n",
        "- Allows you to build a set of conditions that play a key role in decision making.\n",
        "- Works with both numeric elements (int/float) as well as strings and booleans\n",
        "- For strings, greater/less takes alphabetical order as the comparison point.\n",
        "\n",
        "<br />\n",
        "\n",
        "/!\\ Do not confuse the assignment operator `=` with the comparison operator `==`\n",
        "\n",
        "<br />\n",
        "\n",
        "| Operator | Meaning | Example |\n",
        "|----------|----------------------------|--------------------|\n",
        "| `==` | Equal to | `5 == 5` ➔ `True` |\n",
        "| `!=` | Different from | `5 != 3` ➔ `True` |\n",
        "| `>` | Greater than | `8 > 3` ➔ `True` |\n",
        "| `<` | Smaller than | `4 < 7` ➔ `True` |\n",
        "| `>=` | Greater than or equal to | `6 >= 6` ➔ `True` |\n",
        "| `<=` | Less than or equal to | `2 <= 5` ➔ `True` |"
      ]
    },
    {
      "cell_type": "code",
      "execution_count": null,
      "metadata": {
        "id": "ZpVRt7B0K0go"
      },
      "outputs": [],
      "source": [
        "x = 12\n",
        "y = 16.3\n",
        "\n",
        "print(\"x == y ➔\", x == y)\n",
        "print(\"x != y ➔\", x != y)\n",
        "print(\"x > y  ➔\", x > y)\n",
        "print(\"x < y  ➔\", x < y)\n",
        "print(\"x >= y ➔\", x >= y)\n",
        "print(\"x <= y ➔\", x <= y)"
      ]
    },
    {
      "cell_type": "code",
      "execution_count": null,
      "metadata": {
        "id": "bfjaEoeJA00V"
      },
      "outputs": [],
      "source": [
        "food = \"hazelnut\"\n",
        "\n",
        "print(food == \"nuts\")\n",
        "print(food == \"hazelnutt\")\n",
        "print(food == \"hazelnut\")"
      ]
    },
    {
      "cell_type": "code",
      "execution_count": null,
      "metadata": {
        "id": "Fx84ts55KTfI"
      },
      "outputs": [],
      "source": [
        "print(food >= \"apricot\")\n",
        "print(food >= \"orange\")"
      ]
    },
    {
      "cell_type": "markdown",
      "metadata": {
        "id": "b_BeIXcGIJrc"
      },
      "source": [
        "### **Logical operators**\n",
        "\n",
        "- Logical operators allow you to combine several conditions to create more complex expressions\n",
        "- Allows you to check if all conditions are true, if at least one is true, or to reverse the result of the condition\n",
        "\n",
        "<br />\n",
        "\n",
        "| Operator | Description | Example | Result |\n",
        "|---------------|----------------------------------------------|--------------------------------------|------------------|\n",
        "| `and` | True if all conditions are true | `(5 > 3) and (3 > 1)` | `True` |\n",
        "| `or` | True if at least one condition is true | `(5 < 3) or (3 > 1)` | `True` |\n",
        "| `not` | Inverts the condition value | `not(5 > 3)` | `False` |\n",
        "| `in` | True if the element is in the sequence | `'a' in 'apple'` | `True` |\n",
        "| `not in` | True if the element is not in the sequence | `'b' not in 'apple'` | `True` |\n",
        "| `is` | True if the two objects are identical (same memory address) | `a is b` | `False` |\n",
        "| `is not` | True if the two objects are different | `a is not b` | `False` |"
      ]
    },
    {
      "cell_type": "code",
      "execution_count": null,
      "metadata": {
        "id": "LP5_VqrELjjk"
      },
      "outputs": [],
      "source": [
        "True and True"
      ]
    },
    {
      "cell_type": "code",
      "execution_count": null,
      "metadata": {
        "id": "4ebVbXZZLlCc"
      },
      "outputs": [],
      "source": [
        "True and False"
      ]
    },
    {
      "cell_type": "code",
      "execution_count": null,
      "metadata": {
        "id": "Z1B63qdYLmiy"
      },
      "outputs": [],
      "source": [
        "True or False"
      ]
    },
    {
      "cell_type": "code",
      "execution_count": null,
      "metadata": {
        "id": "T0KCibvULoZw"
      },
      "outputs": [],
      "source": [
        "not True"
      ]
    },
    {
      "cell_type": "code",
      "execution_count": null,
      "metadata": {
        "id": "q-KnQMBILwQ0"
      },
      "outputs": [],
      "source": [
        "not True or False"
      ]
    },
    {
      "cell_type": "code",
      "execution_count": null,
      "metadata": {
        "id": "hqAmaUaCLpjX"
      },
      "outputs": [],
      "source": [
        "not (not True or False)"
      ]
    },
    {
      "cell_type": "code",
      "execution_count": null,
      "metadata": {
        "id": "F4jxLITDTfxL"
      },
      "outputs": [],
      "source": [
        "x is x"
      ]
    },
    {
      "cell_type": "code",
      "execution_count": null,
      "metadata": {
        "id": "OTB_bd2uL504"
      },
      "outputs": [],
      "source": [
        "list1 = [\"hazelnuts\", \"apples\", \"oranges\", \"pears\"]\n",
        "\n",
        "print(\"apples\" in list1)\n",
        "print(\"apricots\" in list1)\n",
        "print(\"apricots\" not in list1 and \"apples\" in list1)"
      ]
    },
    {
      "cell_type": "markdown",
      "metadata": {
        "id": "mZgBX5X7PZXm"
      },
      "source": [
        "<br />\n",
        "\n",
        "---   "
      ]
    },
    {
      "cell_type": "markdown",
      "metadata": {
        "id": "ly9dTRY_JD3f"
      },
      "source": [
        "# **➤ Tests**\n",
        "\n",
        "- Essential element to add complexity to a program\n",
        "- Allows you to perform different actions depending on the values encountered and the comparisons used\n",
        "- Structure = `statement condition:` with a colon at the end, then indentation, as `if x==2:`\n",
        "- Use of `if`, `else`, and/or `elif` statements to respond to all situations\n",
        "    - `if` = Checks a condition. If it is `True`, the next block is executed\n",
        "    - `elif` = Abbreviation of \"else if\". Allows you to check an additional condition if the first `if` condition is `False`.\n",
        "    - `else` = Triggers only if all previous conditions are `False`, making it the \"default\" option."
      ]
    },
    {
      "cell_type": "code",
      "execution_count": null,
      "metadata": {
        "id": "z4yGC0WmP9Hl"
      },
      "outputs": [],
      "source": [
        "x = 20\n",
        "\n",
        "if x > 20:\n",
        "    print(f\"{x} is strictly greater than 20\")\n",
        "elif x < 20:\n",
        "    print(f\"{x} is strictly less than 20\")\n",
        "else:\n",
        "    print(f\"{x} is equal to 20\")"
      ]
    },
    {
      "cell_type": "markdown",
      "metadata": {
        "id": "5tU5tDFNLHDr"
      },
      "source": [
        "### **/!\\ Python indentation is essential for this type of statement /!\\**\n",
        "\n",
        "- Indentation is not used to add style and readability to the code, but is essential to the structure of the code and its proper functioning\n",
        "- Some languages ​​(such as R or bash for example) use braces `{}` or keywords. Python uses this indentation to indicate hierarchical levels between statements.\n",
        "- Any block associated with a conditional statement, loop, or function must be indented for Python to understand the logic.\n",
        "\n",
        "<br />\n",
        "\n",
        "**Indentation rules:**\n",
        "- Use of whitespaces = In general, use of 4 spaces per level.\n",
        "- Consistent = Essential to maintain the same consistency in the indentation\n",
        "- Most often code editors (Google Colab, VSCode, PyCharm, etc.) support automatic indentation with 2 or 4 spaces by default.\n",
        "- The main risk is getting `IntentationError` syntax errors or unexpected behavior of the code because it is interpreted differently"
      ]
    },
    {
      "cell_type": "code",
      "execution_count": null,
      "metadata": {
        "id": "HdgjpmXYRP93"
      },
      "outputs": [],
      "source": [
        "if x == 20:\n",
        "print(\"20 !\")"
      ]
    },
    {
      "cell_type": "code",
      "execution_count": null,
      "metadata": {
        "id": "ZZFwhncARpQp"
      },
      "outputs": [],
      "source": [
        "if x == 20:\n",
        "    print(\"20 !\")\n",
        "else:\n",
        "  print(\"Not 20\")"
      ]
    },
    {
      "cell_type": "code",
      "execution_count": null,
      "metadata": {
        "id": "Xb-AQlrHReaM"
      },
      "outputs": [],
      "source": [
        "if x == 20:\n",
        "\tprint(\"The value is...\")\n",
        "    print(\"20!\")"
      ]
    },
    {
      "cell_type": "markdown",
      "metadata": {
        "id": "Y2Zc4-5BSLRQ"
      },
      "source": [
        "### **Multiple case tests, and concatenated tests**\n",
        "\n",
        "- It is possible to test whether the condition is true or false in a single statement.\n",
        "- It is also possible to chain several statements in a row, taking care to identify each statement block."
      ]
    },
    {
      "cell_type": "code",
      "execution_count": null,
      "metadata": {
        "id": "SRwsTi8spsuc"
      },
      "outputs": [],
      "source": [
        "x = 12\n",
        "y = 16.3\n",
        "\n",
        "if x > 20 and y > 20:\n",
        "    print(f\"{x} and {y} both are greater than 20\")\n",
        "elif (x > 20) or (y > 20):\n",
        "    print(f\"{x} or {y} is greater than 20\")\n",
        "else:\n",
        "    print(f\"{x} and {y} are less than 20\")"
      ]
    },
    {
      "cell_type": "code",
      "execution_count": null,
      "metadata": {
        "id": "6GcAPOvbpRLE"
      },
      "outputs": [],
      "source": [
        "x = 12\n",
        "\n",
        "if x > 20:\n",
        "    print(f\"{x} is strictly greater than 20\")\n",
        "    if x > 200:\n",
        "        print(f\"{x} is really big\")\n",
        "\n",
        "elif x < 20:\n",
        "    print(f\"{x} is strictly less than 20\")\n",
        "    if x < 0:\n",
        "        print(f\"{x} is negative\")\n",
        "else:\n",
        "    print(f\"{x} is equal to 20\")"
      ]
    },
    {
      "cell_type": "markdown",
      "metadata": {
        "id": "PpRkCoMzqFeM"
      },
      "source": [
        "### **Ternary Conditional Operator**\n",
        "\n",
        "- Stylish way (even if the name is unintelligible) to say that we are doing a comparative test on a single line\n",
        "- Simplifies the syntax and can be very useful in certain conditions\n",
        "- /!\\ We cannot use `elif`, but we can chain comparisons\n",
        "- Will be very useful in the case of loops, mixed with lists among other things"
      ]
    },
    {
      "cell_type": "code",
      "execution_count": null,
      "metadata": {
        "id": "F0nGod1mqYPe"
      },
      "outputs": [],
      "source": [
        "# Instead of:\n",
        "\n",
        "x = 12\n",
        "if x > 20:\n",
        "    answer = \"Superior\"\n",
        "else:\n",
        "    answer = \"Less than or equal\"\n",
        "print(answer)"
      ]
    },
    {
      "cell_type": "code",
      "execution_count": null,
      "metadata": {
        "id": "ogYtztgcqpNv"
      },
      "outputs": [],
      "source": [
        "# We can do:\n",
        "\n",
        "x = 12\n",
        "answer = \"Greater\" if x > 20 else \"Less than or equal\"\n",
        "print(answer)"
      ]
    },
    {
      "cell_type": "code",
      "execution_count": null,
      "metadata": {
        "id": "ltKuu_FMrTL3"
      },
      "outputs": [],
      "source": [
        "# Can be even more complex:\n",
        "x = 12\n",
        "answer = \"Higher\" if x > 20 else \"Lower\" if x < 20 else \"Equal\"\n",
        "print(answer)"
      ]
    },
    {
      "cell_type": "markdown",
      "source": [
        "### **One useful function = input()**\n",
        "\n",
        "- The `input()` function allows the script to take user input as a string\n",
        "- The script pauses for the duration of the input, then restarts and continue with the variable correctly defined by the user\n",
        "- Always returns a string, even if a number is entered (so remember to use `int()` or `float()`)\n",
        "- You can customize the prompt to guide the user\n",
        "- To get multiple inputs from the user, you can use `input()` multiple times\n"
      ],
      "metadata": {
        "id": "2WugRY8CL8wL"
      }
    },
    {
      "cell_type": "code",
      "source": [
        "name = input(\"Enter your name: \")\n",
        "print(f\"Hello {name}, nice to meet you!\")"
      ],
      "metadata": {
        "id": "SJmXJnR8L8iM"
      },
      "execution_count": null,
      "outputs": []
    },
    {
      "cell_type": "code",
      "source": [
        "print(\"Enter three favorite foods (press Enter after each):\")\n",
        "food1 = input()\n",
        "food2 = input()\n",
        "food3 = input()\n",
        "print(f\"You like: {food1}, {food2}, and {food3}\")"
      ],
      "metadata": {
        "id": "V6rithOCNPud"
      },
      "execution_count": null,
      "outputs": []
    },
    {
      "cell_type": "markdown",
      "source": [
        "<br />\n",
        "\n",
        "---   "
      ],
      "metadata": {
        "id": "Yty_eAiZL33c"
      }
    },
    {
      "cell_type": "markdown",
      "source": [
        "#**➤ \"Functions\" again? I want to make some too!**\n",
        "\n",
        "- Another essential part of Python programming, that is used everywhere and all the time\n",
        "- Help to organize, avoid repetition, increase flexibility, and simplify codes\n",
        "- Work as a mini-program inside your script:\n",
        "    - it takes an input,\n",
        "    - performs tasks,\n",
        "    - and returns some results"
      ],
      "metadata": {
        "id": "RpgpoJ0sN_HA"
      }
    },
    {
      "cell_type": "markdown",
      "source": [
        "### **Structure of a function**\n",
        "\n",
        "- Creating a function is very easy\n",
        "- You need the `def` keyword to define a function, with your `function_name`\n",
        "- If you want, you can add input values your function can accept, as `parameters`\n",
        "- You will need to pay attention to the indentation within your function\n",
        "- At the very end, `return` sends the output back where the function was called (not mandatory if your only task is to print something)"
      ],
      "metadata": {
        "id": "hpDXjHs5PYPZ"
      }
    },
    {
      "cell_type": "code",
      "source": [
        "def example1():\n",
        "    # do something\n",
        "    output = \"This is an example\"\n",
        "    return output\n",
        "\n",
        "def example2(name):\n",
        "    output = f\"Hello {name}, nice to meet you!\"\n",
        "    return output\n",
        "\n",
        "def food(food1, food2, food3):\n",
        "    # do something\n",
        "    return f\"You like: {food1}, {food2}, and {food3}\"\n"
      ],
      "metadata": {
        "id": "ytnC-gsPQIf4"
      },
      "execution_count": null,
      "outputs": []
    },
    {
      "cell_type": "code",
      "source": [
        "example1()"
      ],
      "metadata": {
        "id": "MSiMMtUzQ1eA"
      },
      "execution_count": null,
      "outputs": []
    },
    {
      "cell_type": "code",
      "source": [
        "example2(\"Robert\")"
      ],
      "metadata": {
        "id": "dAMklT9eQKpf"
      },
      "execution_count": null,
      "outputs": []
    },
    {
      "cell_type": "code",
      "source": [
        "food(\"oranges\", \"apples\", \"hazelnuts\")"
      ],
      "metadata": {
        "id": "onygFGQ1Q2j4"
      },
      "execution_count": null,
      "outputs": []
    },
    {
      "cell_type": "markdown",
      "source": [
        "### **Local and global variables**\n",
        "\n",
        "- Variables inside a function are **`local variables`**:\n",
        "    - They exist only within the function scope and cannot be accessed outside of it\n",
        "    - Created when the function is called\n",
        "    - Destroyed when the function finishes execution\n",
        "\n",
        "- The other variables are known as **`global variables`**:\n",
        "    - Defined outside the function = The \"classical\" variables\n",
        "    - You can access/modify global variables inside functions using `global variable_name` in your function, but not recommended\n",
        "    - Recommended way to use global variables in functions = As parameters"
      ],
      "metadata": {
        "id": "MhM1GeRyQz1X"
      }
    },
    {
      "cell_type": "code",
      "source": [
        "x = 10  # Global variable\n",
        "\n",
        "def example3():\n",
        "    x = 5  # Local variable\n",
        "    print(f\"Inside the function, x = {x}\")  # Refers to the local 'x'\n",
        "\n",
        "example3()\n",
        "\n",
        "print(f\"Outside the function, x = {x}\")  # Refers to the global 'x'"
      ],
      "metadata": {
        "id": "edMpP2BVQxRI"
      },
      "execution_count": null,
      "outputs": []
    },
    {
      "cell_type": "code",
      "source": [
        "x = 10  # Global variable\n",
        "\n",
        "def example4():\n",
        "    global x # We defined x as the global variable\n",
        "    x += 5\n",
        "    print(f\"Inside the function, x = {x}\")  # Refers to the local 'x' linked to the global 'x'\n",
        "\n",
        "example4()\n",
        "\n",
        "print(f\"Outside the function, x = {x}\")  # Refers to the global 'x'"
      ],
      "metadata": {
        "id": "Q2naB8VvTjax"
      },
      "execution_count": null,
      "outputs": []
    },
    {
      "cell_type": "markdown",
      "metadata": {
        "id": "4TGZGN1sPYCb"
      },
      "source": [
        "<br />\n",
        "\n",
        "---   "
      ]
    },
    {
      "cell_type": "markdown",
      "metadata": {
        "id": "unKC7kePPS3n"
      },
      "source": [
        "# **➤ Exercises**"
      ]
    },
    {
      "cell_type": "markdown",
      "metadata": {
        "id": "XX5t2I2oLOzh"
      },
      "source": [
        "**<u>Exercise 1:</u>**\n",
        "1. Create a code that provides information on the temperature based on the weather:\n",
        "    - Less than 15°C = It’s cold!\n",
        "    - Between 16°C and 30°C = It’s nice!\n",
        "    - Between 31°C and 45°C = It’s hot!\n",
        "    - More than 46°C = Litteraly burning rn\n",
        "\n",
        "2. Do the same thing...but in one line\n",
        "\n",
        "3. Create your own function and use the `input()` function to allow the user to choose the temperature, and to display the corresponding output."
      ]
    },
    {
      "cell_type": "code",
      "execution_count": null,
      "metadata": {
        "id": "2GOdHhUiL8rL"
      },
      "outputs": [],
      "source": [
        "# Exercise 1 - Part 1:\n",
        "\n"
      ]
    },
    {
      "cell_type": "code",
      "execution_count": null,
      "metadata": {
        "id": "rfWYnuJXrxiZ"
      },
      "outputs": [],
      "source": [
        "# Exercise 1 - Part 2:\n",
        "\n"
      ]
    },
    {
      "cell_type": "code",
      "source": [
        "# Exercise 1 - Part 3:\n",
        "\n"
      ],
      "metadata": {
        "id": "WSXNzYfwVR9T"
      },
      "execution_count": null,
      "outputs": []
    },
    {
      "cell_type": "markdown",
      "metadata": {
        "id": "PGdm3ATCgytm"
      },
      "source": [
        "**<u>Exercise 2:</u>** You have a listing of medications with different dosages `listing_medicaments`.\n",
        "\n",
        "Using two variables entered by the user, `medication_name` and `medication_dosage`, create a small script that allows you to check if you have this medication in the requested dosage. In the case where a dosage does not exist, but it is possible to potentially divide or double the dose, add to your script the ability to say \"*The dosage does not exist, but you can take. ..*\". Test your script with 250 mg of Paracetamol."
      ]
    },
    {
      "cell_type": "code",
      "execution_count": null,
      "metadata": {
        "id": "0pAXw7SnjVc-"
      },
      "outputs": [],
      "source": [
        "listing_medicaments = [\"Paracetamol - 100 mg\", \"Paracetamol - 200 mg\", \"Paracetamol - 500 mg\", \"Paracetamol - 1000 mg\",\n",
        "    \"Ibuprofen - 100 mg\", \"Ibuprofen - 200 mg\", \"Ibuprofen - 400 mg\",\n",
        "    \"Amoxicillin - 500 mg\", \"Amoxicillin - 1000 mg\",\n",
        "    \"Aspirin - 250 mg\", \"Aspirin - 500 mg\", \"Aspirin - 1000 mg\",\n",
        "]"
      ]
    },
    {
      "cell_type": "code",
      "execution_count": null,
      "metadata": {
        "id": "WDz_xLWhlkgA"
      },
      "outputs": [],
      "source": [
        "# Exercise 2 :\n",
        "\n"
      ]
    },
    {
      "cell_type": "markdown",
      "metadata": {
        "id": "I9zfwWDGOTug"
      },
      "source": [
        "**<u>Exercise 3:</u>** You had created a previous list called `seasons`, including 4 lists `winter`, `spring`, `summer`, and `fall`.\n",
        "\n",
        "- You will use one variable entered by the user, `input_date`, which must be in the form `DD/MM` (or `MM/DD` if you prefer).\n",
        "- You need to calculate the number of days since the start of the year, and the number of days remaining until next year (non-leap year, so 365 days).\n",
        "- You need to provide an output as:\n",
        "\n",
        "```\n",
        "November 22 is in fall, and there are:\n",
        "- XX days have already passed\n",
        "- XX days remain until next year\n",
        "```"
      ]
    },
    {
      "cell_type": "code",
      "execution_count": null,
      "metadata": {
        "id": "TjkRYHhWO6kZ"
      },
      "outputs": [],
      "source": [
        "#Exercise 3 :\n",
        "\n",
        "##### DATA - Do not modify #####\n",
        "winter = [\"January\", \"February\", \"March\"]\n",
        "spring = [\"April\", \"May\", \"June\"]\n",
        "summer = [\"July\", \"August\", \"September\"]\n",
        "autumn = [\"October\", \"November\", \"December\"]\n",
        "\n",
        "seasons = [winter, spring, summer, autumn]\n",
        "\n",
        "days_per_month = [31, 28, 31, 30, 31, 30, 31, 31, 30, 31, 30, 31]\n",
        "\n",
        "\n",
        "##### YOUR SCRIPT #####\n",
        "\n",
        "\n",
        "\n"
      ]
    }
  ],
  "metadata": {
    "colab": {
      "provenance": [],
      "include_colab_link": true
    },
    "kernelspec": {
      "display_name": "Python 3",
      "name": "python3"
    },
    "language_info": {
      "name": "python"
    }
  },
  "nbformat": 4,
  "nbformat_minor": 0
}