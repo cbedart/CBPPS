{
  "nbformat": 4,
  "nbformat_minor": 0,
  "metadata": {
    "colab": {
      "provenance": [],
      "authorship_tag": "ABX9TyOXR2ZDXU2YLnTBXZAtb7Qw",
      "include_colab_link": true
    },
    "kernelspec": {
      "name": "python3",
      "display_name": "Python 3"
    },
    "language_info": {
      "name": "python"
    }
  },
  "cells": [
    {
      "cell_type": "markdown",
      "metadata": {
        "id": "view-in-github",
        "colab_type": "text"
      },
      "source": [
        "<a href=\"https://colab.research.google.com/github/cbedart/CBPPS/blob/2024/CBPPS_part7_matplotlib_specialized_libraries.ipynb\" target=\"_parent\"><img src=\"https://colab.research.google.com/assets/colab-badge.svg\" alt=\"Open In Colab\"/></a>"
      ]
    },
    {
      "cell_type": "markdown",
      "source": [
        "**<h1><center>Part 7 - Matplotlib and specialized libraries </center></h1>**"
      ],
      "metadata": {
        "id": "2UbbMu31uZAq"
      }
    },
    {
      "cell_type": "markdown",
      "source": [
        "---"
      ],
      "metadata": {
        "id": "Iv6FgdiYufFm"
      }
    },
    {
      "cell_type": "markdown",
      "source": [
        "# **➤ Matplotlib**\n",
        "\n",
        "- Low level graph plotting library - Visualization utility that include:\n",
        "  - A wide variety of plots (ine, scatter, bar, histogram, ...)\n",
        "  - Highly customizable visualizations\n",
        "  - Works seamlessly with other scientific libraries like NumPy and Pandas\n",
        "\n",
        "\n",
        "- You can install it with one of the commands:\n",
        "\n",
        "```\n",
        "pip install matplotlib\n",
        "OR\n",
        "conda install -c conda-forge matplotlib\n",
        "```\n",
        "- To load the Matplotlib module, you have to put on your code `import matplotlib as mt`\n",
        "- In reality however, we only use the pyplot part of the library, and this is the only part we import = `import matplotlib.pyplot as plt`\n",
        "\n",
        "<br />\n",
        "\n",
        "- /!\\ It is strongly recommended to use the official cheatsheets and examples:\n",
        "  - https://matplotlib.org/cheatsheets/\n",
        "  - https://matplotlib.org/stable/gallery/index.html"
      ],
      "metadata": {
        "id": "wI2iKxIc2l7p"
      }
    },
    {
      "cell_type": "markdown",
      "source": [
        "### **Basic plotting**\n",
        "\n",
        "- `plt.plot(X, Y)` function is used to create a simple plot\n",
        "- `plt.show()` is mandatory to show the plot\n",
        "- Main advantage of jupyter notebook & Google Colab = The plot is displayed directly in output"
      ],
      "metadata": {
        "id": "SqGWd8sd3_wj"
      }
    },
    {
      "cell_type": "code",
      "source": [
        "import matplotlib.pyplot as plt\n",
        "\n",
        "x1 = [1,2,3,4,5]\n",
        "y1 = [1,4,16,12,25]\n",
        "\n",
        "plt.plot(x1,y1)\n",
        "plt.show()"
      ],
      "metadata": {
        "id": "BMD68oZo4VcA"
      },
      "execution_count": null,
      "outputs": []
    },
    {
      "cell_type": "markdown",
      "source": [
        "You can use (non-exhaustive list):\n",
        "- The `color` or `c` argument to change the color (with words, letters, or hexadecimal colors)\n",
        "- The `marker` argument to change the marker of each point. Some examples:\n",
        "  - `marker=\".\"` => Point\n",
        "  - `marker=\"o\"` => Circle\n",
        "  - `marker=\"*\"` => Star\n",
        "  - `marker=\"x\"` => X\n",
        "  - `marker=\"X\"` => X filled\n",
        "  - `marker=\"s\"` => Square\n",
        "  - `marker=\"D\"` => Diamond (or d as thin diamond)\n",
        "- The `markersize` or `ms` argument to change the size of the markers\n",
        "- The `linewidth` or `lw` argument to change the width of the line\n",
        "- The `linestyle` or `ls` argument to change the marker of each point. Some examples:\n",
        "  - `linestyle=\"-\"` => Solid\n",
        "  - `linestyle=\":\"` => Dotted\n",
        "  - `linestyle=\"--\"` => Dashed\n",
        "  - `linestyle=\"-.\"` => Dashed & dotted\n"
      ],
      "metadata": {
        "id": "DYJLghlO4fal"
      }
    },
    {
      "cell_type": "code",
      "source": [
        "plt.plot(x1,y1, marker=\"o\", linestyle=\"-\")\n",
        "plt.show()"
      ],
      "metadata": {
        "id": "NTyy_z8o5Dx2"
      },
      "execution_count": null,
      "outputs": []
    },
    {
      "cell_type": "code",
      "source": [
        "plt.plot(x1,y1, marker=\"X\", linestyle=\"--\", color=\"#FF0000\", ms = 20)\n",
        "plt.show()"
      ],
      "metadata": {
        "id": "ck7647Mt5Frk"
      },
      "execution_count": null,
      "outputs": []
    },
    {
      "cell_type": "code",
      "source": [
        "plt.plot(x1,y1, marker=\"d\", linestyle=\"-.\", color=\"forestgreen\", lw=2)\n",
        "plt.plot(y1,x1, marker=\"X\", linestyle=\"--\", color=\"dodgerblue\", lw = 1)\n",
        "plt.plot(y1,y1, marker=\"s\", linestyle=\":\", color=\"firebrick\", lw=0.5)\n",
        "plt.show()"
      ],
      "metadata": {
        "id": "cXKMap4g5IlP"
      },
      "execution_count": null,
      "outputs": []
    },
    {
      "cell_type": "markdown",
      "source": [
        "### **Figure and axes**\n",
        "\n",
        "- Figure = The entire visualization space, with one or multiple plots\n",
        "- Axes = The plot within a figure: data, axis labels, ticks, gridlines, title, etc.\n",
        "- **All the plots will be created using the axes element instead of pyplot base functions**\n",
        "- Use of `fig, ax = plt.subplots()` to create one figure element and one axes element by default\n",
        "- Use of `fig, ax = plt.subplots(nb_plots_width, nb_plots_height, figsize=(width,height))` to create:\n",
        "  - A grid of nb_plots_width x nb_plots_height\n",
        "  - A figsize of (width,height) inches\n",
        "\n",
        "\n",
        "\n",
        "\n"
      ],
      "metadata": {
        "id": "d7NZOveA6bQa"
      }
    },
    {
      "cell_type": "code",
      "source": [
        "fig, ax = plt.subplots()\n",
        "ax.plot(x1,y1)\n",
        "plt.show()"
      ],
      "metadata": {
        "id": "QrSoBACk7LJD"
      },
      "execution_count": null,
      "outputs": []
    },
    {
      "cell_type": "code",
      "source": [
        "fig, axs = plt.subplots(2, 2, figsize=(10, 8))\n",
        "\n",
        "axs[0,0].plot(x1,y1)\n",
        "axs[1,0].plot(y1,y1)\n",
        "axs[0,1].plot(y1,x1)\n",
        "axs[1,1].plot(x1,x1)\n",
        "plt.show()"
      ],
      "metadata": {
        "id": "EgZzVvp86anu"
      },
      "execution_count": null,
      "outputs": []
    },
    {
      "cell_type": "markdown",
      "source": [
        "### **Customization**\n",
        "\n",
        "Using the plt method:\n",
        "- Title: `plt.title(\"My Plot\")`\n",
        "- Labels: `plt.xlabel(\"X-axis\")` & `plt.ylabel(\"Y-axis\")`\n",
        "- Grid: `plt.grid(True)`\n",
        "- Legend: `plt.legend([\"Data\"])`\n",
        "- Axis range: `plt.xlim(min,max)` & `plt.ylim(min,max)`\n",
        "- Log scale: `plt.xscale(\"log\")` & `plt.yscale(\"log\")`"
      ],
      "metadata": {
        "id": "JTDMgYBZKyG3"
      }
    },
    {
      "cell_type": "code",
      "source": [
        "plt.plot(x1,y1, marker=\"o\")\n",
        "plt.plot(y1,x1, marker=\"d\")\n",
        "plt.title(\"Title of the plot\")\n",
        "plt.xlabel(\"X-axis\")\n",
        "plt.ylabel(\"Y-axis\")\n",
        "\n",
        "plt.grid(True)\n",
        "plt.legend([\"Data1\", \"Data2\"])\n",
        "\n",
        "plt.xlim(1,30)\n",
        "plt.ylim(1,50)\n",
        "\n",
        "plt.xscale(\"log\")\n",
        "plt.yscale(\"linear\")\n",
        "\n",
        "plt.show()"
      ],
      "metadata": {
        "id": "lknQfDV5LnEE"
      },
      "execution_count": null,
      "outputs": []
    },
    {
      "cell_type": "markdown",
      "source": [
        "Using the subplot and fig/ax method => Almost the same, but using `set_XXXX` in almost all cases:\n",
        "- Title: `ax.set_title(\"My Plot\")`\n",
        "- Labels: `ax.set_xlabel(\"X-axis\")` & `ax.set_ylabel(\"Y-axis\")`\n",
        "- Grid: `ax.grid(True)`\n",
        "- Legend: `ax.legend([\"Data\"])`\n",
        "- Axis range: `ax.set_xlim(min,max)` & `ax.set_ylim(min,max)`\n",
        "- Log scale: `ax.set_xscale(\"log\")` & `ax.set_yscale(\"log\")`\n"
      ],
      "metadata": {
        "id": "BVWF03ZePEbz"
      }
    },
    {
      "cell_type": "code",
      "source": [
        "fig, ax = plt.subplots()\n",
        "\n",
        "ax.plot(x1,y1, marker=\"o\")\n",
        "ax.plot(y1,x1, marker=\"d\")\n",
        "\n",
        "ax.set_title(\"Title of the plot\")\n",
        "ax.set_xlabel(\"X-axis\")\n",
        "ax.set_ylabel(\"Y-axis\")\n",
        "\n",
        "ax.grid(True)\n",
        "ax.legend([\"Data1\", \"Data2\"])\n",
        "\n",
        "ax.set_xlim(1,30)\n",
        "ax.set_ylim(1,50)\n",
        "\n",
        "ax.set_xscale(\"log\")\n",
        "ax.set_yscale(\"linear\")\n",
        "\n",
        "plt.show()"
      ],
      "metadata": {
        "id": "N_Qs4ARlPSTy"
      },
      "execution_count": null,
      "outputs": []
    },
    {
      "cell_type": "code",
      "source": [
        "fig, axs = plt.subplots(1,2, figsize=(12, 5))\n",
        "\n",
        "fig.suptitle(\"Main title\")\n",
        "\n",
        "axs[0].plot(x1,y1, marker=\"o\")\n",
        "axs[1].plot(y1,x1, marker=\"d\")\n",
        "\n",
        "axs[0].set_title(\"Title of the plot - 1\")\n",
        "axs[0].set_xlabel(\"X-axis\")\n",
        "axs[0].set_ylabel(\"Y-axis\")\n",
        "\n",
        "axs[1].set_title(\"Title of the plot - 2\")\n",
        "axs[1].set_xlabel(\"X-axis\")\n",
        "axs[1].set_ylabel(\"Y-axis\")\n",
        "\n",
        "axs[1].grid(True)\n",
        "axs[0].legend(\"Data1\")\n",
        "\n",
        "axs[0].set_xlim(1,10)\n",
        "axs[1].set_ylim(1,6)\n",
        "\n",
        "axs[1].set_xscale(\"log\")\n",
        "\n",
        "plt.show()"
      ],
      "metadata": {
        "id": "BUepVV5PP8by"
      },
      "execution_count": null,
      "outputs": []
    },
    {
      "cell_type": "markdown",
      "source": [
        "### **Types of plots**\n",
        "\n",
        "Again, it is strongly recommended to use the official cheatsheets and examples:\n",
        "  - https://matplotlib.org/cheatsheets/\n",
        "  - https://matplotlib.org/stable/gallery/index.html\n",
        "\n",
        "Here are some examples:\n",
        "- Line Plot => `plt.plot`\n",
        "- Scatter Plot => `plt.scatter`\n",
        "- Bar Plot => `plt.bar`\n",
        "- Histogram => `plt.hist`\n",
        "- Pie Chart => `plt.pie`"
      ],
      "metadata": {
        "id": "4buzbSbGQ409"
      }
    },
    {
      "cell_type": "code",
      "source": [
        "plt.scatter(x1,y1, marker=\"o\")\n",
        "plt.show()"
      ],
      "metadata": {
        "id": "71LEoq0PPSRG"
      },
      "execution_count": null,
      "outputs": []
    },
    {
      "cell_type": "code",
      "source": [
        "plt.bar(x1,y1)\n",
        "plt.show()"
      ],
      "metadata": {
        "id": "I-8kfXCXRwvz"
      },
      "execution_count": null,
      "outputs": []
    },
    {
      "cell_type": "code",
      "source": [
        "plt.hist(y1, bins = 2)\n",
        "plt.show()"
      ],
      "metadata": {
        "id": "gvGh9weaRz8O"
      },
      "execution_count": null,
      "outputs": []
    },
    {
      "cell_type": "code",
      "source": [
        "plt.pie(y1)\n",
        "plt.show()"
      ],
      "metadata": {
        "id": "iQMnOv-tR-j1"
      },
      "execution_count": null,
      "outputs": []
    },
    {
      "cell_type": "markdown",
      "source": [
        "### **From Pandas to Matplotlib**\n",
        "\n",
        "Using a Pandas Dataframe, you can generate easily a plot using the data from several columns of the dataframe as a `plt` or an `ax` element\n",
        "\n",
        "```\n",
        "df = pd.DataFrame(data)\n",
        "df.plot()\n",
        "```\n",
        "\n"
      ],
      "metadata": {
        "id": "J6YriAnr9KI7"
      }
    },
    {
      "cell_type": "code",
      "source": [
        "import pandas as pd\n",
        "\n",
        "df = pd.DataFrame({\"X\":x1,\"Y\":y1})\n",
        "\n",
        "df.plot(x=\"X\", y=\"Y\", kind=\"scatter\", title=\"Scatter Plot\")"
      ],
      "metadata": {
        "id": "_Q556w6U9J2-"
      },
      "execution_count": null,
      "outputs": []
    },
    {
      "cell_type": "code",
      "source": [
        "df.plot(x=\"X\", y=\"Y\", kind=\"bar\", title=\"Scatter Plot\")"
      ],
      "metadata": {
        "id": "L5Qa4cAZ-6Ip"
      },
      "execution_count": null,
      "outputs": []
    },
    {
      "cell_type": "code",
      "source": [
        "ax = df.plot(x=\"X\", y=\"Y\", title=\"Custom Plot\")\n",
        "ax.set_xlim(0, 6)\n",
        "ax.set_ylim(0, 40)\n",
        "ax.grid(True)\n",
        "plt.show()"
      ],
      "metadata": {
        "id": "RRbXVami_BTm"
      },
      "execution_count": null,
      "outputs": []
    },
    {
      "cell_type": "markdown",
      "source": [
        "<br />\n",
        "\n",
        "---"
      ],
      "metadata": {
        "id": "uET9VycgSFy_"
      }
    },
    {
      "cell_type": "markdown",
      "source": [
        "# **➤ SciPy**\n",
        "\n",
        "- Open-source Python library built on NumPy\n",
        "- Additional functionalities for scientific and technical computing\n",
        "- Comprehensive suite of tools for numerical analysis, optimization, signal processing, etc.\n",
        "- SciPy integrates seamlessly with NumPy arrays and provides a higher-level interface for many mathematical operations\n",
        "- Install using `pip install scipy`, and load using `import scipy`\n",
        "- Official documentation = https://docs.scipy.org/doc/scipy/tutorial/index.html\n",
        "- Cheat sheet =\n",
        "\n",
        "  - https://media.datacamp.com/legacy/image/upload/v1676303474/Marketing/Blog/SciPy_Cheat_Sheet.pdf\n",
        "  - https://s3.amazonaws.com/assets.datacamp.com/blog_assets/Python_SciPy_Cheat_Sheet_Linear_Algebra.pdf\n",
        "  "
      ],
      "metadata": {
        "id": "CVzn8o89_IWT"
      }
    },
    {
      "cell_type": "markdown",
      "source": [
        "### **Core submodules**\n",
        "\n",
        "SciPy has several submodules adapted to specific contexts:\n",
        "\n",
        "- `scipy.constants`: Access to physical and mathematical constants.\n",
        "- `scipy.linalg`: Advanced linear algebra operations (= solving linear systems, matrix decompositions, etc.).\n",
        "- `scipy.optimize`: Optimization algorithms (= root-finding, curve fitting, etc.).\n",
        "- `scipy.integrate`: Numerical integration (= quad, dblquad, simps, etc.).\n",
        "- `scipy.stats`: Statistical analysis and probability distributions.\n",
        "- `scipy.spatial`: Spatial data structures and algorithms (= KD-trees, distance calculations, etc.).\n",
        "- `scipy.interpolate`: Interpolation methods for data fitting.\n",
        "- `scipy.fft`: Fast Fourier Transform for signal processing.\n",
        "- `scipy.ndimage`: Image processing capabilities."
      ],
      "metadata": {
        "id": "EwmfGS8E_jkh"
      }
    },
    {
      "cell_type": "markdown",
      "source": [
        "### **One of the most important submodules in Biology and Health Sciences = `scipy.stats`:**\n",
        "\n",
        "You can do:\n",
        "\n",
        "**=> Descriptive statistics to summarize data:**\n",
        "  - Mean: `scipy.stats.tmean(data)`\n",
        "  - Median: `scipy.stats.scoreatpercentile(data, 50)`\n",
        "  - Variance and Standard Deviation: `scipy.stats.tvar(data)`, `scipy.stats.tstd(data)`\n",
        "  - Percentiles: `scipy.stats.scoreatpercentile(data, p)`"
      ],
      "metadata": {
        "id": "y47i9tdwDicS"
      }
    },
    {
      "cell_type": "code",
      "source": [
        "import scipy.stats\n",
        "\n",
        "x2 = [14, 19, 18, 17, 18, 16, 21, 21, 8, 11, 10, 13, 10, 17, 8, 10, 14, 17, 8, 13, 13, 15, 17, 11, 12, 14, 8, 10, 11, 9, 21, 12, 17, 16, 19, 21, 21, 24, 10, 11, 14, 8, 20, 18, 12, 25, 10, 4, 8, 12]\n",
        "y2 = [36, 30, 36, 44, 36, 35, 31, 39, 40, 34, 35, 33, 34, 35, 32, 21, 43, 34, 36, 31, 31, 28, 31, 34, 37, 29, 38, 35, 34, 38, 31, 35, 39, 36, 38, 29, 28, 46, 34, 38, 33, 30, 43, 32, 35, 44, 26, 36, 29, 34]"
      ],
      "metadata": {
        "id": "zMBK3SUGFfPB"
      },
      "execution_count": null,
      "outputs": []
    },
    {
      "cell_type": "code",
      "source": [
        "print(scipy.stats.tmean(x2))\n",
        "print(scipy.stats.scoreatpercentile(x2, 50))\n",
        "print(scipy.stats.tvar(x2))\n",
        "print(scipy.stats.tstd(x2))"
      ],
      "metadata": {
        "id": "-GOZEkhxFiKJ"
      },
      "execution_count": null,
      "outputs": []
    },
    {
      "cell_type": "markdown",
      "source": [
        "**=> Hypothesis testing to evaluating statistical hypotheses**\n"
      ],
      "metadata": {
        "id": "X-RDfsK_GZJV"
      }
    },
    {
      "cell_type": "markdown",
      "source": [
        "| **Test Name**              | **Purpose**                                                                 | **Function**                             | **Inputs**                                              | **Example Use Case**                                                                                                                                   |\n",
        "|----------------------------|-----------------------------------------------------------------------------|------------------------------------------|---------------------------------------------------------|---------------------------------------------------------------------------------------------------------------------------------------------------------|\n",
        "| **One-Sample T-Test**      | Test if the mean of a sample differs from a known value                    | `ttest_1samp(data, popmean)`             | `data`: Sample data, `popmean`: Hypothesized mean       | Evaluate if the average blood pressure of a patient group differs from 120 mmHg.                                                                       |\n",
        "| **Independent T-Test**     | Test if two independent samples have the same mean                        | `ttest_ind(data1, data2)`                | `data1`, `data2`: Two independent samples               | Compare the average heart rates of two groups on different diets.                                                                                      |\n",
        "| **Paired T-Test**          | Test if the mean difference between paired observations is zero           | `ttest_rel(data1, data2)`                | `data1`, `data2`: Paired sample data                    | Assess the effect of a drug by comparing pre- and post-treatment blood sugar levels in the same patients.                                              |\n",
        "| **One-Way ANOVA**          | Test if means of multiple groups are equal                                | `f_oneway(data1, data2, ...)`            | `data1`, `data2`, ...: Independent groups              | Determine if average recovery times differ across three different hospitals.                                                                            |\n",
        "| **Chi-Square Test**        | Test goodness-of-fit between observed and expected categorical data       | `chisquare(f_obs, f_exp)`                | `f_obs`: Observed frequencies, `f_exp`: Expected counts | Test if the observed distribution of side effects matches the expected distribution.                                                                   |\n",
        "| **Kolmogorov-Smirnov Test**| Test if a sample matches a given distribution                             | `kstest(data, cdf)`                      | `data`: Sample data, `cdf`: Theoretical distribution    | Check if patient weight data follows a normal distribution.                                                                                            |\n",
        "| **Mann-Whitney U Test**    | Compare two independent samples when data isn’t normally distributed      | `mannwhitneyu(data1, data2)`             | `data1`, `data2`: Two independent samples               | Compare recovery scores of patients undergoing two different therapies with non-normal data.                                                            |\n",
        "| **Wilcoxon Signed-Rank Test**| Compare two paired samples when data isn’t normally distributed          | `wilcoxon(data1, data2)`                 | `data1`, `data2`: Paired sample data                    | Assess changes in cholesterol levels before and after treatment within the same group of patients.                                                     |\n",
        "| **Kruskal-Wallis Test**    | Non-parametric test for equality of medians across multiple groups        | `kruskal(data1, data2, ...)`             | `data1`, `data2`, ...: Independent groups              | Test if pain levels differ across three treatment groups when the data is ordinal or not normally distributed.                                          |\n",
        "| **Fisher’s Exact Test**    | Test the independence of two categorical variables in a 2x2 contingency table | `fisher_exact(table)`                  | `table`: 2x2 contingency table                          | Assess the association between gender (male/female) and response to a drug (effective/ineffective).                                                    |\n",
        "| **Binomial Test**          | Test if the proportion of success in a sample matches a known proportion  | `binomtest(k, n, p)`                     | `k`: Success count, `n`: Sample size, `p`: Hypothesized proportion | Check if the proportion of patients responding to a treatment is significantly different from 50%.                                                     |\n",
        "| **Levene’s Test**          | Test the equality of variances in multiple groups                         | `levene(data1, data2, ...)`              | `data1`, `data2`, ...: Samples                          | Test if blood pressure variability is the same across different age groups.                                                                             |\n",
        "| **Shapiro-Wilk Test**      | Test if data is normally distributed                                      | `shapiro(data)`                          | `data`: Sample data                                      | Verify if the weights of patients in a study are normally distributed.                                                                                  |\n",
        "| **Bartlett’s Test**        | Test the equality of variances across groups (assumes normality)          | `bartlett(data1, data2, ...)`            | `data1`, `data2`, ...: Samples                          | Determine if drug efficacy measurements have similar variability across treatment groups.                                                               |"
      ],
      "metadata": {
        "id": "3RYUOmLJKX2H"
      }
    },
    {
      "cell_type": "code",
      "source": [
        "scipy.stats.ttest_1samp(x2, 14)"
      ],
      "metadata": {
        "id": "mjZQkQsmufrb"
      },
      "execution_count": null,
      "outputs": []
    },
    {
      "cell_type": "code",
      "source": [
        "scipy.stats.ttest_ind(x2, y2)"
      ],
      "metadata": {
        "id": "USV-mgacKke2"
      },
      "execution_count": null,
      "outputs": []
    },
    {
      "cell_type": "code",
      "source": [
        "print(scipy.stats.shapiro(x2))\n",
        "print(scipy.stats.shapiro(y2))"
      ],
      "metadata": {
        "id": "tpCCKr8JLHh8"
      },
      "execution_count": null,
      "outputs": []
    },
    {
      "cell_type": "code",
      "source": [
        "scipy.stats.mannwhitneyu(x2, y2)"
      ],
      "metadata": {
        "id": "K1CqKFyFKXFP"
      },
      "execution_count": null,
      "outputs": []
    },
    {
      "cell_type": "markdown",
      "source": [
        "<br />\n",
        "\n",
        "---"
      ],
      "metadata": {
        "id": "XMqVEaprN2w5"
      }
    },
    {
      "cell_type": "markdown",
      "source": [
        "# **➤ RDKit:**\n",
        "\n",
        "- Open-source toolkit for cheminformatics\n",
        "- https://www.rdkit.org/docs/GettingStartedInPython.html\n",
        "- Main features:\n",
        "  - Molecular representation = Handles molecules using SMILES, InChI, or molecular files\n",
        "  - 2D and 3D visualization = Generates high-quality molecular drawings and visualizations\n",
        "  - Chemical property calculation = Computes molecular properties like molecular weight, logP, and topological polar surface area\n",
        "  - Molecular Fingerprints = Generates various molecular fingerprints for similarity searches and machine learning\n",
        "  - Reaction Modeling = Supports reaction mapping and retrosynthesis studies\n",
        "  - Interconnected with Pandas"
      ],
      "metadata": {
        "id": "sMRATj-aN6Dm"
      }
    },
    {
      "cell_type": "markdown",
      "source": [
        "<br />\n",
        "\n",
        "---"
      ],
      "metadata": {
        "id": "thkPGK7IOkrn"
      }
    },
    {
      "cell_type": "markdown",
      "source": [
        "# **➤ BioPython:**\n",
        "\n",
        "- Open-source toolkit for bioinformatics\n",
        "- https://biopython.org/docs/dev/Tutorial/index.html\n",
        "- Main features:\n",
        "  - Sequence handling = Reads, writes, and manipulates biological sequences in FASTA, GenBank, and other formats\n",
        "  - Structural bioinformatics = Handles 3D molecular structures for protein and nucleic acid analysis.\n",
        "  - Data analysis = Includes algorithms for alignment, clustering, and phylogenetics.\n",
        "  - Interfacing with databases = Fetches biological data from public databases like NCBI and UniProt.\n",
        "  - Graphics support: Creates publication-quality plots of sequences, structures, and other data."
      ],
      "metadata": {
        "id": "_fmIhrX9OmLI"
      }
    },
    {
      "cell_type": "markdown",
      "source": [
        "<br />\n",
        "\n",
        "---"
      ],
      "metadata": {
        "id": "G0HouMMAN4ux"
      }
    },
    {
      "cell_type": "markdown",
      "source": [
        "#**➤ Exercises :**\n"
      ],
      "metadata": {
        "id": "BAPvtv5c-hxb"
      }
    },
    {
      "cell_type": "markdown",
      "source": [
        "**<u>Evolution of the COVID-19 pandemic in France - Part 2:</u>**\n",
        "\n",
        "You will continue to study the summary of indicators tracking the COVID-19 epidemic in France, by French departments, from January 23, 2020 to June 30, 2023, using the `/content/covid.csv` file\n",
        "- You will find all the information in the header of the data gouv website (in French), but you can easily use DeepL or Google Translate on the webpage/Data description part to get the most important information\n",
        "- https://www.data.gouv.fr/fr/datasets/synthese-des-indicateurs-de-suivi-de-lepidemie-covid-19/\n",
        "\n",
        "<br />\n",
        "\n",
        "1. Plot the trend of COVID-19 hospitalizations **in the Nord** using a scatter plot.\n",
        "2. Plot the trend of COVID-19 hospitalizations **in France** using a line graph.\n",
        "3. Plot a boxplot of new hospitalizations in \"summer\" 2021 per region (summer = june, july, august).\n",
        "4. Is the difference between new hospitalizations in \"summer\" 2021 in \"Hauts-de-France\" and \"Occitanie\" statistically significant? And between \"Hauts-de-France\" and \"Provence-Alpes-Côte d'Azur\" ?\n",
        "5. On the same plot, show the new hospitalizations in \"summer\" 2021 for those 3 regions.\n"
      ],
      "metadata": {
        "id": "P8d9vAX_Uhr-"
      }
    },
    {
      "cell_type": "code",
      "source": [
        "##### RUN BEFORE YOUR EXERCISE #####\n",
        "\n",
        "!wget https://www.data.gouv.fr/fr/datasets/r/5c4e1452-3850-4b59-b11c-3dd51d7fb8b5 > /dev/null 2>&1\n",
        "!mv 5c4e1452-3850-4b59-b11c-3dd51d7fb8b5 covid.csv\n",
        "\n",
        "import pandas as pd\n",
        "import numpy as np\n",
        "import matplotlib.pyplot as plt\n",
        "import scipy.stats\n",
        "\n",
        "######################################"
      ],
      "metadata": {
        "id": "-IQFw9kyUj5d"
      },
      "execution_count": null,
      "outputs": []
    },
    {
      "cell_type": "code",
      "source": [
        "# Exercise - #1\n",
        "# Plot the trend of COVID-19 hospitalizations in the Nord using a scatter plot.\n",
        "\n"
      ],
      "metadata": {
        "id": "TxSI2JbTeDRX"
      },
      "execution_count": null,
      "outputs": []
    },
    {
      "cell_type": "code",
      "source": [
        "# Exercise - #2\n",
        "# Plot the trend of COVID-19 hospitalizations in France using a line graph.\n",
        "\n"
      ],
      "metadata": {
        "id": "Gcr9PqQueHn2"
      },
      "execution_count": null,
      "outputs": []
    },
    {
      "cell_type": "code",
      "source": [
        "# Exercise - #3\n",
        "# Plot a boxplot of new hospitalizations in \"summer\" 2021 per region (summer = june, july, august).\n",
        "\n"
      ],
      "metadata": {
        "id": "SC7EHyG6eLlO"
      },
      "execution_count": null,
      "outputs": []
    },
    {
      "cell_type": "code",
      "source": [
        "# Exercise - #4\n",
        "# Is the difference between new hospitalizations in \"summer\" 2021 in \"Hauts-de-France\" and \"Occitanie\" statistically significant?\n",
        "# And between \"Hauts-de-France\" and \"Provence-Alpes-Côte d'Azur\"?\n",
        "\n"
      ],
      "metadata": {
        "id": "IO3zHaSSeL7f"
      },
      "execution_count": null,
      "outputs": []
    },
    {
      "cell_type": "code",
      "source": [
        "# Exercise - #5\n",
        "# On the same plot, show the new hospitalizations in \"summer\" 2021 for those 3 regions.\n",
        "\n"
      ],
      "metadata": {
        "id": "wPP78yRFeMKV"
      },
      "execution_count": null,
      "outputs": []
    },
    {
      "cell_type": "markdown",
      "source": [
        "<br />\n",
        "\n",
        "---"
      ],
      "metadata": {
        "id": "9aPrgoEpeb-U"
      }
    },
    {
      "cell_type": "markdown",
      "source": [
        "# **➤ Create a python project as part of your thesis:**\n",
        "\n",
        "In this part of the course, you should try to see what you can automate, analyze, code to speed up and/or simplify your work, as part of your thesis.\n",
        "\n",
        "<br />\n",
        "\n",
        "**Main objectives:**\n",
        "- Try to use as few generative AIs as possible to generate your code. You can, however, use them to help you better understand how to use certain libraries, or to explain code to you\n",
        "\n",
        "- Use mostly functions, so you can reuse them much more easily later\n",
        "- Use everything you have learned so far in Python to apply it to your research work\n",
        "- Have the curiosity to find relevant python libraries you can use, and find related documentation\n",
        "- Don't use sensitive data here: you must prevent any issue, since I will help you and we can talk about it collectively\n",
        "\n",
        "<br />\n",
        "\n",
        "**A few ideas, if you don't have any:**\n",
        "- Automate your data visualization by generating reports and graphs\n",
        "\n",
        "- Create functions to avoid multiple copy-paste that can lead to inattentive errors, and/or improve the reproducibility of your work\n",
        "- Convert data from your instrument, analysis software, etc. to a more usable format, in Python or using Excel\n",
        "- Make your analyses accessible to non-experts by simplifying the steps as much as possible\n",
        "- If you have a niche domain, simplify some operations to make them available to your peers in the future"
      ],
      "metadata": {
        "id": "5XKwlrORea3U"
      }
    }
  ]
}