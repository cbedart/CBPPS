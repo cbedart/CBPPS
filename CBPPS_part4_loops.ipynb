{
  "nbformat": 4,
  "nbformat_minor": 0,
  "metadata": {
    "colab": {
      "provenance": [],
      "authorship_tag": "ABX9TyPDyIxPvaFipwGkxbsruPsw",
      "include_colab_link": true
    },
    "kernelspec": {
      "name": "python3",
      "display_name": "Python 3"
    },
    "language_info": {
      "name": "python"
    }
  },
  "cells": [
    {
      "cell_type": "markdown",
      "metadata": {
        "id": "view-in-github",
        "colab_type": "text"
      },
      "source": [
        "<a href=\"https://colab.research.google.com/github/cbedart/CBPPS/blob/2024/CBPPS_part4_loops.ipynb\" target=\"_parent\"><img src=\"https://colab.research.google.com/assets/colab-badge.svg\" alt=\"Open In Colab\"/></a>"
      ]
    },
    {
      "cell_type": "markdown",
      "source": [
        "**<h1><center>Part 4 - Loops</center></h1>**"
      ],
      "metadata": {
        "id": "2UbbMu31uZAq"
      }
    },
    {
      "cell_type": "markdown",
      "source": [
        "---"
      ],
      "metadata": {
        "id": "Iv6FgdiYufFm"
      }
    },
    {
      "cell_type": "markdown",
      "source": [
        "- One of the most powerful tools in programming\n",
        "- Repeat tasks efficiently without writing repetitive code (and avoid CTRL+C / CTRL+V spam that can lead to dramatic errors)\n",
        "- Can iterate over sequences, perform operations on data, automate repetitive tasks, or simply loop for a limited (`for`) or an infinite (`while`) amount of time"
      ],
      "metadata": {
        "id": "3MxZEPHzuoue"
      }
    },
    {
      "cell_type": "markdown",
      "source": [
        "#**➤ The `for` loop**\n",
        "\n",
        "- Used when you know in advance how many times you want to repeat your instructions\n",
        "- Iterates over elements in a sequence : list, string, range\n",
        "- The versatility of the for `loop` comes from `range()` that generate sequences of numbers efficiently\n",
        "- Structure = `for iterative_variable in sequence:`, as `for i in range(5):` or `for food_product in food_list:` with:\n",
        "    - `for` and `in` as mandatory statements\n",
        "    - `iterative_variable` / `i` / `food_product` as the iterative variable, that will change each step\n",
        "    - `sequence` / `range(5)` / `food_list` as the sequence used for iteration\n",
        "    - a colon at the end\n",
        "    - indentation\n"
      ],
      "metadata": {
        "id": "nrSL9XkavVlX"
      }
    },
    {
      "cell_type": "code",
      "source": [
        "food_list = [\"hazelnuts\", \"apples\", \"oranges\", \"pears\"]\n",
        "\n",
        "for food_product in food_list:\n",
        "    print(f\"I love {food_product} !\")"
      ],
      "metadata": {
        "id": "TNxNFEdZ0L9C"
      },
      "execution_count": null,
      "outputs": []
    },
    {
      "cell_type": "code",
      "source": [
        "for i in range(5):\n",
        "    print(i)"
      ],
      "metadata": {
        "id": "wXQx73c00Ud5"
      },
      "execution_count": null,
      "outputs": []
    },
    {
      "cell_type": "code",
      "source": [
        "for i in range(5):\n",
        "    for j in range(5):\n",
        "        print(f\"i is {i} and j is {j}\")"
      ],
      "metadata": {
        "id": "2M_sm03j0dhR"
      },
      "execution_count": null,
      "outputs": []
    },
    {
      "cell_type": "code",
      "source": [
        "food_list = [\"hazelnuts\", \"apples\", \"oranges\", \"pears\"]\n",
        "\n",
        "for food_product in food_list:\n",
        "    print(f\"I love {food_product} !\")\n",
        "\n",
        "print(\"\")\n",
        "### is the same as:\n",
        "\n",
        "for i in range(len(food_list)):\n",
        "    print(f\"I love {food_list[i]} !\")"
      ],
      "metadata": {
        "id": "NuPR-Q8YX-WT"
      },
      "execution_count": null,
      "outputs": []
    },
    {
      "cell_type": "markdown",
      "source": [
        "#**➤ The `while` loop**\n",
        "\n",
        "- Used when the number of iterations is unknown\n",
        "- Iterates depending on a condition being `True`\n",
        "- Keeps repeating the block of code until its condition evaluates to `False`\n",
        "- **/!\\ Major risk of infinite loops /!\\** = Crucial to ensure that the condition will eventually stop the loop\n",
        "- Structure = `while condition:`, as `while count >0:`, with:\n",
        "    - `while` as statement\n",
        "    - `condition` / `count > 0 :` as the condition\n",
        "    - a colon at the end\n",
        "    - indentation\n"
      ],
      "metadata": {
        "id": "ODXbYaKh0uXB"
      }
    },
    {
      "cell_type": "code",
      "source": [
        "count = 5\n",
        "while count > 0:\n",
        "    print(f\"Countdown: {count}\")\n",
        "    count -= 1\n",
        "print(\"Liftoff!\")\n"
      ],
      "metadata": {
        "id": "P1TqjXH12qL8"
      },
      "execution_count": null,
      "outputs": []
    },
    {
      "cell_type": "code",
      "source": [
        "password = \"\"\n",
        "while password != \"cutecat\":\n",
        "    password = input(\"Enter the password: \")\n",
        "print(\"Access granted!\")"
      ],
      "metadata": {
        "id": "BjD834fE2ote"
      },
      "execution_count": null,
      "outputs": []
    },
    {
      "cell_type": "markdown",
      "source": [
        "#**➤ Controlling loops flow with `break` and `continue`**\n",
        "\n",
        "- Sometimes you need to finely control your loops\n",
        "- Useful when processing datasets with exceptions of conditions, stop when a specific result is found, skip over invalid data entries, etc.\n",
        "- `continue` statement = Skip the rest of the current indentation, and proceeds to the next one\n",
        "- `break` statement = Exit a loop prematurely\n"
      ],
      "metadata": {
        "id": "jxaHG9HN6-rp"
      }
    },
    {
      "cell_type": "code",
      "source": [
        "for i in range(5):\n",
        "    for j in range(5):\n",
        "        if i%2 != 0 or j%2 != 0:\n",
        "            continue\n",
        "        print(f\"i is {i} and j is {j}\")"
      ],
      "metadata": {
        "id": "99tKJ_D97nW2"
      },
      "execution_count": null,
      "outputs": []
    },
    {
      "cell_type": "code",
      "source": [
        "x = 0\n",
        "while x < 100000000:\n",
        "    x+=1\n",
        "    print(x)\n",
        "    if x >= 10:\n",
        "        print(\"It's too much for me, I'll stop here\")\n",
        "        break"
      ],
      "metadata": {
        "id": "P3LikMWS74Ky"
      },
      "execution_count": null,
      "outputs": []
    },
    {
      "cell_type": "code",
      "source": [
        "while True: # Infinite loop, so be very carefull\n",
        "    password = input(\"Enter the password: \")\n",
        "    if password == \"cutecat\":\n",
        "        print(\"Access granted!\")\n",
        "        break"
      ],
      "metadata": {
        "id": "q8Er3oXW83ri"
      },
      "execution_count": null,
      "outputs": []
    },
    {
      "cell_type": "code",
      "source": [
        "tries_left = 3\n",
        "access = False\n",
        "\n",
        "while tries_left > 0:\n",
        "    password = input(f\"Enter the password - {tries_left} tries left: \")\n",
        "    if password == \"cutecat\":\n",
        "        access = True\n",
        "        print(\"Access granted!\")\n",
        "        break\n",
        "    tries_left -= 1\n",
        "\n",
        "    if password == \"Robert\":\n",
        "        print(\"Cheat code, +3 tries !\")\n",
        "        tries_left += 3\n",
        "\n",
        "if access:\n",
        "    print(\"Yes, the cat is really cute!\")\n",
        "else:\n",
        "    print(\"Access denied!\")"
      ],
      "metadata": {
        "id": "7jr-fE8f85ty"
      },
      "execution_count": null,
      "outputs": []
    },
    {
      "cell_type": "markdown",
      "source": [
        "#**➤ Ternary Operators - Part 2**\n",
        "\n",
        "- In the same way as with Ternary Conditional Operators, you can run `for` loops on a single line.\n",
        "- /!\\ As you will iterate over a list, the output will also be a list = It is mandatory to place this instruction in square brackets `[ and ]` or in a `list()` function.\n",
        "- You can also combine loops and conditions on the same one line\n"
      ],
      "metadata": {
        "id": "yVqzx-Hc-fEs"
      }
    },
    {
      "cell_type": "code",
      "source": [
        "a = [i+3 for i in range(12)]   # or list(i+3 for i in range(12))\n",
        "print(a)\n",
        "\n",
        "# is the same as:\n",
        "\n",
        "a = []\n",
        "for i in range(12):\n",
        "    a.append(i+3)\n",
        "print(a)"
      ],
      "metadata": {
        "id": "CAJPKubdUZWq"
      },
      "execution_count": null,
      "outputs": []
    },
    {
      "cell_type": "code",
      "source": [
        "b = [i+j for i in range(5) for j in range(2)]   # or list(i+j for i in range(5) for j in range(2))\n",
        "print(b)\n",
        "\n",
        "# is the same as:\n",
        "\n",
        "b = []\n",
        "for i in range(5):\n",
        "    for j in range(2):\n",
        "        b.append(i+j)\n",
        "print(b)"
      ],
      "metadata": {
        "id": "E0KRhyX1U9AV"
      },
      "execution_count": null,
      "outputs": []
    },
    {
      "cell_type": "code",
      "source": [
        "activities = [0.2, 0.6, 15, 12, 1.2, 0.5, 0.02, 100, 3, 0.6]  # in nM\n",
        "\n",
        "active_nM = [\"Active\" if i > 1 else \"Inactive\" for i in activities]\n",
        "print(active_nM)\n",
        "\n",
        "# is the same as:\n",
        "\n",
        "active_nM = []\n",
        "for i in activities:\n",
        "    if i > 1:\n",
        "        active_nM.append(\"Active\")\n",
        "    else:\n",
        "        active_nM.append(\"Inactive\")\n",
        "print(active_nM)\n",
        "\n"
      ],
      "metadata": {
        "id": "FaITfhNdUdXX"
      },
      "execution_count": null,
      "outputs": []
    },
    {
      "cell_type": "markdown",
      "source": [
        "#**➤ What if I want to iterate on several things on the same line?**"
      ],
      "metadata": {
        "id": "U34PKH_QVsvI"
      }
    },
    {
      "cell_type": "markdown",
      "source": [
        "### **Nested lists**\n",
        "\n",
        "- You can iterate on a nested list\n",
        "- All sub-lists must have the same length, and the same number of variables must be entered as iterative variables.\n",
        "- example: `for i,j in nested:` with i and j that will change at the same time"
      ],
      "metadata": {
        "id": "j4_NbM-GVzFp"
      }
    },
    {
      "cell_type": "code",
      "source": [
        "nested_list = [['Ligand_1', 0.2], ['Ligand_2', 0.6], ['Ligand_3', 15], ['Ligand_4', 12], ['Ligand_5', 1.2], ['Ligand_6', 0.5], ['Ligand_7', 0.02], ['Ligand_8', 100], ['Ligand_9', 3], ['Ligand_10', 0.6]]\n",
        "\n",
        "# is the same as [[f\"Ligand_{i+1}\",activities[i]] for i in range(len(activities))]\n",
        "\n",
        "for name, activity in nested_list:\n",
        "    print(f\"{name} - {activity}\")"
      ],
      "metadata": {
        "id": "gJkMBftZWBGa"
      },
      "execution_count": null,
      "outputs": []
    },
    {
      "cell_type": "markdown",
      "source": [
        "### **The `zip()` function**\n",
        "\n",
        "- You can iterate on multiple lists using `zip()` that will create a zip element considered as a tuple\n",
        "- Basically the same as nested lists, without having to create the list first\n"
      ],
      "metadata": {
        "id": "6MOq1yniWoSS"
      }
    },
    {
      "cell_type": "code",
      "source": [
        "names = ['Ligand_1', 'Ligand_2', 'Ligand_3', 'Ligand_4', 'Ligand_5', 'Ligand_6', 'Ligand_7', 'Ligand_8', 'Ligand_9', 'Ligand_10']\n",
        "activities = [0.2, 0.6, 15, 12, 1.2, 0.5, 0.02, 100, 3, 0.6]\n",
        "\n",
        "for name, activity in zip(names, activities):\n",
        "    print(f\"{name} - {activity}\")"
      ],
      "metadata": {
        "id": "arBzRGVCXM3U"
      },
      "execution_count": null,
      "outputs": []
    },
    {
      "cell_type": "markdown",
      "source": [
        "### **The `enumerate()` function**\n",
        "\n",
        "- Iterates on list **AND** index\n",
        "- First the index X, second the element at index X"
      ],
      "metadata": {
        "id": "3Cz6ej_qXX0G"
      }
    },
    {
      "cell_type": "code",
      "source": [
        "food_list = [\"hazelnuts\", \"apples\", \"oranges\", \"pears\"]\n",
        "\n",
        "for food_index,food_product in enumerate(food_list):\n",
        "    print(f\"I love {food_product} at index {food_index} !\")"
      ],
      "metadata": {
        "id": "UFe_g8s3XhGk"
      },
      "execution_count": null,
      "outputs": []
    },
    {
      "cell_type": "markdown",
      "source": [
        "#**➤ Exercises :**\n"
      ],
      "metadata": {
        "id": "BAPvtv5c-hxb"
      }
    },
    {
      "cell_type": "markdown",
      "source": [
        "**<u>Exercise 1:</u>** Using the `fruits` list below, print all elements with 1 element per line, in at least 3 different ways (2 with `for`, 1 with `while`)"
      ],
      "metadata": {
        "id": "s5VK0BtXYowE"
      }
    },
    {
      "cell_type": "code",
      "source": [
        "# Exercise 1\n",
        "fruits = [\"apple\", \"banana\", \"cherry\", \"grape\", \"orange\"]"
      ],
      "metadata": {
        "id": "Fskf_81aYsWs"
      },
      "execution_count": null,
      "outputs": []
    },
    {
      "cell_type": "code",
      "source": [
        "# Exercise 1 - For loop #1\n",
        "\n"
      ],
      "metadata": {
        "id": "cYZXjUHMZOE0"
      },
      "execution_count": null,
      "outputs": []
    },
    {
      "cell_type": "code",
      "source": [
        "# Exercise 1 - For loop #2\n",
        "\n"
      ],
      "metadata": {
        "id": "4dCgZ0aIZQ0F"
      },
      "execution_count": null,
      "outputs": []
    },
    {
      "cell_type": "code",
      "source": [
        "# Exercise 1 - While loop\n",
        "\n"
      ],
      "metadata": {
        "id": "XJ6FoQFtZRre"
      },
      "execution_count": null,
      "outputs": []
    },
    {
      "cell_type": "markdown",
      "source": [
        "**<u>Exercise 2:</u>** Using the `odd_numbers` list below, create the `even_numbers` by doing +1 to each element, using a classical loop and using a ternary operator loop"
      ],
      "metadata": {
        "id": "v6becgJxZXLV"
      }
    },
    {
      "cell_type": "code",
      "source": [
        "# Exercise 2\n",
        "odd_numbers = [1, 3, 5, 7, 9, 11, 13, 15, 17, 19, 21]"
      ],
      "metadata": {
        "id": "S4aWOwruZWik"
      },
      "execution_count": null,
      "outputs": []
    },
    {
      "cell_type": "code",
      "source": [
        "# Exercise 2 - Classical loop:\n",
        "\n"
      ],
      "metadata": {
        "id": "r4GFU6e-Zyot"
      },
      "execution_count": null,
      "outputs": []
    },
    {
      "cell_type": "code",
      "source": [
        "# Exercise 2 - Ternary operator loop:\n",
        "\n"
      ],
      "metadata": {
        "id": "vAarrNVqZ06V"
      },
      "execution_count": null,
      "outputs": []
    },
    {
      "cell_type": "markdown",
      "source": [
        "**<u>Exercise 3:</u>** Find a way to obtain the following output using loops:"
      ],
      "metadata": {
        "id": "KKuw0rfiaG1l"
      }
    },
    {
      "cell_type": "markdown",
      "source": [
        "```\n",
        "*\n",
        "**\n",
        "***\n",
        "****\n",
        "*****\n",
        "******\n",
        "*******\n",
        "********\n",
        "*********\n",
        "**********\n",
        "```"
      ],
      "metadata": {
        "id": "3uGp-mDcaPsW"
      }
    },
    {
      "cell_type": "code",
      "source": [
        "# Exercice 3 - First triangle (triangle adjusted to the left):\n",
        "\n"
      ],
      "metadata": {
        "id": "b8Lp4NNoaSEd"
      },
      "execution_count": null,
      "outputs": []
    },
    {
      "cell_type": "markdown",
      "source": [
        "\n",
        "\n",
        "```\n",
        "         *\n",
        "        **\n",
        "       ***\n",
        "      ****\n",
        "     *****\n",
        "    ******\n",
        "   *******\n",
        "  ********\n",
        " *********\n",
        "**********\n",
        "```\n",
        "\n"
      ],
      "metadata": {
        "id": "j6ovViXTaVG4"
      }
    },
    {
      "cell_type": "code",
      "source": [
        "# Exercice 3 - First triangle (triangle adjusted to the right):\n",
        "\n"
      ],
      "metadata": {
        "id": "5K508-WZaoxO"
      },
      "execution_count": null,
      "outputs": []
    },
    {
      "cell_type": "markdown",
      "source": [
        "\n",
        "\n",
        "```\n",
        "         *\n",
        "        ***\n",
        "       *****\n",
        "      *******\n",
        "     *********\n",
        "    ***********\n",
        "   *************\n",
        "  ***************\n",
        " *****************\n",
        "*******************\n",
        "```\n",
        "\n"
      ],
      "metadata": {
        "id": "7281NKxLacW9"
      }
    },
    {
      "cell_type": "code",
      "source": [
        "# Exercice 3 - Pyramid:\n",
        "\n"
      ],
      "metadata": {
        "id": "nnZ2nHTSaBS_"
      },
      "execution_count": null,
      "outputs": []
    },
    {
      "cell_type": "markdown",
      "source": [
        "**<u>Exercise 4:</u>**\n",
        "Using the `adn_sequence` string, create a function that can transform this DNA sequence into its complementary sequence. Check that your function is working properly by also transforming `adn_sequence_2`.\n",
        "\n",
        "Reminder:\n",
        "- A ➔ T\n",
        "- T ➔ A\n",
        "- C ➔ G\n",
        "- G ➔ C"
      ],
      "metadata": {
        "id": "MbDAYssCaazN"
      }
    },
    {
      "cell_type": "code",
      "source": [
        "# Exercise 4:\n",
        "adn_sequence = \"ACGTAATTCCCGGATGGCAGTCGACGATGCAGCAGTCGA\"\n",
        "adn_sequence_2 = \"ACGTAATTCACCACCCGGATGGCACACAAGTCGACGATGCAGCTGGTTGCACTCACTAGGCATCGACTCGAATCGAGCTAGACTAGCCTAGCAGTCGA\"\n",
        "\n",
        "\n"
      ],
      "metadata": {
        "id": "vhaDHDyqbli3"
      },
      "execution_count": null,
      "outputs": []
    },
    {
      "cell_type": "markdown",
      "source": [
        "**<u>Exercise 5 - Find the number I have in mind:</u>** A number will be randomly generated between 1 and 100, `number_to_guess`. Create an interactive script (using `input()`) that allows you to find it progressively and count the number of tries it took you to find the final solution.\n",
        "\n",
        "As an example of output:\n",
        "\n",
        "```\n",
        ">> I think of a number between 1 and 100, guess.\n",
        "Guess number 1: 50\n",
        ">> Bigger\n",
        "Guess number 2: 75\n",
        ">> Smaller\n",
        "...\n",
        "...\n",
        "Guess number 9: 62\n",
        ">> You win, it was 62! It took you 9 tries to find it.\n",
        "```\n",
        "\n"
      ],
      "metadata": {
        "id": "jVBjf3MGcFGw"
      }
    },
    {
      "cell_type": "code",
      "source": [
        "# Exercice 5:\n",
        "from random import randint\n",
        "number_to_guess = randint(1,100)\n",
        "\n",
        "#################################\n",
        "# Your script:\n",
        "\n",
        "\n",
        "\n"
      ],
      "metadata": {
        "id": "KXOHoUZtdNe8"
      },
      "execution_count": null,
      "outputs": []
    }
  ]
}