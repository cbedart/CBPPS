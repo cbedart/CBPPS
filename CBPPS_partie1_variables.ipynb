{
  "nbformat": 4,
  "nbformat_minor": 0,
  "metadata": {
    "colab": {
      "provenance": [],
      "toc_visible": true,
      "authorship_tag": "ABX9TyO4oR4QjjCIzAjZWSrP22Vp",
      "include_colab_link": true
    },
    "kernelspec": {
      "name": "python3",
      "display_name": "Python 3"
    },
    "language_info": {
      "name": "python"
    }
  },
  "cells": [
    {
      "cell_type": "markdown",
      "metadata": {
        "id": "view-in-github",
        "colab_type": "text"
      },
      "source": [
        "<a href=\"https://colab.research.google.com/github/cbedart/CBPPS/blob/2024/CBPPS_partie1_variables.ipynb\" target=\"_parent\"><img src=\"https://colab.research.google.com/assets/colab-badge.svg\" alt=\"Open In Colab\"/></a>"
      ]
    },
    {
      "cell_type": "markdown",
      "source": [
        "**<h1><center>Partie 1 - Introduction, premiers pas, et variables</center></h1>**"
      ],
      "metadata": {
        "id": "LPuIjLp6W3L8"
      }
    },
    {
      "cell_type": "markdown",
      "source": [
        "---"
      ],
      "metadata": {
        "id": "3a6MchTJZm1Y"
      }
    },
    {
      "cell_type": "markdown",
      "source": [
        "# **➤ Introduction générale:**\n",
        "\n",
        "\n"
      ],
      "metadata": {
        "id": "wrw0Yi_s1EbK"
      }
    },
    {
      "cell_type": "markdown",
      "source": [
        "### **Qu'est ce que le \"Python\" ?**\n",
        "\n",
        "- Langage de programmation créé en 1989, et rendu public en 1991\n",
        "- Dernière version = Version 3.13 en octobre 2024\n",
        "- Python version 2 parfois encore utilisée, mais obsolète et n'a pas les mêmes conventions = A éviter +++\n",
        "- Caractéristiques intéressantes, ce qui en fait un langage de programmation clé dans de nombreux domaines:\n",
        "    - Multiplateforme = Fonctionne aussi bien sur Windows, Linux, Mac OSX, Android, iOS, petites puces type Raspberry Pi, supercalculateurs, etc.\n",
        "    - Gratuit et relativement simple à prendre en main\n",
        "    - Langage de haut niveau = Demande peu de connaissance sur le fonctionnement d'un ordinateur pour être utilisé\n",
        "    - Langage interprété = Pas besoin de compiler le script pour être exécuté, contrairement au C et C++\n",
        "    - Orienté objet = Possible de concevoir des entités qui miment celles du monde réel avec un certain nombre de règles de fonctionnement et d'interactions.\n",
        "    - De très loin le langage le plus utilisé au monde\n",
        "    - Très utilisé en analyse de données, pour la réalisation de figures de qualité pour publication, en bioinformatique, en chémoinformatique, etc.\n"
      ],
      "metadata": {
        "id": "fxlHZiY2PZK1"
      }
    },
    {
      "cell_type": "markdown",
      "source": [
        "### **Google Colab ?**\n",
        "\n",
        "- Environnement de développement interactif en ligne et gratuit, fourni par Google\n",
        "- Basé sur Jupyter Notebook:\n",
        "    - Permet d'écrire et d'exécuter du code Python directement depuis un navigateur web\n",
        "    - Affichage des résultats en dessous des différents blocs de code\n",
        "    - Permet également d'avoir des blocs de texte formatable en Markdown et en HTML, qui permet d'ajouter des commentaires, ou de produire des documents complexes (comme ces cours!)\n",
        "- Avantage majeur = Accès gratuit à des ressources de calcul puissantes, aussi bien CPU (utilisées au cours de ces séances) que GPU/TPU\n",
        "- Pour exécuter un bloc de code, il suffit d'appuyer sur le petit play à gauche du bloc quand celui-ci est survolé\n",
        "- Vous pouvez ajouter un nouveau bloc de code ou de texte en passant votre souris entre les blocs (image ci-dessous) ou en utilisant les boutons `+ Code` ou `+ Texte` en haut\n",
        "\n",
        "<center><img width=600 border=2 src=\"data:image/png;base64,iVBORw0KGgoAAAANSUhEUgAABLMAAACwCAYAAAD0WSzfAAAABHNCSVQICAgIfAhkiAAAABl0RVh0U29mdHdhcmUAZ25vbWUtc2NyZWVuc2hvdO8Dvz4AAAAodEVYdENyZWF0aW9uIFRpbWUAbWVyLiAwNiBub3YuIDIwMjQgMTc6MjE6MTIaCmy/AAAgAElEQVR4nO3de3jT9d3/8ZdJk5a0lNJCILSlRA4FSkWKQhGpiKI48QTbhE1xt7Dd4u79dF46d/TmdnPO6abe927cPGyTzYEHQA46JohQToPRorbctFAIUEowpdBCW9qGlt8fSdoCPTeYfsvzcV1eF2m+32/e4fuuNK9+Dlekp6efEwAAAAAAAGAAplAXAAAAAAAAALQVYRYAAAAAAAAMgzALAAAAAAAAhkGYBQAAAAAAAMMgzAIAAAAAAIBhEGYBAAAAAADAMAizAAAAAAAAYBiEWQAAAAAAADAMwiwAAAAAAAAYBmEWAAAAAAAADCMs1AUYhiVN8//nR5oSJ6k2W69861mtrwp1UQAAAAAAAJcXRmYBAAAAAADAMAizAAAAAAAAYBhMMzQUi1LnvaSnbrVLknJee0BPf1QZ4pqaZ5n4uF5/dLxskiq3vaB5v90ub6iLAgAAAAAAhsbILAAAAAAAABgGYRYAAAAAAAAMI0xmm+yJCeoXFa7qskK5jpbKWxvsl7EoJjFB9l4WectK9cUxjyq76nwzs0Ux/RNk72mR97RHR4pKOz41LiJG8QMTFWutVvkXR+QqDuGUwC/lPgeLRbb4BCX0jpLOnJCnqEil7BwJAAAAAAAkXZG1r/CcPaLRVyo9ytm6RsvfXqWc0s5d3BKfpjvumambrh0mu63RE95SHcn9p/6xbKnW5DXzIokz9NRTd2mwSao5+J5+8stV8jQZvtg05YmX9cBwq6Qv9Pfnf6IleR2InyzxGv+1OZp5Y6qcMZZGpbqUvW6pFq/y6s7f/khT4iTVZuuVbz2r9c0ELDHDp2nm125VRkqCbOZGb9uzV9s/WarFK7LlaXOJFo3/95f08Lgo38MeNtkC5VVVqrLG98cvPn5GP/jb3ovP7pumaV+bqWkThqmt9zn+lh/px/cOV5QklWXq5Z++oewmcjjLsFla8MRtSjBJqjuiv/9mgVY6HtHL96XKKklWi2wR/mK9XlWe8b3pZu9nRLzG3zVbM29MkzOu4R7IW6kjuZla9fZird/fddcIAwAAAAAAl17YeQGHJNnsSr15jlLHjNIbv3pBaw52bFySfeJ8Pf6dKXLamnjSEqOEMdM096oMjVv+gl54O0cXRRRmq6J62mQzS7ZIiyxNXMbHKqstRrZoSYpUZEeWtLelatZPHtfMYRcXa4lxavxXH1fqVdk60nwRgQsp9auP6/99NVUx5ouftdiH6fp7f6S00Uv1wrNLlNPWXCYySrboJv4iI2yy+e9fZES4LNJ5o8hirpmjJ+bfoWHRTZXa/H0u+mSJPr7hGc0eZpGip+n+r+1Qzps5549QM8frjgfu1DB/8OdZt1Qr87zSQJtimqrVYpHN4ju2yfvZ/3rN/8HDmpLYxF+yxaaEMdM0f1SaUv/wX3p5o6eJNwQAAAAAAC4H5q9PSFrw7rvvaemHG7Vr33HV9R6kgbEWyeZQ2lWRytu4qx2jiHxsY+bqPx+dqqQISfKqNHejlr+3RMtXrtHGTw/qeF1vDYrvLYvZon4jr1XKuf/Tpv8rUV3ji8SM0tSbR6q3SdLJXK1Zv0enzzX1ahEaMvlOpdklqUIFG9dol6euqQObYdeUx36sOak9fQ+9pdqb+YHe/+BDrd/4L+1xV8rSJ0EJAxMUF+4/5ZxbO9/fLNfZ868UP/1H+tk3U9XTJKnKo+y1S/XOu+9o1fodyj3qVWyiU3ERkqXPSI22u7Xpn4fV+uy5OnlPH9fh/F3ambVTh60pGtnPF/gc+eQNvfXRdu3M2qmdOfk6XNJwNcvwWVrwxN0aEilJlTqybaXafJ/rSlVw4JxSM1IVFyZFOweqJmut9jQawWWf+n197xaHL5TyrNd/v7RKh6slVZ2W51Cudmbt1OfFvZQ6NE5mSd69a/Tn99Zqe9ZO7czeoz1FpQ33OzpN83/2iKYk+N5X5f7Nem/JO1q+8gNt/PSgTpntujI+WmZzpAZeNVLmzzco92R77jEAAAAAAOguwn7w2yUNI27ycrR943Yd+PECzRllk/rfpFlfWaOc94rafsWIVM1+cJp8uYRXrtXPasGbjUde7VXOtjVaf8Mj+s/518tutmnYjHmauesHWrI/iO+sjWzjZmv2NTG+B1UurfrtAi3a1WjI1I7NWrPqY8144ieaPaqpYWZ+8Xdo7r2psgWu89wCLcpt9K5zs7V5W74eXzBf4+OkmPTZunP4di1qw5RIT+5mrc+VJItSB83UzKt8dZwsyNT6dU3O/9PM79wpZ4QkVSrnLwv07EpXu+6z9+Aqvb4iXc/c65TF4tRd90/T5l+u8U0NjLlec77mf6+1Hq3/05vKPuU/ryhb6/2XsUxM0+zb5BsxVpKrj9dtb2L9MZvSZs/VlHhfkFW64xUteGm9iuoP3KucbZna9Y0F+tE9TlkinLrt3kla88v16uQsWAAAAAAAYECmi8IFr0ur3vy7XF5JsmjYdZPkbGLKXHNiMqbrpv7+S+19T6/8tYkphJI8Gxfq9+v808UsTt10x3i1EBVdIjFKv3G8fFGWV66/v6LFu5qotnKvlv1usbKbHUZlUer0aUr1j0RzrXjlvCCr3rH1en2Zf7qe2a5JN6S2MH2y42zX3anb/NP1Kj9frN83DrICWr3Pvvexcr/vTNtVMzXn+hhJNqV9Y7bG+/M/T+YivbmzE+tY9b1J06+3+/5culmv/6FxkBVQqZx3/6KPj/nf36jrNalvx18SAAAAAAAYl6nJrxZuUnZgkE7/YRoV09bLxSh9fCCgqVTOujVyNbtjnlc5q9dorz+4iElN94dBX6KIUUobGVig3KVN65sIfQJOeVRa0cxzllRdP8YfyFTlaf06V7MvWbpjhwKDsWKShymhHUFh29iUNs4/akqVyl73sZpdYaq1++x1aelrK+WqkqQYjf/6bI2/Zrbuz/C/V896Lfrr9ibDyrayj0/XcP9992xbXz/C6yLePO34LBB+DlfyyEsRAwIAAAAAgK6u6TCr1qMjgQWULP1kj29jcGC5UskD/cfW7lfu563EHMXZygmEKZGDlBzftpcJmv4Jig+sg+XJV35xB68TP0zOQBBUtFc5p1s4tqJIxYHAJi5B8U3fgY6zDFbyIP8YN+9+5e9pYRpjG+6zd/9SvbLaH/LZp+iRx6b5Arhajza/+aa2Nxc+ta1YDRuWUB9+uvLzmg8T5VXhsS/qz7P3T+jMCwMAAAAAAIMKe/fdd1s5JEq9I9t4tR529fKvo67TxSpqLegIhCmDLJI5Vr3tFml/x3ZP7AhLn96KCoyMKvHoSLOjyFq5jr2fegeuM3imXloys20nhtsU1UNqIcFpP3Nf2XsHCkvV3Nfe1dw2ndjcffbKtex1rRyzQDMHW+TfkFCezYv02o7OjMmSpN6yxwUml9o0/tG/6d1H23ZmZM+oi3ZvBAAAAAAA3V8bxgVZJGsbrxZuUWCgk6pqVN6GU7zeQBxhkaWtrxMsFmv9W/NWlXc8GLFY1Na876JTgz0yK8LawWu2cJ+9e7XyHzkNfz+1Lm1a3bnphZIkc6SsHbzn1qBPzwQAAAAAAEYQtujNRS0fUetVUUEbYx6vV9WBP5usDcFWCyyBoT7ySjVte5mg8daoRvKtL9XJJM0r/659+9dr8eYjbTup1qPc5tbh6qi6Rn8+tVdrlv+z+TWzzqulhftsS9Xsu9IaFqs3O3XbvVO0/rn1bbt2sxrf8FJlL1+p3DZNW/Sq4mAho7IAAAAAALgMha1avSp4V6s4qbIKSdGSomPUt7V5YGa7EuyBNbZOyFPy5cYT3pMnVV4rxZglS7RddrNU1JGphqdPqly+UMziPaJNq1epNMi1ttmZclVW+4uxnlT+ulXa3OwujG1hU+qsBzXNv56Zt8orS4RFtmse0Nwbc/XsJ52Is2pPqrQ8EANKpXvWaNUuIioAAAAAANC84E5y87p04Kg/jIi4UqmjWlk4PiZVw/r7/1xdpAONBzQ1DpXM1jbPdGyXoiMqCgwli3cquWeLRzfLe7hIXwQymIHJGmVr8fBLq86lA27/nyOcSh3RuV3/bFfN1oO3+Bdb96zXy8+8p71VkmRT2n1zNaVvZ67uVVHhSf+fYzRsBIu6AwAAAACAlrUQZtkUH9/eVMaj7H/5d75TjNJuvkn2Zo+1yHnzFA2P8D2qzP2nshsvwlRWqvLAlLnYfrI3l8mYeyumVzvLDKjKVW5+IHxL1U0ZLWynGBmjmB7NPFearV2B69jSdNutrWzLGGFXfFy7q22b2iLt+jyQCtqVfsukFu6B1OJ9tqVq9oP+3QtVqs1/W6zteav05t/99zg6TQ88OKWV67fEq7xdufVTFRMy7tT46JbPiIm3K5RZIQAAAAAACC1Tk8GAOUZp9/9Ev3z+ef3ozmHtCg+KNqzUdv8cO9uY2XpoulNN5VC2UTM1P/Bc7RFl/v2CBcXPHNDBQMoRnaZJE2KauoqGfXWebktsR4HnKVXmJ9v9UwItGnbXXN0xuIlqLfGa9u+zldbsX4RHH3/U6DozHtGcMU3VK8k2TDOeeEbP/+opzWrumGZ5VV3dsM5UVHTvJo9yrf1HfTBou+YBPfTVZu5hi/f5/OmFlTsXa/GWUkle7V32F31c1HD9uTc3E2dVV9SvimWJ7N3kIvnez9fo48AOlnHXa978aYpvMri0yD5xvv7z+Zf0zKNT5Ixo+iUBAAAAAED3Zn7vf368oK76jM5U18ocFaehoydr5re/pzkT42UxR6pXuEc7N+9RaV3rF5MkVRcp/1SSMsYmKMJkUb+rJyot3qQz5adUVWNWZP+RGv+Vb2r+t6YqKUKSvDqy9vd6eU3R+ctr1ZXoTN/rdFNytCSLElLTNMBcIe9ZsyLiEpU85nrdef+/64HJA9WQa1SoYOMa7fK0tVjJ6z4i77AMpfWzSOH9NPq68UqyeVV7ziJrzAAlj52i2d95SHeMbDQH8ZxbO9/fLNfZRtc5kq+T8elKHxgphfVWcnq6RvQ2q6rSV7MlbqBGX3+75v7HPN10ZaTMEbGKPvm51n/uUdurlc7EpWn6tQ6ZJfV22FVbUqZaWz8lxdXIXeJfHKuyQK7qIcoY45BFFvUblaGJV0aqPffZdtUcPf6tNEWbJFXmaPGLf9au0/4iznqUf7yPJk5wKtJkkWOYQyXbNst1wfaGdXUOpd86WnEmyRxrV2xlsU6aempAfLTKvyj13e9zpSo4bFHqxJGKC5MiBqQpY1ySImqqVFF1RgqLlmPYGE352sP63qw0xZnNio42q2DbZrnasl0mAAAAAADoVq4oLCw819yTlftX6eVfLVJ2u1czt8h5yyN6/Fvjm58eKEny6sjGhXrhD5tV1NS639Fpmv/045rS9FAdn6ojcpX2k7O/RZJHa/7rUb2R285FxGPSNPepxzUtsfnX8R7LUZ5SldpfUm22XvnWs1p/4cLqlnhN+e6PNW+ivcnRaI2upiOfLNSzf9gsT3sXnI++Xo/85hFdf8GgrsotL2jeS9sbBYI2DbvzET3xjTTFmFu+5EX32Zaqub98yj8qy6u9b/9EP3nPdcFZMbr+sef1iH/EXOXOV/TERbsb2jXtZ89r7lUXjAs7tkY/eewN7W10m2LGzNIT/zFTw1qZZqjSHC3+zQtallfZyoEAAAAAAKA7Mj/0yGMLLBesnOUt2attq/6k377yoQo6lBnUqXT/Vm34tEQ94hwa0CdalvMCFa9KD+7U2j//Ti8u/bz5UV/Vbu38l0tmu1OD+kfr/Dq98uRu1JL//Z2yYybrukER6sjILElSlVu7tuXodHSirkyIU0TjWr2l2rv5Hf3+5bd0etQ9SuunJkdm+d72abn+uUHZnjDF2fupT0yEzs+R/O/7r7/Ti+99rtPNxogtqD6s/CNmDU8dqbhGU+28hVu18p9FjUZ5eVWSv1mbck/L2sfuuwdtus82pd7/uOamRfuv+6Fe/t1GlVz0V1qlwwUVGjLpWjnCJcuAFDlObtXmAxWNjqlQwd7jik6+SkNiG8V75QVa/49d512z6liuNm3LU4XNIUe/OEVemAZWeZSzaan+8PJr2ljIjocAAAAAAFyurkifcuc555AE2XvaZKmrVNmRA8orLFVQ4wKbXcOGJKh3T5vkLZPHtV+u4valZJboeA0fnKBe0RZ5K8rkKciTq/QShBo2u4YNcap3T4tU6ZErf688HRwEZIlzavhAu3rZLPJWl8lzKE+u4iDVbImRc0Sy4ntK3tMeufa65LlwpFhjNrsu+X1uvljZh6XK2dcmVZfJ48qTq6SFVzbbFD94sPrF9ZLN5FVl8RHluYpUSYYFAAAAAMBl74r09PSOjA8CAAAAAAAAvnSm1g8BAAAAAAAAugbCLAAAAAAAABgGYRYAAAAAAAAMgzALAAAAAAAAhkGYBQAAAAAAAMMgzAIAAAAAAIBhEGYBAAAAAADAMAizAAAAAAAAYBiEWQAAAAAAADAMwiwAAAAAAAAYBmEWAAAAAAAADIMwCwAAAAAAAIZBmAUAAAAAAADDIMwCAAAAAACAYRBmAQAAAAAAwDAIswAAAAAAAGAYhFkAAAAAAAAwDMIsAAAAAAAAGEZYqAsAACCUIiIiNGrUKA0ePFjx8fGKi4tTRESETCZ+32N0dXV1qqqqUklJiYqKirR//37l5uaqqqoq1KUFFT18+bhcehoAgNZckZ6efi7URQAA8GVzOBzKyMjQuHHj+NB/Gamrq9OOHTuUmZkpt9sd6nI6hR6G1L16GgCAtiLMAgBcdu666y5Nnjy5/nF+fr7y8vJ06NAheTwenTlzRnV1daErEEFhMpnUo0cP2e12JSUlafjw4UpOTq5/fsOGDVqxYkUIK+w4evjy1J17GgCA9iDMAgBcNhwOh2bPnq3ExERJ0pYtW5SZmSmPxxPiyvBlsdvtysjI0MSJEyVJhYWFWrx4sWFGtNDDuJDRexoAgI4gzAIAXBauvPJKzZ07VzabTYWFhVq+fLlcLleoy0KIOJ1O3XPPPUpMTFRlZaXeeOMNHThwINRltYgeRkuM2NMAAHSUOSEhYUGoiwAA4FJyOBx66KGHZLPZtGvXLr366qs6efJkqMtCCJWWlmr79u2y2+0aOHCgUlNTtWfPHpWXl4e6tCbRw2iN0XoaAIDOYLVQAEC3N3v27PoQYNGiRawlBEm+hbMXLVqkXbt2yWazafbs2aEuqVn0MNrCSD0NAEBnMDILANCt3XXXXRo9erQKCwv16quv6tw5ZtfjfDk5ORo5cqQSExMVERGh/Pz8UJd0HnoY7dXVexoAgM5iZBYAoNtyOBz1O74tX76c0SxoUl1dnZYvXy5Jmjx5shwOR4grakAPoyO6ck8DABAMhFkAgG4rIyNDkm/HNxbKRktcLpe2bNkiqaFvugJ6GB3VVXsaAIBgIMwCAHRLERERGjdunCQpMzMzxNXACAJ9Mm7cOEVERIS4GnoYndfVehoAgGAhzAIAdEujRo2SyWRSfn6+PB5PqMuBAXg8HuXn58tkMmnUqFGhLoceRqd1tZ4GACBYCLMAAN3S4MGDJUl5eXkhrgRGEuiXQP+EEj2MYOhKPQ0AQLAQZgEAuqX4+HhJ0qFDh0JcCYwk0C+B/gklehjB0JV6GgCAYCHMAgB0S3FxcZLE9Cy0S6BfAv0TSvQwgqEr9TQAAMFCmAUA6JYCix2fOXMmxJXASAL90hUWy6aHEQxdqacBAAiWsFAXAADApWAy+X5fU1dXF+JKQsAUpchYh8KtUm1licpLT6g21DWl/kLzH8xQuCTVZemT//y+PisPdVEXC/RLoH9C6bLuYQRNV+ppAACChTALAICgi5Jj4hwNiZOkGrm3vq6C45f6Na3qlTpL4ybdriFOh8Ib/wt/xi333o36dP0S5R8+cakLQTcROWKORg+NkllS5b7lytrjDur1wyc8pzlfSe3gD6PVOrrmYa3YEtyaAACAMRBmAQAQdD014JpZGjtIksq1e98iFRyvuXQvZ03R6G88pYzRDpmber6HQ47Rs+RInapRa3+t1Wu2qfrSVYNuwSrb0Kkad2OSJOmENgY9zAoLi1ZkVFQHz45SRMh+irUqNmWGEmN9j856Nmp3PqEaAABfJsIsAACMzJSk0d96XjeOaBQK1JSo+NBBlVXVKLznINkHOhRukmSKU+KtP9fd3vl6++N9ISsZkKSzNSUqO1Vy8Q+jpp6KjLLWP6wtL1HVRTMta1RRE6pINkqOSQ/rxmTfo+rso4RZAAB8yQizAAAwsF43/FAZ9UFWjcqyF2r1u8tUXNVwjDn2Zk168Ie6Ot4qySrHLY9p9Gfz9dkln/oINK96+0/1p+1NPJH8pL790O2KlCS5lfOn+7XhwCUc2QgAAAyHlSABADAqa4aum5xSP7Wwdt/rWvbW+UGWJNWeWKcNixbJfTZwXopGX5fS+vXDrDJ39CcFUyfO9TNbozp9DVyeumzvhEXJzK+SAQDoNP45BQDAoMwpt2hQdOBRiXLWLlNZcxvfedYqzzVHjqG+6Vuxgyeol3ar7ILDwgfN0Lgpt2vIkCT16uE7tvbUIR3N36jP1i9RwbEWtiAMG6oh0x7Q2DHpcsRaJdWo2pOjPZv/qn+dass7ivIvYn+DhjiT/IvY16jCs09HspZq6/p1Kjvb2jVweWpf70Re+5SmTxnq212z9rjy3nlSOw7XnHc9593P67pk3wL4tVW52rr8kFK+frtizVJ4bMOR4SO+qzlPflvSceW9/aR2HDx/FFn4gNs19qbpSh4x9LzvqcO71yr7oyUqLGXUGQAA7UWYBQCAIVk1IDnF92Fckk7t0n5XSx+K3Sr8LFOus77JWyovl9UkqT78ipVj2jO6e2qKb32tRszRSUq8do4Sx96ugvd/qr9v2q3aCy8fNUGTHvq5xsZbG33RqnD7WF09I1VOTxNrIzVmSlLyrF/rlmsvXMTeqkh7ipJvS9GQMWO1+pXn5GpTMIbLRgd6p2LXBzp684saa5ekJI2fPkP5C5fUh7vmQXM0aVKKYk2SVKPif/xKrpoJus6R5P9aIz0ciu0hSVHqFd74Cav6Tvq5pt85Qb0uaH5zdJKcE+bJefUE7fjTE9q6r4WQGAAAXKQrDsAGAACtilNs37iGh8f36kQro5ZObHlaK1590vff35aouNEorl43PKO7b20UZJUfUmFOpvJ371bZGf/XTHEaMuMXum2844IrO5T89Z+dH2SVH5I7P0uFh92qrrOql72ZnRYlSVFKnPFr3dYojKg+lqWC7Ey5DrjrgzNz/9s17Ruz1Kvlt4nLSgd752yWtr7/QUN4NXSOrhsTGG6VpKvvmNEQWnlWa/263VKNW0V7tsm1J0vFjbOn0n1y7dkm1+5d8pxuCJQjxzylu2c0BFm1p/bJ9VmmCvbsU0Xge7VHisbd90MN6eimjgAAXKYYmQUAgBGZYhXZ6ANw7ZnTqmr+6JZFz9DkWxtGeVXnv673/rhIxYHP5dETNGnuzzV2oFVSnIZ85bsa8tlPVRB4wUH36rrUhmIqdi/U0kVLdMJ/vnnALE3/9sNyxjTz+oPm6cYJgYCsXO5//Ezvr8lSYK+6yNFP6etzblYvkxSefK/GJS/T2nymZkGd6p3aPa9pU3a6pqfFSYpS8lfm6NOcl3RqzMMad6U/mK1z69Nlr/vWmzvxgTa8/oGkWKU89L6mBnYzPPCmVvwl8/y6rBm67s4M/yL2UsWehVr6xyX1gbPZPkPTv/uonNGSon1r3xWs3n0p/oYAAOiWwr7//e+HugYAAAwkSo6JczQkrqVjespeH9xYZR//sCYNbSl8qZF76+sqaNfughHnLXB99mx184e2ote1t8vZw//gTJYylzQKsiTp1DZtemuRBjwxT44wSdHpGj3WoYItbklWOdImNIx4ObNNmUsagixJqj26RGs+GqPvfH1CE6OzouS87paGUTCHl2ntRw1hhCRVfPY77cjP0NQRvjBt0OixUv62Dr/fturOPyNFjpij0UOjWhgtZ1WEs6HJI50zNenOG1q8ZuW+5cra4w5aja3rbO+cUMGqv8g17FE5oyT1ma6Macd0YsyE+mC3Ius1bctv/xTA8LH3aHjg/wE1Wdr6zpLzRk7WepZpQ+btck4fKkmKTblBfT/cfd5oyUuhO/c0AODywsgsAADapacGXDNLYwe19Xir+o6eob4tHlOu3fsWqeB4KEYbxWpQclL9o9oD61RQ2sRh5y0gb9WAoSkyb3GrVg4NSGyYdlhbkKmCJj77V5d7dVa6ODwxpSppaMOoLvfna3Xiog/0J3Rk/yFphO+Df2T8UPXStosWr0dbWWUbOlXjbkxq/VC/8EE3t9rzJ7Txyw2zgtE7pcu04aOpGjAjReGyynHTw6rv5vJtyly9Tu2Pia1KTE5t2GV0/6Ymv6fK9ueoTEN9QXCfobJbddFOpAAAoGlhL774YqhrAAAg6Lr/v29VjRZvl8LCwps/tCUmp6LjGta6Kjt2sJkP7yXyHCuRhvo+6pt7D1KUpDJTH/WMbjiqzHPw4sXhW2JzKK7R+bHX/ULfHHPxYebIRut0RTlkM6n5nRuDJNQ9FOrX7/KC1DtlW36rrGte0XUDG29eUC7XmoXK78hmA6YkxfZpuJY58V599fF7Lj7OEqX6KM4UrchoqeNzhduGngIAdBeMzAIAoF1O6+jOJcpytXRMT9nH3K7EGEmqUfFnq3X4RCvTDIvbOSqrrlyVlQ0PzdaeCpPaFyRJkiIV0eingeqK5qZU1ai6plGNEVbfboiKlKVN5zcjIuq8H0bCY5NaGcUmKYwfYDqnRpX71mqHWptmeItSBvniluqD65TrankebOW+E0GtslXB6p26fcrakKWxcxqmF6p0o7K3H+pgYdEKb5wtRznUt9UF3q0Ko6kBAGgz/tkEAKBdyuXeslAtT6ZyaKyzIczybF+oTXuCPYXQrRPF5ZI/bFDfJMWaJHDHle4AAAy+SURBVHcLo5UiR8zR6MH+48/s1e5P1qlMXnkbreUTZmnubKvCrY1GrnhrVFMnyXTB+e3dJ/m8emtUdjBLxRWtnFN+SK0dgpZV7FmkrXtaOsKqvneOrQ+zKlxLtWllF1ugPFi9YxqqsZPH6ryxjTE3KG38EhVu6Uigdf6oydrju3X4i1MtB811bpUwxRAAgDYjzAIAwJBqdNSVr9prx/pG10SPkjNBch9u7vhYDZo0R+NG+AOpY0uU98k6qe6oTp+SFOv7cnSfJElNfYC3KrpPw4LgtaVulUu+88sbzrf1HdDM+c0oL1HFWUn+sk5lP6fVm77kET4wpiD1Tq9Jj2n8eVMMJSlKzmkPK3n3k8pvag25ltSd0KlySXbfw7NFS7X6z+s6MGoSAAA0p72/PwUAAF1Edc46HT7jf2BKUsoNN6vZlbNiJmvI4EZrY+3f5V8s262jhxrGmYUPnaDECz/XS1LUDRo6qOEJjyvX/+HcLU9RSf3XI4eO9+14eAFzcz9x1OTKfTTwwKoBV9/SsDPihcJamhaHy04weid2hibfmlL/3ImNC/VpYDZl1ARl3NHC91SzSnS0sNH31OCpGtLsNMMomfnVMgAA7UaYBQCAUZWv1Y4dDR+aI9Me0/Rbxl784TtirMbOmidnIIuqO6T8rdv8D2rk3rGxYRe4mKm68SsTLrhGrJzT52hIj8ApWcrLOlR//tGcXQ1Tt2KnK+PmlPODg6gJum5qejOhwCHlZWfVj1oxXzlHN98y9uLgISZDk773jubcf7t68dMLJHW+d2KVfPc8OQN9feIDffLhEm1bua6+nyPTvq2MERcmUTU6W9cwbTgsss8FvV2j4h1rVRz4noqaoIxZMxR7YWgVlqQhs17Rdx59Us5oAQCAduB3QQAAGFaN3B/+WlnJz2lsf6ukKCXe9qIevHa3CvcfVHmN1CNmkPoPSVGvHg3nnNj0krYfbXSZo4u06V836K7xDklWxd7wc30jMVP5/7dXFYrVgFFTlTworv784k1/VW6jqVe1+YuVfTBDkwZZJVnluPVlzbkyUwUHjqo2apASU9PliG5quJdPxbbXtf2aVP9uclFKvO05PTjin8rbk6tT3ihFO1LkHDVWsT0kDfy+pn+xV299tC94f40wrM70TnjqfygjNRBUlatgzWsqrJGU85q27knX1BFRkhxKuXuecve9JHf92nA1OnXitCTf94R56P2aPmug3FVSWfZC7T5cIx1dosxtUzVzom8nxciUR/XNJycp77Nd8pyWwnsPkzM1XY5Yq6QkTZ+1T398dRlrwQEA0EaEWQAAGFlNljb94WmZ5/1QV8f7PpiH90nRkD4pTR2sE9t+pRUrsy5Yv6dcrvee1idRv9CNKXGSrOp15c0ad+XNF51f9tmLWv3hBefX7VPWWwuV8L1H/SNMrOo19GaNHdpwSO0Jt87GOpoenXV2t3b86Veyzfuhro73BWKRgzI0dlDGRYdWH1ii9ZkEWfDraO9YJ2jC3Tcr0v9c7b5F2vSvwHpbbu1euUyjhs7xTZm1T9eUaWv11urAAvg1cmdvVNmEGb6RXqY4JY6foUTVqODQQu0+LEnlKnz/p1rb4xeakuaQWZK5z1il3DRWF31nlm5T5srVBFkAALQDA/UBADC60kxteGm+VqxeJ/eJJnZNrKtR2YF12vr6XL31zjqVNbXj4dnd+uyPD+vt95u+RvXxLH363iP6258/aPr848u0+n+eVla++4Kgq1zF/1qoJf/7to6ebeK8+vewThv+e75W/yNTxacufv3a0t3avfJJLfrf1+Vm1zc01u7escrxlYd1tX/TAtUdUtbqZSprfNKxRcrcFpjCa1XfGx7TuP6NRhceeF2rV29TWUs9fXafdv9lrpYsWSbXsfKLnz/jVuGWhXr7N0/qs2PB3u0UAIDujZFZAAB0B2cPyfXx03J9bFV47FDF9o1TRJh0tsKtE0f3qaItn5Xr3HJvfFpvb7QqvM9QxcbFKcJUofLifBUfb+LD+AVqj6/Tpt+v09aYobL3cyisrkSnCnerzB8+rXhiWcsXqNmngjU/VcEaq8LtQxXbO04RJq//9dnh8LKR/5xe+/5z7TunXb1TI/f79+ul91u8oNzL7tVLzbZsuYo/eVJ/2pakvklJiqp/rQu/0cpVvP0lrdj+kswxQxXbt4+irFLVyaM6ceyQqpsKhgEAQKsIswAACLrTOrpzibJcklQjd/GXOeqiRtUndsvdqeynRtXHd8t9vPUjm1Jbuk/u0s5MBaxRtWe33J5OXAKdVKPKfWu1Q75dACv3GSVM/JJ7p+qQivMPqbgNh9aW7lNx6b42HQsAAFpGmAUAQNCVy71lodytHwh0WRV7FmnrnlBXAQAAcDHWzAIAdEt1db75OyYT/9Sh7QL9EuifUKKHEQxdqacBAAgWfjoCAHRLVVW+hZp69OgR4kpgJIF+CfRPKNHDCIau1NMAAAQLYRYAoFsqKSmRJNnt9hBXAiMJ9Eugf0KJHkYwdKWeBgAgWAizAADdUlFRkSQpKSkpxJXASAL9EuifUKKHEQxdqacBAAgWwiwAQLe0f/9+SdLw4cNDXAmMJNAvgf4JJXoYwdCVehoAgGAhzAIAdEu5ubmqq6tTcnIy07TQJna7XcnJyaqrq1Nubm6oy6GH0WldracBAAgWwiwAQLdUVVWlHTt2SJIyMjJCXA2MINAnO3bs6BKLZdPD6Kyu1tMAAAQLYRYAoNvKzMyUJE2cOFFOpzPE1aArczqdmjhxoqSGvukK6GF0VFftaQAAgoEwCwDQbbndbm3YsEGSdM8998hk4p89XMxkMumee+6RJG3YsEFutzvEFTWgh9ERXbmnAQAIBn4iAgB0aytWrFBhYaESExN13333hbocdEH33XefEhMTVVhYqBUrVoS6nIvQw2ivrt7TAAB0ljkhIWFBqIsAAOBSOnjwoMaMGaOBAweqX79+ysnJ0blz50JdFkLMZDLp/vvv15gxY1RZWak//vGPKi8vD3VZTaKH0RZG6mkAADqDMAsA0O2Vl5fr4MGDSk1N1cCBAzVy5EgdO3ZMpaWloS4NIeJ0OvVv//ZvSk5OVmVlpd544w0VFhaGuqxm0cNojdF6GgCAzrgiPT2dX+sBAC4LDodDs2fPVmJioiRpy5YtyszMlMfjCXFl+LLY7XZlZGTUL4xdWFioxYsXG2ZNIXoYFzJ6TwMA0BGEWQCAy85dd92lyZMn1z/Oz89XXl6eDh06JI/HozNnzqiuri50BSIoTCaTevToIbvdrqSkJA0fPlzJycn1z2/YsMGw6wnRw5en7tzTAAC0B2EWAOCy5HA4lJGRoXHjxrFD3GWkrq5OO3bsUGZmpuFHrtDDkLpXTwMA0FaEWQCAy1pERIRGjRqlwYMHKz4+XnFxcYqIiCAc6Abq6upUVVWlkpISFRUVaf/+/crNzVVVVVWoSwsqevjycbn0NAAArSHMAgAAAAAAgGHwKzsAAAAAAAAYBmEWAAAAAAAADIMwCwAAAAAAAIZBmAUAAAAAAADDIMwCAAAAAACAYRBmAQAAAAAAwDAIswAAAAAAAGAYhFkAAAAAAAAwDMIsAAAAAAAAGAZhFgAAAAAAAAyDMAsAAAAAAACGQZgFAAAAAAAAwyDMAgAAAAAAgGEQZgEAAAAAAMAwCLMAAAAAAABgGIRZAAAAAAAAMAzCLAAAAAAAABgGYRYAAAAAAAAMgzALAAAAAAAAhkGYBQAAAAAAAMMgzAIAAAAAAIBhEGYBAAAAAADAMAizAAAAAAAAYBiEWQAAAAAAADAMwiwAAAAAAAAYBmEWAAAAAAAADIMwCwAAAAAAAIZBmAUAAAAAAADDIMwCAAAAAACAYRBmAQAAAAAAwDAIswAAAAAAAGAYhFkAAAAAAAAwDMIsAAAAAAAAGAZhFgAAAAAAAAyDMAsAAAAAAACGQZgFAAAAAAAAwyDMAgAAAAAAgGEQZgEAAAAAAMAwCLMAAAAAAABgGIRZAAAAAAAAMAzCLAAAAAAAABhG2IMPPhjqGgAAAAAAAIA2YWQWAAAAAAAADOOKEydOnAt1EQAAAAAAAEBbMDILAAAAAAAAhnFFeno6I7MAAAAAAABgCIzMAgAAAAAAgGEQZgEAAAAAAMAwCLMAAAAAAABgGIRZAAAAAAAAMAzCLAAAAAAAABgGYRYAAAAAAAAMgzALAAAAAAAAhkGYBQAAAAAAAMMgzAIAAAAAAIBhEGYBAAAAAADAMAizAAAAAAAAYBiEWQAAAAAAADAMwiwAAAAAAAAYBmEWAAAAAAAADIMwCwAAAAAAAIZBmAUAAAAAAADDIMwCAAAAAACAYRBmAQAAAAAAwDD+PyAJZ+qabN/aAAAAAElFTkSuQmCC\"></center>\n",
        "\n",
        "- Certains éditeurs de code hors ligne permettent également d'exécuter ces notebooks, comme Visual Studio Code (recommandé) ou PyCharm. Ils nécessitent toutefois vos propres ressources matérielles, donc dépendant de votre ordinateur.\n",
        "- Vous pouvez également, dans certaines configurations, avoir un serveur Jypyter Notebook qui tourne sur un ordinateur plus puissant ou un superordinateur, et y accéder à partir de votre navigateur web pour bénéficier de ses ressources matérielles sans utiliser celles de votre ordinateur."
      ],
      "metadata": {
        "id": "j7kQOqp6Qz67"
      }
    },
    {
      "cell_type": "markdown",
      "source": [
        "### **Ressources ayant permis ce cours**\n",
        "\n",
        "Le cours se base sur d'excellentes ressources disponibles sur internet ou en librairie (parfois également dispo sur ScholarVox en passant par l'ENT):\n",
        "- https://www.pythoncheatsheet.org/\n",
        "- https://quickref.me/python.html (super synthétique mais nécessite un adblocker +++)\n",
        "- Data Sciences Institute at the University of Toronto - https://github.com/UofT-DSI/python/tree/main\n",
        "- Apprendre à programmer avec Python - Gérard Swinnen\n",
        "- Automate the Boring Stuff with Python, 2nd Edition: Practical Programming for Total Beginners - Al Sweigart\n",
        "- Python Crash Course, 3rd Edition: A Hands-On, Project-Based Introduction to Programming - Eric Matthes\n",
        "- Programmation en Python pour les sciences de la vie, 1ère édition - Patrick Fuchs, Pierre Poulain\n",
        "- https://openclassrooms.com/fr/courses/7168871-apprenez-les-bases-du-langage-python\n"
      ],
      "metadata": {
        "id": "naLO592mXBHk"
      }
    },
    {
      "cell_type": "markdown",
      "source": [
        "### **Premiers pas avec un exemple**\n",
        "\n",
        "- La fonction `print()` permet d'afficher une sortie"
      ],
      "metadata": {
        "id": "pqJ1FtLzTyNr"
      }
    },
    {
      "cell_type": "code",
      "source": [
        "print(\"Première ligne en python!\")"
      ],
      "metadata": {
        "id": "I9UenU0LToSJ"
      },
      "execution_count": null,
      "outputs": []
    },
    {
      "cell_type": "markdown",
      "source": [
        "- Utiliser un `#` permet de créer un commentaire = Toute la ligne sera ignorée"
      ],
      "metadata": {
        "id": "1ue2NDg5T-iZ"
      }
    },
    {
      "cell_type": "code",
      "source": [
        "# Premier commentaire !\n",
        "print(\"Réussi\")"
      ],
      "metadata": {
        "id": "w_H40egOUGko"
      },
      "execution_count": null,
      "outputs": []
    },
    {
      "cell_type": "markdown",
      "source": [
        "- Python fonctionne pour certaines fonctions/commandes avec des **blocs d'instructions**, nécessitant des **indentations** (le plus souvent 4 espaces, ou une tabulation).\n",
        "- L'identation doit être homogène pour que tout fonctionne parfaitement. **La convention est donc d'utiliser 4 espèces pour une indentation** dans tous les scripts codés en python.\n",
        "- Ce concept sera vu plus tard avec les boucles, les comparaisons, les tests, etc.\n",
        "\n",
        "\n",
        "\n",
        "```\n",
        "elements = [1,2,3,4]\n",
        "sortie vide\n",
        "pour chaque élément dans elements:\n",
        "    afficher élément\n",
        "    compléter progressivement une sortie\n",
        "afficher sortie\n",
        "```\n",
        "\n"
      ],
      "metadata": {
        "id": "owWM57nYUNW0"
      }
    },
    {
      "cell_type": "markdown",
      "source": [
        "- Vous pouvez parfois rencontrer un `\\` en fin de ligne: cela permet de couper la ligne de code pour la coder sur plusieurs lignes, mais qui sera interprété comme une unique grande ligne."
      ],
      "metadata": {
        "id": "a6vs96tpsFWV"
      }
    },
    {
      "cell_type": "code",
      "source": [
        "print(\"C'est encore une fois réussi, par contre ce commentaire est vraiment \\\n",
        "mais vraiment beaucoup trop long. Tellement long que je n'arrive pas à \\\n",
        "le lire correctement. Heureusement que Python est un minimum intelligent \\\n",
        "et va tout rassembler ce paragraphe dans une seule ligne !\")"
      ],
      "metadata": {
        "id": "XJZ7cpxysUm-"
      },
      "execution_count": null,
      "outputs": []
    },
    {
      "cell_type": "markdown",
      "source": [
        "<br />\n",
        "\n",
        "---   "
      ],
      "metadata": {
        "id": "j4wtlrG3zcMn"
      }
    },
    {
      "cell_type": "markdown",
      "source": [
        "# **➤ Variables?**\n",
        "\n",
        "- Élément fondamental pour stocker des informations\n",
        "- Déclaration d'une variable = Initialisation\n",
        "- Possède un nom\n",
        "- Fonctionne comme une boîte, accessible et manipulable à façon\n",
        "\n",
        "<br />\n",
        "\n",
        "Les variables permettent de:\n",
        "- **Stocker des valeurs**: Une donnée numérique, une chaîne de caractères, ou des formats bien plus complexes qui seront abordés progressivement\n",
        "- **Réutiliser les données**: Une fois la valeur stockée, elle peut être réutilisée autant de fois que souhaité sans réécrire la valeur\n",
        "- **Simplifier le code**: Rend le code plus lisible et facile à modifier. La variable peut être modifiée directement en amont sans devoir modifier l'entièreté du code.\n",
        "- **Rendre le programme dynamique**: Rend un programme adaptable en fonction de l'utilisateur/conditions, et prend en compte ces changements au cours de l'exécution du code.\n"
      ],
      "metadata": {
        "id": "39A7FM0l1baR"
      }
    },
    {
      "cell_type": "markdown",
      "source": [
        "<h2><b> Comment définir une variable ? </b></h2>\n",
        "\n",
        "- Lui donner un nom\n",
        "- Utiliser le symbole = pour l'assignation\n",
        "- Lui attribuer une valeur\n",
        "\n",
        "Exemples:"
      ],
      "metadata": {
        "id": "27FBt1oB6X9g"
      }
    },
    {
      "cell_type": "code",
      "source": [
        "nom = \"Mélatonine\"\n",
        "dose = 5\n",
        "concentration = 1.5"
      ],
      "metadata": {
        "id": "Z6-pk3J76XzI"
      },
      "execution_count": null,
      "outputs": []
    },
    {
      "cell_type": "markdown",
      "source": [
        "<br />\n",
        "\n",
        "---   "
      ],
      "metadata": {
        "id": "M_DoZkM4K63r"
      }
    },
    {
      "cell_type": "markdown",
      "source": [
        "# **➤ Règles de nommage:**\n",
        "\n",
        "Le nom des variables en Python ne peut être constitué que de:\n",
        "- Lettres minuscules (a - z)\n",
        "- Lettres majuscules (A - Z)\n",
        "- Chiffres (0 - 9)\n",
        "- Tiret bas _ (aussi appelé \"tiret du 8\", ou encore underscore)\n",
        "\n",
        "<br />\n",
        "\n",
        "Autres règles:\n",
        "- Les noms de variables sont sensibles à la casse: deux noms avec des majuscules différentes sont des variables différentes, par exemple \"valeur_nom\" et \"valeur_Nom\" sont différentes.\n",
        "- Impossible de débuter un nom de variable par un chiffre\n",
        "- Pas recommandé de débuter par un tiret bas (réservé aux variables internes), ni une majuscule (réservé aux classes)\n",
        "- Éviter d'utiliser un mot déjà utilisé pour certaines fonctions (print, type, for, if, ...)\n",
        "\n",
        "<br />\n",
        "\n",
        "Bonnes pratiques:\n",
        "- **Noms explicites**: Utiliser des noms qui décrivent le contenu de la variable\n",
        "- **Respecter les conventions**: Utiliser que des minuscules avec des underscores pour séparer les mots\n",
        "- **Eviter les mots réservés** : Pour ne pas perdre l'accès aux fonctions les plus utiles\n",
        "\n",
        "<br />\n",
        "\n",
        "Exemples:"
      ],
      "metadata": {
        "id": "fn8RVidfGipL"
      }
    },
    {
      "cell_type": "code",
      "source": [
        "nom_medicament = \"Mélatonine\"\n",
        "nom_Medicament = \"Paracétamol\"\n",
        "poids_patient = 70\n",
        "dose_mg = 5\n",
        "\n",
        "print(nom_medicament)\n",
        "print(nom_Medicament)"
      ],
      "metadata": {
        "id": "4qyevjnXGhVE"
      },
      "execution_count": null,
      "outputs": []
    },
    {
      "cell_type": "markdown",
      "source": [
        "<br />\n",
        "\n",
        "---   \n"
      ],
      "metadata": {
        "id": "vIH7h_mWK_As"
      }
    },
    {
      "cell_type": "markdown",
      "source": [
        "# **➤ Types de variables:**\n",
        "\n",
        "Il existe 4 grands types de variables utilisées couramment en python:\n",
        "\n",
        "- Entiers (int)\n",
        "- Nombres décimaux (float)   \n",
        "- Chaînes de caractères (str)\n",
        "- Booléens (bool)"
      ],
      "metadata": {
        "id": "Gz5UacZAKH9w"
      }
    },
    {
      "cell_type": "markdown",
      "source": [
        "### **Entiers = Integers (int)**\n",
        "\n",
        "- Utilisé pour stocker des **nombres entiers**\n",
        "- Adapté pour des valeurs quantitatives ou discrètes\n",
        "- Type = `int`"
      ],
      "metadata": {
        "id": "HO2os1smKwk0"
      }
    },
    {
      "cell_type": "code",
      "source": [
        "poids_patient = 70\n",
        "dose_mg = 5"
      ],
      "metadata": {
        "id": "LICqvpbQLWC1"
      },
      "execution_count": null,
      "outputs": []
    },
    {
      "cell_type": "markdown",
      "source": [
        "### **Nombre décimaux, à virgule flottante = Floats (float)**\n",
        "\n",
        "- Utilisé pour stocker des **nombres décimaux**\n",
        "- Adapté pour les calculs nécessitant des précisions\n",
        "- **Séparateur = POINT** (et non pas virgule)\n",
        "- Type = `float`"
      ],
      "metadata": {
        "id": "mOMB3oCTLart"
      }
    },
    {
      "cell_type": "code",
      "source": [
        "concentration = 1.5\n",
        "poids = 82.6"
      ],
      "metadata": {
        "id": "3YpzJpmZL3Hl"
      },
      "execution_count": null,
      "outputs": []
    },
    {
      "cell_type": "markdown",
      "source": [
        "### **Chaînes de caractères = Strings (str)**\n",
        "\n",
        "- Utilisé pour stocker du texte ou des séquences de caractères\n",
        "- Adapté pour manipuler des noms, codes, catégories, informations descriptives, ...\n",
        "- Tous les caractères sont acceptés\n",
        "- Défini par des guillemets \" ou des apostrophes ' (un même type doit être utilisé au début et à la fin du string)\n",
        "- Type = `str`\n",
        "- Caractères spéciaux (\"escape characters\"):\n",
        "    - `\\\"` ou `\\'` = Pour permettre d'utiliser des guillemets et apostrophes dans le texte sans ouvrir/fermer la variable. Si \" est utilisé pour créer la variable, ' peut être utilisé directement dans le string, et inversement.\n",
        "    - `\\n` = Nouvelle ligne\n",
        "    - `\\t` = Tabulation\n",
        "    - `\\r` = Retour en début de ligne (très peu utilisé, sauf Windows)\n",
        "    - `\\uXXXX` pour utiliser un identifiant Unicode (exemple `\\u03B1` code pour α) - https://symbl.cc/en/unicode-table/\n",
        "\n",
        "\n"
      ],
      "metadata": {
        "id": "tSZFjUEJLbk1"
      }
    },
    {
      "cell_type": "code",
      "source": [
        "nom_medicament = \"Paracétamol\"\n",
        "nom_princeps1 = 'Doliprane'\n",
        "\n",
        "description1 = \"Il s'agit d'un médicament.\"\n",
        "\n",
        "description2 = \"Il lui a prescript du \\\"Doliprane\\\" effervescent.\"\n",
        "print(description2)"
      ],
      "metadata": {
        "id": "Sf-LQidjM1IA"
      },
      "execution_count": null,
      "outputs": []
    },
    {
      "cell_type": "code",
      "source": [
        "test_stat = \"Le risque \\u03B1 est fixé à 5%\"\n",
        "print(test_stat)"
      ],
      "metadata": {
        "id": "ktPf0H5gVps1"
      },
      "execution_count": null,
      "outputs": []
    },
    {
      "cell_type": "code",
      "source": [
        "# Cas spécifique, 3 guillemets/apostrophes peuvent également être utilisées. Principalement utilisé pour définir des variables sur plusieurs lignes\n",
        "nom_princeps2 = \"\"\"Dafalgan\"\"\"\n",
        "description3 = \"\"\"Le patient est sorti d'affaire.\n",
        "Il a bien pris son médicament.\"\"\"\n",
        "\n",
        "print(description3)"
      ],
      "metadata": {
        "id": "8rpA7VOIVdY3"
      },
      "execution_count": null,
      "outputs": []
    },
    {
      "cell_type": "markdown",
      "source": [
        "### **Booléens = Booleans (bool)**\n",
        "\n",
        "- Représente des valeurs logiques:\n",
        "- **`True`** = VRAI\n",
        "- **`False`** = FAUX\n",
        "- Toujours une majuscule en début de mot\n",
        "- Adapté dans des conditions, des décisions logiques\n",
        "- Exemple pour vérifier si une condition est remplie ou non\n",
        "- Type = `bool`"
      ],
      "metadata": {
        "id": "1_83zZV9LcO-"
      }
    },
    {
      "cell_type": "code",
      "source": [
        "a_fievre = True\n",
        "traitement_efficace = False\n",
        "dose_valide = True"
      ],
      "metadata": {
        "id": "5HOWPPOwKGfF"
      },
      "execution_count": null,
      "outputs": []
    },
    {
      "cell_type": "markdown",
      "source": [
        "<br />\n",
        "\n",
        "---   "
      ],
      "metadata": {
        "id": "qs-fmz_MRgay"
      }
    },
    {
      "cell_type": "markdown",
      "source": [
        "# **➤ Opérations sur les variables:**\n",
        "\n",
        "Chaque type de variable permet d'utiliser un ensemble d'opérations pour réaliser des calculs, des comparaisons, des transformations, ..."
      ],
      "metadata": {
        "id": "Hm8oOvW8Rhb6"
      }
    },
    {
      "cell_type": "markdown",
      "source": [
        "### Opérations sur les entiers et nombres à virgules (éléments numériques)\n",
        "\n",
        "Les ints et floats permettent de réaliser des opérations mathématiques basiques:\n",
        "\n",
        "| Opération           | Symbole | Exemple      | Résultat                  |\n",
        "|---------------------|---------|--------------|---------------------------|\n",
        "| Addition            | `+`     | `5 + 3`      | `8`                       |\n",
        "| Soustraction        | `-`     | `10 - 4`     | `6`                       |\n",
        "| Multiplication      | `*`     | `7 * 2`      | `14`                      |\n",
        "| Division            | `/`     | `15 / 3`     | `5.0` (toujours un float) |\n",
        "| Exponentiation      | `**`    | `2 ** 3`     | `8`                       |\n",
        "| Division entière    | `//`    | `7 // 2`     | `3` (arrondit vers le bas)|\n",
        "| Modulo (reste)      | `%`     | `10 % 3`     | `1` (reste de la division)|\n",
        "\n",
        "<br /> Exemples:"
      ],
      "metadata": {
        "id": "8LzCjkLmR3VL"
      }
    },
    {
      "cell_type": "code",
      "source": [
        "dose_journaliere = 1.5\n",
        "jours_traitement = 10\n",
        "\n",
        "dose_totale = dose_journaliere * jours_traitement\n",
        "print(dose_totale)"
      ],
      "metadata": {
        "id": "adiVb87AVHfk"
      },
      "execution_count": null,
      "outputs": []
    },
    {
      "cell_type": "code",
      "source": [
        "patients = 3\n",
        "doses_totales = 50\n",
        "doses_par_patient = doses_totales // patients\n",
        "print(doses_par_patient)"
      ],
      "metadata": {
        "id": "4_Z3SiQyVOrW"
      },
      "execution_count": null,
      "outputs": []
    },
    {
      "cell_type": "markdown",
      "source": [
        "### Opérations sur les chaînes de caractères\n",
        "\n",
        "Les strings permettent des opérations de concaténation (= combinaison) et de répétition:\n",
        "\n",
        "| Opération           | Symbole | Exemple               | Résultat                       |\n",
        "|---------------------|---------|-----------------------|--------------------------------|\n",
        "| Concatenation       | `+`     | `\"Prénom : \" + \"Robert\"`| `\"Prénom : Robert\"`               |\n",
        "| Répétition          | `*`     | `\"Non \" * 3`     | `\"Non Non Non \"`   |\n"
      ],
      "metadata": {
        "id": "o-9beViZSTIG"
      }
    },
    {
      "cell_type": "markdown",
      "source": [
        "### Opérations logiques et comparaisons (bool)\n",
        "\n",
        "Les opérations sur les booléens permettent de réaliser des comparaisons, des opérations logiques, ...\n",
        "\n",
        "| Opération           | Symbole | Exemple                  | Résultat                  |\n",
        "|---------------------|---------|--------------------------|---------------------------|\n",
        "| Égalité             | `==`    | `5 == 5`                | `True`                    |\n",
        "| Inégalité           | `!=`    | `5 != 4`                | `True`                    |\n",
        "| Plus grand que      | `>`     | `10 > 5`                | `True`                    |\n",
        "| Plus petit que      | `<`     | `3 < 5`                 | `True`                    |\n",
        "| Plus grand ou égal  | `>=`    | `5 >= 5`                | `True`                    |\n",
        "| Plus petit ou égal  | `<=`    | `3 <= 4`                | `True`                    |\n",
        "| ET logique          | `and`   | `(a > b) and (a > c)`   | `True` si les deux sont vrais |\n",
        "| OU logique          | `or`    | `(a > b) or (a > c)`    | `True` si au moins un est vrai|\n",
        "| Négation            | `not`   | `not(a > b)`            | `False` si `a > b` est vrai|\n"
      ],
      "metadata": {
        "id": "ABTJGZjNTEEr"
      }
    },
    {
      "cell_type": "markdown",
      "source": [
        "### Conversions de types\n",
        "\n",
        "Les conversions permettent de transformer un type de variable en un autre. Utile quand des opérations impliquent plusieurs types (pour rappel, la fonction \"print\" n'accepte qu'un seul type de variable, sauf en cas de conversion vers le type utilisé).\n",
        "\n",
        "La conversion ne fonctionne que si, après conversion, la valeur peut être attribuée:\n",
        "- De valeurs numériques et bool à string, pas de problème\n",
        "- De string à valeur numérique, seulement si le string ne contient qu'un texte d'une valeur numérique\n",
        "- De string à bool, seul le chiffre 0 donnera False, tout le reste donnera True\n",
        "\n",
        "\n",
        "| Fonction        | Description                                | Exemple           | Résultat                |\n",
        "|-----------------|-------------------------------------------|-------------------|-------------------------|\n",
        "| `int()`         | Convertit en entier                       | `int(3.6)`       | `3`                     |\n",
        "| `float()`       | Convertit en nombre décimal               | `float(\"3.6\")`   | `3.6`                   |\n",
        "| `str()`         | Convertit en chaîne de caractères         | `str(5)`         | `\"5\"`                   |\n",
        "| `bool()`        | Convertit en booléen (0 = False, 1+ = True) | `bool(0)`, `bool(10)` | `False`, `True` |"
      ],
      "metadata": {
        "id": "61oOiuwUTJAb"
      }
    },
    {
      "cell_type": "markdown",
      "source": [
        "### Quelques fonctions utiles\n",
        "\n",
        "- **`min()`** : Permet de renvoyer le minimum de plusieurs integers/floats.\n",
        "- **`max()`** : Permet de renvoyer le maximum de plusieurs integers/floats."
      ],
      "metadata": {
        "id": "gE2oiOkvyY0t"
      }
    },
    {
      "cell_type": "code",
      "source": [
        "min(1,2,3,4)"
      ],
      "metadata": {
        "id": "DBa7wje_0spu"
      },
      "execution_count": null,
      "outputs": []
    },
    {
      "cell_type": "code",
      "source": [
        "max(1.3, 2.5, 6)"
      ],
      "metadata": {
        "id": "y3AbkFDk0uvN"
      },
      "execution_count": null,
      "outputs": []
    },
    {
      "cell_type": "code",
      "source": [
        "min(5/6, 1/3, 8/7, 2)"
      ],
      "metadata": {
        "id": "O_Ww4t190x6B"
      },
      "execution_count": null,
      "outputs": []
    },
    {
      "cell_type": "markdown",
      "source": [
        "\\- - - - - - - - - - - - - - - - - - - - - - - - - - - - - - - - - - - - - - - - - - - - - - - - - - - - - - - - - - - - - - - - - - - - - - - - - - - - - - -\n",
        "\n",
        "- **`print():`**\n",
        "    - Peut être utilisée en plus de la concaténation des strings pour pouvoir créer une sortie complexe. Dans ce cas, print n'accepte qu'un seul type de variable. Si des strings sont utilisés, tous les autres variables doivent être converties en string. Si des éléments numériques sont utilisés, cela réalisera l'opération mathématique avant l'affichage.\n",
        "    - Plusieurs variables peuvent être données à la suite, séparées par des virgules, permettant d'afficher les éléments sans les convertir au préalable. Un espace sera utilisé par défaut pour séparer les éléments.\n",
        "    - Possède des arguments supplémentaires,comme:\n",
        "        - `end=\"X\"` qui permet de préciser quel sera le suffixe à la fin de l'affichage.\n",
        "        - `sep=\"X\"` qui permet de préciser quel sera le séparateur utilisé lors d'un affichage avec plusieurs variables renseignées et séparées par des virgules."
      ],
      "metadata": {
        "id": "GbNGDIHQ0k3t"
      }
    },
    {
      "cell_type": "code",
      "source": [
        "nom_patient = \"Robert\"\n",
        "medicament = \"Paracétamol\"\n",
        "duree_traitement = 5\n",
        "\n",
        "print(nom_patient + \" doit prendre du \" + medicament + \" pendant \" + str(duree_traitement) + \" jours.\")"
      ],
      "metadata": {
        "id": "-TspENMfzvci"
      },
      "execution_count": null,
      "outputs": []
    },
    {
      "cell_type": "code",
      "source": [
        "print(nom_patient, \"doit prendre du\", medicament, \"pendant\", duree_traitement, \" jours.\")"
      ],
      "metadata": {
        "id": "qkmXhhYe5ZQQ"
      },
      "execution_count": null,
      "outputs": []
    },
    {
      "cell_type": "code",
      "source": [
        "print(nom_patient, \"doit prendre du\", medicament, \"pendant\", duree_traitement, \"jours.\", sep = \"-\")"
      ],
      "metadata": {
        "id": "hmf90yKF5t9a"
      },
      "execution_count": null,
      "outputs": []
    },
    {
      "cell_type": "markdown",
      "source": [
        "\\- - - - - - - - - - - - - - - - - - - - - - - - - - - - - - - - - - - - - - - - - - - - - - - - - - - - - - - - - - - - - - - - - - - - - - - - - - - - - - -\n",
        "\n",
        "- **Opérateurs d'affectation augmentée:**\n",
        "    - Pour simplifier le code, Python permet d'utiliser des \"opérateurs d'affectation augmentée\" qui permet de raccourcir la modification d'une variable par un opérateur.\n",
        "    - Au lieu de `a = a + 1`, il est possible d'utiliser `a += 1`\n",
        "    - Fonctionn avec:\n",
        "        - Additions `+=`\n",
        "        - Soustractions `-=`\n",
        "        - Divisions `/=` et `//=`\n",
        "        - Modulo `%=`\n",
        "        - Multiplications et puissance `*=` et `**=`\n"
      ],
      "metadata": {
        "id": "b3LPGKeST9eU"
      }
    },
    {
      "cell_type": "code",
      "source": [
        "duree_traitement = 5\n",
        "\n",
        "duree_traitement += 3\n",
        "print(\"Durée du traitement +3 jours =\", duree_traitement, \"jours\")\n",
        "\n",
        "duree_traitement /= 2\n",
        "print(\"Durée du traitement divisé par deux =\", duree_traitement, \"jours\")"
      ],
      "metadata": {
        "id": "z8JX86zzUbyO"
      },
      "execution_count": null,
      "outputs": []
    },
    {
      "cell_type": "markdown",
      "source": [
        "\\- - - - - - - - - - - - - - - - - - - - - - - - - - - - - - - - - - - - - - - - - - - - - - - - - - - - - - - - - - - - - - - - - - - - - - - - - - - - - - -\n",
        "\n",
        "- **Ecriture formatée par l'utilisation de f-strings**\n",
        "    - Permet encore plus de personnalisation au niveau des strings\n",
        "    - Nécessite juste un `f` avant le string, exemple `f\"Robert\"`\n",
        "    - Une variable peut être placée sans problème et sans conversion dans un f-string avec des accolades, et le nom de la variable au milieu, exemple `f\"Robert a {age} ans.\"`\n",
        "    - Des opérations, des fonctions, ou autres expressions, peuvent être directement utilisées au sein des accolades d'un f-string, exemple `f\"Robert possède {doigts_droite + doigts_gauche} doigts.\"`\n",
        "    - Des modificateurs peuvent être ajoutés pour formater l'affichage à l'aide du symbole deux points `:` après le nom de la variable\n",
        "    - Exemple pour n'afficher seulement que les 2 premières décimales = `f\"Robert a une glycémie de {glycemie:.2f} g/L.\"`\n",
        "    - Si des accolades doivent être utilisées dans le texte, il faut les doubler, exemple `Accolades littérales {{}} ou {{ ou }}`\n",
        "  \n",
        "Autres modificateurs possibles:\n",
        "\n",
        "| Modificateur | Description                                                                                      | Exemple                            | Résultat                        |\n",
        "|--------------|--------------------------------------------------------------------------------------------------|------------------------------------|---------------------------------|\n",
        "| `:.nf`       | Affiche un nombre flottant avec `n` décimales.                                                   | `f\"{3.14159:.2f}\"`                 | `3.14`                          |\n",
        "| `:d`         | Affiche un entier en notation décimale.                                                          | `f\"{42:d}\"`                        | `42`                            |\n",
        "| `:x`         | Affiche un entier en hexadécimal (minuscule).                                                    | `f\"{255:x}\"`                       | `ff`                            |\n",
        "| `:X`         | Affiche un entier en hexadécimal (majuscule).                                                    | `f\"{255:X}\"`                       | `FF`                            |\n",
        "| `:b`         | Affiche un entier en binaire.                                                                    | `f\"{10:b}\"`                        | `1010`                          |\n",
        "| `:,`         | Ajoute une virgule comme séparateur de milliers (en notation décimale).                          | `f\"{1000000:,}\"`                   | `1,000,000`                     |\n",
        "| `:_`         | Ajoute un souligné `_` comme séparateur de milliers (notation numérique européenne).             | `f\"{1000000:_}\"`                   | `1_000_000`                     |\n",
        "| `:%`         | Affiche un nombre en pourcentage (multiplie par 100 et ajoute `%`).                              | `f\"{0.85:%}\"`                      | `85.000000%`                    |\n",
        "| `:.n%`       | Affiche un nombre en pourcentage avec `n` décimales.                                             | `f\"{0.85:.1%}\"`                    | `85.0%`                         |\n",
        "| `:e`         | Affiche un nombre en notation scientifique (exposant minuscule).                                 | `f\"{12345:e}\"`                     | `1.234500e+04`                  |\n",
        "| `:E`         | Affiche un nombre en notation scientifique (exposant majuscule).                                 | `f\"{12345:E}\"`                     | `1.234500E+04`                  |\n",
        "| `:>n`        | Aligne le texte à droite, avec une largeur de `n` caractères.                                    | `f\"{42:>5}\"`                       | `   42`                         |\n",
        "| `:<n`        | Aligne le texte à gauche, avec une largeur de `n` caractères.                                    | `f\"{42:<5}\"`                       | `42   `                         |\n",
        "| `:^n`        | Centre le texte, avec une largeur de `n` caractères.                                             | `f\"{42:^5}\"`                       | ` 42  `                         |\n",
        "| `:0n`        | Remplit avec des zéros à gauche, pour une largeur de `n` caractères.                             | `f\"{42:05}\"`                       | `00042`                         |"
      ],
      "metadata": {
        "id": "vJcmAFiP5476"
      }
    },
    {
      "cell_type": "code",
      "source": [
        "texte = f\"Robert\"\n",
        "print(texte)"
      ],
      "metadata": {
        "id": "ZdQBs6qt6xyT"
      },
      "execution_count": null,
      "outputs": []
    },
    {
      "cell_type": "code",
      "source": [
        "age = 55\n",
        "texte = f\"Robert a {age} ans.\"\n",
        "print(texte)"
      ],
      "metadata": {
        "id": "imTBuAgP63zZ"
      },
      "execution_count": null,
      "outputs": []
    },
    {
      "cell_type": "code",
      "source": [
        "glycemie = 1.04589\n",
        "texte = f\"Robert a une glycémie de {glycemie:.2f} g/L.\"\n",
        "print(texte)"
      ],
      "metadata": {
        "id": "mnIVb6eQ768l"
      },
      "execution_count": null,
      "outputs": []
    },
    {
      "cell_type": "markdown",
      "source": [
        "<br />\n",
        "\n",
        "---   "
      ],
      "metadata": {
        "id": "_v9E9HqyvEYe"
      }
    },
    {
      "cell_type": "markdown",
      "source": [
        "# **➤ Exercices:**"
      ],
      "metadata": {
        "id": "8RpoKAFhu2HB"
      }
    },
    {
      "cell_type": "markdown",
      "source": [
        "**<u>Exercice 1:</u>** Essayez de prédire le résultat de chacune des lignes suivantes:\n",
        "1. `(1+2)**3`\n",
        "2. `(\"Pa\"+\"La\") * 2`\n",
        "3. `5 / 2`\n",
        "4. `5 // 2`\n",
        "5. `5 % 2`\n",
        "6. `str(4) * int(\"3\")`\n",
        "7. `int(\"3\") + float(\"3.2\")`\n",
        "8. `str(3) * float(\"3.2\")`\n",
        "9. `str(3/4) * 2`"
      ],
      "metadata": {
        "id": "m2FOMZsJ_6Ob"
      }
    },
    {
      "cell_type": "code",
      "source": [
        "# Exercice 1:\n",
        "\n",
        "# 1. =\n",
        "# 2. =\n",
        "# 3. =\n",
        "# 4. =\n",
        "# 5. =\n",
        "# 6. =\n",
        "# 7. =\n",
        "# 8. =\n",
        "# 9. ="
      ],
      "metadata": {
        "id": "EEUgTQP8AV25"
      },
      "execution_count": null,
      "outputs": []
    },
    {
      "cell_type": "markdown",
      "source": [
        "**<u>Exercice 2:</u>**\n",
        "Créez un script qui permet de faire une conversion des concentrations de mg/L à g/L"
      ],
      "metadata": {
        "id": "GYbygKBtv_HT"
      }
    },
    {
      "cell_type": "code",
      "source": [
        "# Exercice 2:\n",
        "\n",
        "\n",
        "\n"
      ],
      "metadata": {
        "id": "HE0CUFpHwBtk"
      },
      "execution_count": null,
      "outputs": []
    },
    {
      "cell_type": "markdown",
      "source": [
        "**<u>Exercice 3:</u>** Sans taper littéralement toutes les bases, générez:\n",
        "1. Un string représentant un brin d'ADN polyA (ne contenant que des bases A) de 30 bases de longueur\n",
        "2. Un string représentant un brin d'ADN poly-A de 20 bases, suivi d'un poly-GC (GCGCGC...) de 40 bases.\n",
        "3. Affichez le contenu de la variable `perc_GC = ((4500 + 2575)/14800)*100` avec 0, 1, 2, puis 3 décimales sous forme arrondie en utilisant l'écriture formatée et les f-strings. On souhaite que le programme affiche la sortie suivante:\n",
        "```\n",
        "Le pourcentage de GC est 48     %\n",
        "Le pourcentage de GC est 47.8   %\n",
        "Le pourcentage de GC est 47.80  %\n",
        "Le pourcentage de GC est 47.804 %\n",
        "```\n",
        "\n"
      ],
      "metadata": {
        "id": "Xhxw4fxC_Tm2"
      }
    },
    {
      "cell_type": "code",
      "source": [
        "# Exercice 3 - Partie 1:\n",
        "\n"
      ],
      "metadata": {
        "id": "8NA8iexF_42d"
      },
      "execution_count": null,
      "outputs": []
    },
    {
      "cell_type": "code",
      "source": [
        "# Exercice 3 - Partie 2:\n",
        "\n"
      ],
      "metadata": {
        "id": "EQGDpaOgBklv"
      },
      "execution_count": null,
      "outputs": []
    },
    {
      "cell_type": "code",
      "source": [
        "# Exercice 3 - Partie 3:\n",
        "\n"
      ],
      "metadata": {
        "id": "aWSsiGr5Bk5G"
      },
      "execution_count": null,
      "outputs": []
    },
    {
      "cell_type": "markdown",
      "source": [
        "**<u>Exercice 4:</u>**\n",
        "\n",
        "1. Créez un script pour calculer l'IMC d'un individu qui pèse 70kg et mesure 1m70. Il est nécessaire de fournir une sortie qui génère une phrase du style \"L'individu pesant X et mesurant X possède une IMC de X\", avec un arrondi à la 1ère décimale.\n",
        "3. Copiez ensuite votre script pour ne modifier que vos variables, et mesurer l'IMC d'un individu qui pèse 110kg pour 1m98.\n",
        "\n",
        "Pour rappel: $\\text{IMC} = \\frac{\\text{Poids (en kg)}}{\\left(\\text{Taille (en m)}\\right)^2}$"
      ],
      "metadata": {
        "id": "2jrDMVSLvNDS"
      }
    },
    {
      "cell_type": "code",
      "source": [
        "# Exercice 4 - Partie 1:\n",
        "\n"
      ],
      "metadata": {
        "id": "V-aG5C6ywBTx"
      },
      "execution_count": null,
      "outputs": []
    },
    {
      "cell_type": "code",
      "source": [
        "# Exercice 4 - Partie 2:\n",
        "\n"
      ],
      "metadata": {
        "id": "c8HnI2jRB9cF"
      },
      "execution_count": null,
      "outputs": []
    },
    {
      "cell_type": "markdown",
      "source": [
        "**<u>Exercice 5:</u>**\n",
        "Créez un script pour convertir les degrés Fahrenheit en degrés Celcius, puis de degrés Celcius à Fahrenheit.\n",
        "\n",
        "Pour rappel:\n",
        "- $\\text{Celsius (°C)} = \\frac{5}{9} \\times (\\text{Fahrenheit (°F)} - 32)$\n",
        "- $\\text{Fahrenheit (°F)} = \\left(\\text{Celsius (°C)} \\times \\frac{9}{5}\\right) + 32$"
      ],
      "metadata": {
        "id": "RZv59TwdvzDf"
      }
    },
    {
      "cell_type": "code",
      "source": [
        "# Exercice 5 - Partie 1:\n",
        "\n"
      ],
      "metadata": {
        "id": "yPnMgJ3GyOH6"
      },
      "execution_count": null,
      "outputs": []
    },
    {
      "cell_type": "code",
      "source": [
        "# Exercice 5 - Partie 2:\n",
        "\n"
      ],
      "metadata": {
        "id": "f2GmdkTTCAI2"
      },
      "execution_count": null,
      "outputs": []
    }
  ]
}